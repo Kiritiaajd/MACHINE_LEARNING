{
 "cells": [
  {
   "cell_type": "code",
   "execution_count": 17,
   "metadata": {},
   "outputs": [
    {
     "name": "stdout",
     "output_type": "stream",
     "text": [
      "{(1, 2, 3, 4, 5, 3, 4)}\n",
      "<class 'set'>\n"
     ]
    }
   ],
   "source": [
    "dic = {}\n",
    "dic = {(1 , 2, 3, 4, 5, 3, 4)}\n",
    "print(dic)  # {1, 2, 3, 4, 5}\n",
    "print(type(dic))"
   ]
  },
  {
   "cell_type": "code",
   "execution_count": 18,
   "metadata": {},
   "outputs": [
    {
     "name": "stdout",
     "output_type": "stream",
     "text": [
      "{'name': 'John', 'age': 25, 'grade': 90}\n"
     ]
    }
   ],
   "source": [
    "students = {'name'  : 'John', 'age' : 25, 'grade' : 90}\n",
    "print(students)  # prints: John"
   ]
  },
  {
   "cell_type": "code",
   "execution_count": 19,
   "metadata": {},
   "outputs": [
    {
     "name": "stdout",
     "output_type": "stream",
     "text": [
      "John\n"
     ]
    }
   ],
   "source": [
    "# Accessing the Dictonary Elements \n",
    "print(students['name'])"
   ]
  },
  {
   "cell_type": "code",
   "execution_count": 20,
   "metadata": {},
   "outputs": [
    {
     "name": "stdout",
     "output_type": "stream",
     "text": [
      "90\n",
      "25\n",
      "None\n",
      "Not Available\n"
     ]
    }
   ],
   "source": [
    "print(students.get('grade'))\n",
    "print(students.get('age'))\n",
    "print(students.get('last_name'))\n",
    "print(students.get('last_name' , \"Not Available\"))"
   ]
  },
  {
   "cell_type": "code",
   "execution_count": 21,
   "metadata": {},
   "outputs": [
    {
     "name": "stdout",
     "output_type": "stream",
     "text": [
      "{'name': 'John', 'age': 25, 'grade': 90}\n"
     ]
    }
   ],
   "source": [
    "# Modifying Dictonary Elements \n",
    "# Dictonary are mutable , so you can add , update , or delete element\n",
    "print(students)"
   ]
  },
  {
   "cell_type": "code",
   "execution_count": 22,
   "metadata": {},
   "outputs": [
    {
     "name": "stdout",
     "output_type": "stream",
     "text": [
      "{'name': 'John', 'age': 24, 'grade': 90}\n",
      "{'name': 'John', 'age': 24, 'grade': 90, 'address': 'india'}\n"
     ]
    }
   ],
   "source": [
    "students['age'] = 24 # Update the value \n",
    "print(students)  # {'name': 'John', 'age': 24}\n",
    "students['address'] = 'india' # added a new key and value \n",
    "print(students)"
   ]
  },
  {
   "cell_type": "code",
   "execution_count": 23,
   "metadata": {},
   "outputs": [
    {
     "name": "stdout",
     "output_type": "stream",
     "text": [
      "{'name': 'John', 'age': 24, 'address': 'india'}\n"
     ]
    }
   ],
   "source": [
    "# Deleting the key \n",
    "# del students['grade']\n",
    "print(students)"
   ]
  },
  {
   "cell_type": "code",
   "execution_count": 26,
   "metadata": {},
   "outputs": [
    {
     "name": "stdout",
     "output_type": "stream",
     "text": [
      "dict_keys(['name', 'age', 'address'])\n"
     ]
    }
   ],
   "source": [
    "# key of dic \n",
    "key_dic  = students.keys()\n",
    "print(key_dic)"
   ]
  },
  {
   "cell_type": "code",
   "execution_count": 27,
   "metadata": {},
   "outputs": [
    {
     "name": "stdout",
     "output_type": "stream",
     "text": [
      "dict_values(['John', 24, 'india'])\n"
     ]
    }
   ],
   "source": [
    "# valus of keys \n",
    "values  = students.values()\n",
    "print(values)"
   ]
  },
  {
   "cell_type": "code",
   "execution_count": 28,
   "metadata": {},
   "outputs": [
    {
     "name": "stdout",
     "output_type": "stream",
     "text": [
      "dict_items([('name', 'John'), ('age', 24), ('address', 'india')])\n"
     ]
    }
   ],
   "source": [
    "# Key value pair \n",
    "items = students.items()\n",
    "print(items)  # Output: dict_items([('John', 20), ('Alice', 22"
   ]
  },
  {
   "cell_type": "code",
   "execution_count": 29,
   "metadata": {},
   "outputs": [
    {
     "name": "stdout",
     "output_type": "stream",
     "text": [
      "{'name': 'John', 'age': 24, 'address': 'india'}\n",
      "{'name': 'John', 'age': 24, 'address': 'india'}\n"
     ]
    }
   ],
   "source": [
    "student_copy = students\n",
    "print(students)\n",
    "print(student_copy)"
   ]
  },
  {
   "cell_type": "code",
   "execution_count": 30,
   "metadata": {},
   "outputs": [
    {
     "name": "stdout",
     "output_type": "stream",
     "text": [
      "{'name': 'Aman', 'age': 24, 'address': 'india'}\n",
      "{'name': 'Aman', 'age': 24, 'address': 'india'}\n"
     ]
    }
   ],
   "source": [
    "students['name'] = 'Aman'\n",
    "print(students)  # {'age': 20, 'name': 'Aman'}\n",
    "print(student_copy)"
   ]
  },
  {
   "cell_type": "code",
   "execution_count": 31,
   "metadata": {},
   "outputs": [
    {
     "name": "stdout",
     "output_type": "stream",
     "text": [
      "{'name': 'Raju', 'age': 24, 'address': 'india'}\n",
      "{'name': 'Aman', 'age': 24, 'address': 'india'}\n"
     ]
    }
   ],
   "source": [
    "student_copy1 = students.copy()  # shallow copy\n",
    "students['name'] = \"Raju\" \n",
    "print(students)  # prints: {'name': 'Raju', 'age': 20\n",
    "print(student_copy1)  # prints: {'name': 'Raju', 'age':\n"
   ]
  },
  {
   "cell_type": "code",
   "execution_count": 32,
   "metadata": {},
   "outputs": [
    {
     "name": "stdout",
     "output_type": "stream",
     "text": [
      "name\n",
      "age\n",
      "address\n"
     ]
    }
   ],
   "source": [
    "# Iterating over Dictonaries \n",
    "# you can use loops to iterate over dictonaries , keys , values , items \n",
    "# Iterating over keys\n",
    "for key in students.keys():\n",
    "    print(key)\n"
   ]
  },
  {
   "cell_type": "code",
   "execution_count": 34,
   "metadata": {},
   "outputs": [
    {
     "name": "stdout",
     "output_type": "stream",
     "text": [
      "Raju\n",
      "24\n",
      "india\n"
     ]
    }
   ],
   "source": [
    "# Iterate ove values \n",
    "for key  in students.values():\n",
    "    print(key)  # prints the values of the dictionary"
   ]
  },
  {
   "cell_type": "code",
   "execution_count": 36,
   "metadata": {},
   "outputs": [
    {
     "name": "stdout",
     "output_type": "stream",
     "text": [
      " name:Raju\n",
      " age:24\n",
      " address:india\n"
     ]
    }
   ],
   "source": [
    "# Iterate ove key value pairs \n",
    "for key , value in students.items():\n",
    "    print(f\" {key}:{value}\")  # Accessing values"
   ]
  },
  {
   "cell_type": "code",
   "execution_count": 39,
   "metadata": {},
   "outputs": [
    {
     "name": "stdout",
     "output_type": "stream",
     "text": [
      "Aman\n",
      "{'student1': {'name': 'Aman', 'age': 25}, 'student2': {'name': 'RAJU', 'age': 17}}\n",
      "Aman\n",
      "17\n"
     ]
    }
   ],
   "source": [
    "# Nested Dictonaries \n",
    "\n",
    "student= {'student1' : {'name' : 'Aman' , 'age' : 25 },\n",
    "           'student2' : {'name': 'RAJU' , 'age' : 17  }\n",
    "           }\n",
    "print(student['student1']['name'])\n",
    "print(student)\n",
    "print(student['student1']['name'])\n",
    "print(student['student2']['age'])\n",
    "\n",
    "\n"
   ]
  },
  {
   "cell_type": "code",
   "execution_count": 43,
   "metadata": {},
   "outputs": [],
   "source": [
    "students = {\n",
    "    \"S1\": {\"name\": \"John\", \"age\": 20, \"grade\": \"A\"},\n",
    "    \"S2\": {\"name\": \"Jane\", \"age\": 22, \"grade\": \"B\"},\n",
    "    \"S3\": {\"name\": \"Bob\", \"age\": 21, \"grade\": \"A\"}\n",
    "}"
   ]
  },
  {
   "cell_type": "code",
   "execution_count": 44,
   "metadata": {},
   "outputs": [
    {
     "name": "stdout",
     "output_type": "stream",
     "text": [
      "S1: {'name': 'John', 'age': 20, 'grade': 'A'}\n",
      "  name: John\n",
      "  age: 20\n",
      "  grade: A\n",
      "S2: {'name': 'Jane', 'age': 22, 'grade': 'B'}\n",
      "  name: Jane\n",
      "  age: 22\n",
      "  grade: B\n",
      "S3: {'name': 'Bob', 'age': 21, 'grade': 'A'}\n",
      "  name: Bob\n",
      "  age: 21\n",
      "  grade: A\n"
     ]
    }
   ],
   "source": [
    "# Iterating ove nested Dictonaries \n",
    "for student_id , student_info in students.items():\n",
    "    print(f\"{student_id}: {student_info}\")\n",
    "    for key , values in student_info.items():\n",
    "        print(f\"  {key}: {values}\")"
   ]
  },
  {
   "cell_type": "code",
   "execution_count": 46,
   "metadata": {},
   "outputs": [
    {
     "name": "stdout",
     "output_type": "stream",
     "text": [
      "{0: 0, 1: 1, 2: 4, 3: 9, 4: 16, 5: 25, 6: 36, 7: 49, 8: 64, 9: 81}\n"
     ]
    }
   ],
   "source": [
    "#Dictonary Comprehension \n",
    "squares  =  {x:x**2 for x in range(10)}\n",
    "print(squares)\n"
   ]
  },
  {
   "cell_type": "code",
   "execution_count": 47,
   "metadata": {},
   "outputs": [
    {
     "name": "stdout",
     "output_type": "stream",
     "text": [
      "{2: 4, 4: 16, 6: 36, 8: 64, 10: 100}\n"
     ]
    }
   ],
   "source": [
    "evens = {x:x**2  for x in range(1, 11) if x%2 == 0}\n",
    "print(evens)"
   ]
  },
  {
   "cell_type": "code",
   "execution_count": 51,
   "metadata": {},
   "outputs": [
    {
     "name": "stdout",
     "output_type": "stream",
     "text": [
      "{1: 1, 2: 3, 3: 3, 4: 4, 5: 3, 6: 3, 7: 2, 8: 2, 9: 1, 0: 1} \n",
      "\n"
     ]
    }
   ],
   "source": [
    "numbers = [1,2,2,2,3,3,4,4,4,5,6,7,8,6,5,4,3,5,6,7,8,9,0]\n",
    "frequency = {}\n",
    "for number in numbers:\n",
    "    if number in frequency:\n",
    "        frequency[number] += 1\n",
    "    else:\n",
    "        frequency[number] = 1\n",
    "print(frequency,\"\\n\")"
   ]
  },
  {
   "cell_type": "code",
   "execution_count": 52,
   "metadata": {},
   "outputs": [
    {
     "name": "stdout",
     "output_type": "stream",
     "text": [
      "{'a': 1, 'b': 2, 'c': 3, 'x': 9, 'e': 0}\n"
     ]
    }
   ],
   "source": [
    "# Merge Dictionary \n",
    "dict1 =  {'a': 1, 'b': 2, 'c': 3} \n",
    "dict2 = {'x' : 9 , 'e':0}\n",
    "merged_dict = {**dict1 , **dict2}\n",
    "print(merged_dict)"
   ]
  }
 ],
 "metadata": {
  "kernelspec": {
   "display_name": "Python 3",
   "language": "python",
   "name": "python3"
  },
  "language_info": {
   "codemirror_mode": {
    "name": "ipython",
    "version": 3
   },
   "file_extension": ".py",
   "mimetype": "text/x-python",
   "name": "python",
   "nbconvert_exporter": "python",
   "pygments_lexer": "ipython3",
   "version": "3.10.14"
  }
 },
 "nbformat": 4,
 "nbformat_minor": 2
}
