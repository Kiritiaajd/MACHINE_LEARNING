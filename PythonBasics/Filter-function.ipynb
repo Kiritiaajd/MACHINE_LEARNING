{
 "cells": [
  {
   "cell_type": "code",
   "execution_count": 2,
   "metadata": {},
   "outputs": [
    {
     "data": {
      "text/plain": [
       "True"
      ]
     },
     "execution_count": 2,
     "metadata": {},
     "output_type": "execute_result"
    }
   ],
   "source": [
    "def even(num):\n",
    "    return  num % 2 == 0\n",
    "\n",
    "even(10)"
   ]
  },
  {
   "cell_type": "code",
   "execution_count": 4,
   "metadata": {},
   "outputs": [
    {
     "name": "stdout",
     "output_type": "stream",
     "text": [
      "[2, 2, 3, 3, 4, 4, 5, 6, 6, 6, 7, 46]\n"
     ]
    }
   ],
   "source": [
    "lst = [2,3,4,6,7,3,6,46,4,2,5,6]\n",
    "\n",
    "lst.sort()\n",
    "print(lst)"
   ]
  },
  {
   "cell_type": "code",
   "execution_count": 6,
   "metadata": {},
   "outputs": [
    {
     "data": {
      "text/plain": [
       "[2, 2, 4, 4, 6, 6, 6, 46]"
      ]
     },
     "execution_count": 6,
     "metadata": {},
     "output_type": "execute_result"
    }
   ],
   "source": [
    "list(filter(even , lst))\n"
   ]
  },
  {
   "cell_type": "code",
   "execution_count": 8,
   "metadata": {},
   "outputs": [
    {
     "name": "stdout",
     "output_type": "stream",
     "text": [
      "[6, 7, 8, 9, 34, 45, 7, 6]\n"
     ]
    }
   ],
   "source": [
    "# Filter with Lambda Function \n",
    "\n",
    "numbers = [1,2,3,4,5,6,7,8,9,34,45,7,6]\n",
    "\n",
    "greater_than_five = list(filter(lambda x : x > 5, numbers))\n",
    "\n",
    "print(greater_than_five)"
   ]
  },
  {
   "cell_type": "code",
   "execution_count": 14,
   "metadata": {},
   "outputs": [
    {
     "name": "stdout",
     "output_type": "stream",
     "text": [
      "[6, 8, 34, 6]\n",
      "[2, 4, 6, 7, 8, 9, 34, 45, 7, 6]\n"
     ]
    }
   ],
   "source": [
    "even_and_greater_than_five = list(filter(lambda x : x> 5 and even(x) , numbers))\n",
    "even_or_greater_than_five = list(filter(lambda x : x> 5 or even(x) , numbers))\n",
    "print(even_and_greater_than_five)\n",
    "print(even_or_greater_than_five)"
   ]
  },
  {
   "cell_type": "code",
   "execution_count": 22,
   "metadata": {},
   "outputs": [
    {
     "name": "stdout",
     "output_type": "stream",
     "text": [
      "[{'name': 'Krish', 'age': 32}, {'name': 'Rahul', 'age': 27}]\n"
     ]
    }
   ],
   "source": [
    "people = [\n",
    "    {'name' : 'Krish' , 'age' :32},\n",
    "    {'name' : 'Rahul' , 'age' : 27},\n",
    "    {'name' : 'Rohan' , 'age' : 25}\n",
    "]\n",
    "\n",
    "def age_greater_25(person):\n",
    "    return person['age'] > 25\n",
    "age_greater_than_25 = list(filter( age_greater_25 , people))\n",
    "print(age_greater_than_25)"
   ]
  }
 ],
 "metadata": {
  "kernelspec": {
   "display_name": "Python 3",
   "language": "python",
   "name": "python3"
  },
  "language_info": {
   "codemirror_mode": {
    "name": "ipython",
    "version": 3
   },
   "file_extension": ".py",
   "mimetype": "text/x-python",
   "name": "python",
   "nbconvert_exporter": "python",
   "pygments_lexer": "ipython3",
   "version": "3.10.14"
  }
 },
 "nbformat": 4,
 "nbformat_minor": 2
}
