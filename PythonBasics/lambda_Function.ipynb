{
 "cells": [
  {
   "cell_type": "markdown",
   "metadata": {},
   "source": [
    "In Python, a lambda function is a small anonymous function defined using the lambda keyword. It can have any number of arguments but only one expression. The result of the expression is returned when the lambda function is called"
   ]
  },
  {
   "cell_type": "code",
   "execution_count": 1,
   "metadata": {},
   "outputs": [
    {
     "name": "stdout",
     "output_type": "stream",
     "text": [
      "5\n"
     ]
    }
   ],
   "source": [
    "def num_addition(a , b):\n",
    "   return a + b\n",
    "\n",
    "print(num_addition(2,3))"
   ]
  },
  {
   "cell_type": "code",
   "execution_count": 1,
   "metadata": {},
   "outputs": [
    {
     "name": "stdout",
     "output_type": "stream",
     "text": [
      "5\n",
      "<class 'function'>\n",
      "3\n",
      "<class 'function'>\n"
     ]
    }
   ],
   "source": [
    "addition = lambda  x, y: x + y\n",
    "subtraction = lambda  x, y: x - y\n",
    "\n",
    "print(addition(2 ,3))\n",
    "print(type(addition))\n",
    "print(subtraction(4,1))\n",
    "\n",
    "print(type(subtraction))"
   ]
  }
 ],
 "metadata": {
  "kernelspec": {
   "display_name": "Python 3",
   "language": "python",
   "name": "python3"
  },
  "language_info": {
   "codemirror_mode": {
    "name": "ipython",
    "version": 3
   },
   "file_extension": ".py",
   "mimetype": "text/x-python",
   "name": "python",
   "nbconvert_exporter": "python",
   "pygments_lexer": "ipython3",
   "version": "3.10.14"
  }
 },
 "nbformat": 4,
 "nbformat_minor": 2
}
