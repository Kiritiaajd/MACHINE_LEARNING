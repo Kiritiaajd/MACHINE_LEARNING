{
 "cells": [
  {
   "cell_type": "markdown",
   "metadata": {},
   "source": [
    "Exxception Handling in python allows you to handle  the exceptions that occur during the execution of your code. It helps you to prevent your program from crashingand take corrective actions without stopping and crashing."
   ]
  },
  {
   "cell_type": "markdown",
   "metadata": {},
   "source": [
    "**What are Exceptions **\n",
    "Exceptions are a way to handle runtime errors in a program. They are used to catch and handle errors\n",
    "\n",
    "> ZeroDivision Error,\n",
    "> FileNotfound  Error,\n",
    "> TypeError,\n",
    "> ValueError,\n",
    "etc\n"
   ]
  },
  {
   "cell_type": "code",
   "execution_count": 4,
   "metadata": {},
   "outputs": [
    {
     "name": "stdout",
     "output_type": "stream",
     "text": [
      "Error: Division by zero is not allowed\n",
      "0.0\n",
      "b/a =  0.0\n"
     ]
    }
   ],
   "source": [
    "a = 10 \n",
    "b = 0 \n",
    "\n",
    "try:\n",
    "    c = a / b\n",
    "\n",
    "except  ZeroDivisionError:\n",
    "\n",
    "    print(\"Error: Division by zero is not allowed\")  # Output: Error: Division by\n",
    "    c = b /a \n",
    "    print(c)  # Output: 0.0\n",
    "    print(\"b/a = \",c)\n"
   ]
  },
  {
   "cell_type": "code",
   "execution_count": 5,
   "metadata": {},
   "outputs": [
    {
     "name": "stdout",
     "output_type": "stream",
     "text": [
      "name 'd' is not defined\n"
     ]
    }
   ],
   "source": [
    "a = 10 \n",
    "b = 2\n",
    "\n",
    "try:\n",
    "    c = a / b\n",
    "    a = d\n",
    "except  ZeroDivisionError:\n",
    "    print(\"Error: Division by zero is not allowed\")  # Output: Error: Division by\n",
    "    c = b /a \n",
    "    print(c)  # Output: 0.0\n",
    "    print(\"b/a = \",c)\n",
    "except Exception as ex :\n",
    "    print(ex)\n"
   ]
  },
  {
   "cell_type": "code",
   "execution_count": 9,
   "metadata": {},
   "outputs": [
    {
     "name": "stdout",
     "output_type": "stream",
     "text": [
      "Invalid input. Please enter a valid number\n"
     ]
    }
   ],
   "source": [
    "try:\n",
    "    num = int(input(\"Enter a number\"))\n",
    "    if num % 2 == 0:\n",
    "        print(num, \"is even\")\n",
    "    else:\n",
    "        print(num, \"is odd\")\n",
    "except  ValueError:\n",
    "    print(\"Invalid input. Please enter a valid number\")\n",
    "except ZeroDivisionError as ex:\n",
    "    print(ex)\n"
   ]
  },
  {
   "cell_type": "code",
   "execution_count": 11,
   "metadata": {},
   "outputs": [
    {
     "name": "stdout",
     "output_type": "stream",
     "text": [
      "1.1111111111111112\n",
      "0.9\n"
     ]
    }
   ],
   "source": [
    "try:\n",
    "    num = int(input(\"Enter a number\"))\n",
    "    result = 10 / num\n",
    "    print(result)\n",
    "except ValueError:\n",
    "    print(\"Invalid Input\")\n",
    "except ZeroDivisionError:\n",
    "    print(\"You can't Divide by zero\")\n",
    "else:\n",
    "    result = num /10\n",
    "    print(result)\n",
    "\n"
   ]
  },
  {
   "cell_type": "code",
   "execution_count": 15,
   "metadata": {},
   "outputs": [
    {
     "name": "stdout",
     "output_type": "stream",
     "text": [
      "0.1111111111111111\n",
      "This program Execution is complete\n"
     ]
    }
   ],
   "source": [
    "# try , except , else , finally \n",
    "try:\n",
    "    num = int(input(\"Enter a number\"))\n",
    "    result = 10 / num\n",
    "    \n",
    "except ValueError:\n",
    "    print(\"Invalid Input\")\n",
    "except ZeroDivisionError:\n",
    "    print(\"You can't Divide by zero\")\n",
    "else:\n",
    "   print(result)\n",
    "finally :\n",
    "    print(\"This program Execution is complete\")  # This will always execute whether an exception occurred or not\n",
    "\n"
   ]
  },
  {
   "cell_type": "code",
   "execution_count": null,
   "metadata": {},
   "outputs": [],
   "source": []
  }
 ],
 "metadata": {
  "kernelspec": {
   "display_name": "Python 3",
   "language": "python",
   "name": "python3"
  },
  "language_info": {
   "codemirror_mode": {
    "name": "ipython",
    "version": 3
   },
   "file_extension": ".py",
   "mimetype": "text/x-python",
   "name": "python",
   "nbconvert_exporter": "python",
   "pygments_lexer": "ipython3",
   "version": "3.10.14"
  }
 },
 "nbformat": 4,
 "nbformat_minor": 2
}
