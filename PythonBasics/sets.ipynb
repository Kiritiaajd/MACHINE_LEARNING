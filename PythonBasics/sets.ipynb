{
 "cells": [
  {
   "cell_type": "markdown",
   "metadata": {},
   "source": [
    "## Sets\n",
    "\n",
    "Sets are built-in data type in Python used to store  a collection of unique elements. Sets are unordered and do not allow duplicate values.\n"
   ]
  },
  {
   "cell_type": "code",
   "execution_count": 14,
   "metadata": {},
   "outputs": [
    {
     "name": "stdout",
     "output_type": "stream",
     "text": [
      "{1, 2, 3, 4, 5, 6, 7, 8, 9}\n",
      "<class 'set'>\n"
     ]
    }
   ],
   "source": [
    "sets = {1,2,3,4,5,6,7,8,9}\n",
    "print(sets)\n",
    "print(type(sets))\n",
    "# sets[0] = 10 ---> TypeError: 'set' object does not support item assignment\n"
   ]
  },
  {
   "cell_type": "code",
   "execution_count": 15,
   "metadata": {},
   "outputs": [
    {
     "name": "stdout",
     "output_type": "stream",
     "text": [
      "{}\n",
      "[1, 2, 3, 4]\n",
      "{2, 3, 4}\n"
     ]
    }
   ],
   "source": [
    "my_set = {}\n",
    "print(my_set)\n",
    "my_set = list(my_set)\n",
    "my_set.append(1)\n",
    "my_set.append(2)\n",
    "my_set.append(3)\n",
    "my_set.append(4)\n",
    "print(my_set)\n",
    "my_set = set(my_set)\n",
    "my_set.pop()\n",
    "print(my_set)\n",
    "\n"
   ]
  },
  {
   "cell_type": "code",
   "execution_count": null,
   "metadata": {},
   "outputs": [],
   "source": []
  }
 ],
 "metadata": {
  "kernelspec": {
   "display_name": "Python 3",
   "language": "python",
   "name": "python3"
  },
  "language_info": {
   "codemirror_mode": {
    "name": "ipython",
    "version": 3
   },
   "file_extension": ".py",
   "mimetype": "text/x-python",
   "name": "python",
   "nbconvert_exporter": "python",
   "pygments_lexer": "ipython3",
   "version": "3.12.4"
  }
 },
 "nbformat": 4,
 "nbformat_minor": 2
}
