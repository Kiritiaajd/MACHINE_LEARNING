{
 "cells": [
  {
   "cell_type": "code",
   "execution_count": null,
   "metadata": {},
   "outputs": [],
   "source": [
    "#  Functions : A fuction is block of code that peerforms a specific task . Functions help in ongoing  , reussing , improving readibility .print "
   ]
  },
  {
   "cell_type": "code",
   "execution_count": null,
   "metadata": {},
   "outputs": [],
   "source": [
    "def fun_name(parameters):\n",
    "    ''' This is a docstring explaining the function'''\n",
    "\n",
    "    return parameters"
   ]
  },
  {
   "cell_type": "code",
   "execution_count": 8,
   "metadata": {},
   "outputs": [
    {
     "name": "stdout",
     "output_type": "stream",
     "text": [
      "The number is even\n"
     ]
    }
   ],
   "source": [
    "num = 24\n",
    "\n",
    "def isEven(num):\n",
    "    if num % 2 == 0:\n",
    "        return True \n",
    "    else:\n",
    "        return False \n",
    "\n",
    "\n",
    "if isEven(num):\n",
    "    print(\"The number is even\")\n",
    "else:\n",
    "    print(\"The number is odd\")"
   ]
  },
  {
   "cell_type": "code",
   "execution_count": 9,
   "metadata": {},
   "outputs": [
    {
     "name": "stdout",
     "output_type": "stream",
     "text": [
      "1\n",
      "2\n",
      "3\n",
      "4\n",
      "5\n",
      "6\n",
      "7\n",
      "8\n",
      "9\n",
      "Aman\n"
     ]
    }
   ],
   "source": [
    "# Variable length arguments \n",
    "# positional and Keyword arguments\n",
    "\n",
    "def print_number(*Aman):\n",
    "    for i in Aman:\n",
    "        print(i)\n",
    "\n",
    "\n",
    "print_number(1,2,3,4,5,6,7,8,9 , 'Aman')"
   ]
  },
  {
   "cell_type": "code",
   "execution_count": 11,
   "metadata": {},
   "outputs": [
    {
     "name": "stdout",
     "output_type": "stream",
     "text": [
      "name :  Aman\n",
      "age : 19\n",
      "grade : A\n"
     ]
    }
   ],
   "source": [
    "# Key word argument \n",
    "def print_details(**kwargs):\n",
    "    for key , value in kwargs.items():\n",
    "        print(f\"{key} : {value}\")\n",
    "\n",
    "\n",
    "print_details(name = \" Aman\" , age = 19 , grade = \"A\")\n"
   ]
  },
  {
   "cell_type": "code",
   "execution_count": 12,
   "metadata": {},
   "outputs": [
    {
     "data": {
      "text/plain": [
       "(900, 10, 90)"
      ]
     },
     "execution_count": 12,
     "metadata": {},
     "output_type": "execute_result"
    }
   ],
   "source": [
    "def multiply(a , b):\n",
    "    return a*b , a , b\n",
    "\n",
    "multiply(10 , 90)"
   ]
  },
  {
   "cell_type": "code",
   "execution_count": 14,
   "metadata": {},
   "outputs": [
    {
     "name": "stdout",
     "output_type": "stream",
     "text": [
      "84.2\n",
      "42.77777777777778\n"
     ]
    }
   ],
   "source": [
    "def convert_temperature(temp , unit):\n",
    "    \"\"\" This function converts the temperature b/w Cecius and Fahrenite \"\"\"\n",
    "    if unit == 'C':\n",
    "        return (temp * 9/5) + 32\n",
    "    elif unit == 'F':\n",
    "        return (temp - 32) * 5/9\n",
    "    else:\n",
    "        return \"Invalid unit\"\n",
    "\n",
    "print(convert_temperature(29 , 'C'))\n",
    "print(convert_temperature(109,  'F'))\n"
   ]
  },
  {
   "cell_type": "code",
   "execution_count": 17,
   "metadata": {},
   "outputs": [
    {
     "name": "stdout",
     "output_type": "stream",
     "text": [
      "True\n",
      "False\n"
     ]
    }
   ],
   "source": [
    "def is_strong_password(password):\n",
    "    if len(password) < 8:\n",
    "        return False\n",
    "    elif not any(char.isdigit() for char in password):\n",
    "        return False\n",
    "    elif not any(char.islower() for char in password):\n",
    "        return False\n",
    "    elif not any(char.isupper() for char in password):  # corrected from isUpper()\n",
    "        return False\n",
    "    elif not any(char in \"!@#$%^&*()_+-=\" for char in password):\n",
    "        return False\n",
    "    else:\n",
    "        return True\n",
    "\n",
    "# calling the function \n",
    "print(is_strong_password(\"Amam@9931\"))  # True\n",
    "print(is_strong_password(\"aman\"))       # False\n"
   ]
  },
  {
   "cell_type": "code",
   "execution_count": 5,
   "metadata": {},
   "outputs": [
    {
     "name": "stdout",
     "output_type": "stream",
     "text": [
      "False\n"
     ]
    }
   ],
   "source": [
    "def is_Plaindrome(s):\n",
    "    s = s.lower().replace(\" \" , \"  \")\n",
    "    return s == s[::-1]\n",
    "print(is_Plaindrome('1 2 1 '))  # True"
   ]
  },
  {
   "cell_type": "code",
   "execution_count": 7,
   "metadata": {},
   "outputs": [
    {
     "name": "stdout",
     "output_type": "stream",
     "text": [
      "120\n"
     ]
    }
   ],
   "source": [
    "def factorial(num):\n",
    "    if num == 0:\n",
    "        return 1\n",
    "    else:\n",
    "        return num * factorial(num-1)\n",
    "\n",
    "print(factorial(5))"
   ]
  },
  {
   "cell_type": "code",
   "execution_count": 2,
   "metadata": {},
   "outputs": [
    {
     "name": "stdout",
     "output_type": "stream",
     "text": [
      "{'hello': 1, '': 1, 'my': 1, 'name': 1, 'is': 2, 'kiriti': 2, 'aajad': 2, 'a': 1, 'cse': 1, 'student': 1}\n"
     ]
    }
   ],
   "source": [
    "def count_word_frequency(file_path):\n",
    "    word_count= {}\n",
    "    with open(file_path , 'r') as file:\n",
    "        for line in file:\n",
    "            words = line.split()\n",
    "            for word in words:\n",
    "                word = word.lower().strip(',\\.:;[]\\/ ')\n",
    "                word_count[word] = word_count.get(word , 0 )+1\n",
    "                \n",
    "    return word_count\n",
    "\n",
    "file_path = 'sample.txt'\n",
    "word_count = count_word_frequency(file_path)\n",
    "print(word_count)\n",
    "            "
   ]
  }
 ],
 "metadata": {
  "kernelspec": {
   "display_name": "Python 3",
   "language": "python",
   "name": "python3"
  },
  "language_info": {
   "codemirror_mode": {
    "name": "ipython",
    "version": 3
   },
   "file_extension": ".py",
   "mimetype": "text/x-python",
   "name": "python",
   "nbconvert_exporter": "python",
   "pygments_lexer": "ipython3",
   "version": "3.10.14"
  }
 },
 "nbformat": 4,
 "nbformat_minor": 2
}
