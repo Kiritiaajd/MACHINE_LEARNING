{
 "cells": [
  {
   "cell_type": "code",
   "execution_count": 5,
   "metadata": {},
   "outputs": [
    {
     "name": "stdout",
     "output_type": "stream",
     "text": [
      "['Buy Groceries', 'Clean the house', 'Pay bills ', 'meeting', 'Run']\n",
      "['Buy Groceries', 'Pay bills ', 'meeting', 'Run']\n"
     ]
    }
   ],
   "source": [
    "#Example 1 : ,anage A to Do list \n",
    "\n",
    "to_do_list = ['Buy Groceries' , 'Clean the house' , 'Pay bills ']\n",
    "# Adding to task \n",
    "\n",
    "to_do_list.append('meeting')\n",
    "to_do_list.append('Run')\n",
    "print(to_do_list)\n",
    "\n",
    "to_do_list.remove('Clean the house')\n",
    "print(to_do_list)"
   ]
  },
  {
   "cell_type": "code",
   "execution_count": 6,
   "metadata": {},
   "outputs": [
    {
     "name": "stdout",
     "output_type": "stream",
     "text": [
      "Do not forgot to pay Utility Bills\n"
     ]
    }
   ],
   "source": [
    "if 'Pay bills ' in to_do_list:\n",
    "    print('Do not forgot to pay Utility Bills')"
   ]
  },
  {
   "cell_type": "code",
   "execution_count": 9,
   "metadata": {},
   "outputs": [
    {
     "name": "stdout",
     "output_type": "stream",
     "text": [
      "Average grades brfore append is :  88.4\n",
      "Average grades after append is :  91.28571428571429\n"
     ]
    }
   ],
   "source": [
    "# Organize Students Grades \n",
    "grades = [89,90, 87, 98 , 78 ]\n",
    "avg_grades = sum(grades) /len(grades)\n",
    "print(\"Average grades brfore append is : \" , avg_grades)\n",
    "grades.append(98)\n",
    "grades.append(99)\n",
    "\n",
    "avg_grades = sum(grades) /len(grades)\n",
    "\n",
    "print(\"Average grades after append is : \" , avg_grades)"
   ]
  }
 ],
 "metadata": {
  "kernelspec": {
   "display_name": "Python 3",
   "language": "python",
   "name": "python3"
  },
  "language_info": {
   "codemirror_mode": {
    "name": "ipython",
    "version": 3
   },
   "file_extension": ".py",
   "mimetype": "text/x-python",
   "name": "python",
   "nbconvert_exporter": "python",
   "pygments_lexer": "ipython3",
   "version": "3.10.14"
  }
 },
 "nbformat": 4,
 "nbformat_minor": 2
}
