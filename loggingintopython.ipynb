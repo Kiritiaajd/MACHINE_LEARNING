{
 "cells": [
  {
   "cell_type": "code",
   "execution_count": 3,
   "metadata": {},
   "outputs": [
    {
     "name": "stderr",
     "output_type": "stream",
     "text": [
      "DEBUG:root:This is a debug message \n",
      "INFO:root:This is info message\n",
      "WARNING:root:This is warning message \n",
      "CRITICAL:root:This is critical messsage\n"
     ]
    }
   ],
   "source": [
    "import logging\n",
    "\n",
    "# configure the basic logging settings \n",
    "logging.basicConfig(level=logging.DEBUG)\n",
    "\n",
    "logging.debug(\"This is a debug message \")\n",
    "logging.info(\"This is info message\")\n",
    "logging.warning(\"This is warning message \")\n",
    "logging.critical(\"This is critical messsage\")"
   ]
  }
 ],
 "metadata": {
  "kernelspec": {
   "display_name": "ml_env",
   "language": "python",
   "name": "python3"
  },
  "language_info": {
   "codemirror_mode": {
    "name": "ipython",
    "version": 3
   },
   "file_extension": ".py",
   "mimetype": "text/x-python",
   "name": "python",
   "nbconvert_exporter": "python",
   "pygments_lexer": "ipython3",
   "version": "3.12.6"
  }
 },
 "nbformat": 4,
 "nbformat_minor": 2
}
