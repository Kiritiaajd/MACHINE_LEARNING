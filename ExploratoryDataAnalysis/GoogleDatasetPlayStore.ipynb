{
 "cells": [
  {
   "cell_type": "markdown",
   "metadata": {},
   "source": [
    "## EDA And Feature Engineering of Google Play Store Dataset \n",
    "\n",
    "## problem Statement \n",
    "The Google Play Store hosts a vast array of mobile applications across various categories, catering to diverse user needs. However, with the increasing volume of apps, understanding the factors that contribute to an app’s success is critical for developers and businesses aiming to optimize visibility, engagement, and revenue on the platform. The goal is to analyze the Google Play Store dataset to uncover insights regarding app success metrics, including app ratings, download numbers, and the impact of various features such as category, size, price, and content rating. Through this analysis, we aim to answer the following questions:\n",
    "\n",
    "What are the key factors that influence app ratings and downloads?\n",
    "How do category, app size, content rating, and price affect an app's performance in terms of ratings and downloads?\n",
    "What are the general trends in app pricing, and how does pricing relate to ratings and download counts?\n",
    "How can app developers leverage these insights to make data-driven decisions for future app development and marketing strategies?\n",
    "By examining these aspects, this analysis will help app developers, marketers, and strategists enhance their understanding of the Google Play Store landscape, guiding them to make improvements that resonate with user preferences and expectations."
   ]
  },
  {
   "cell_type": "markdown",
   "metadata": {},
   "source": [
    "## Dataset Description:\n",
    "\n",
    "The Google Play Store dataset includes various features that provide insights into the characteristics and performance of mobile applications. Key attributes in the dataset are as follows:\n",
    "\n",
    "App Name: The name of the application.\n",
    "Category: The genre or category to which the app belongs, such as \"Education,\" \"Entertainment,\" or \"Productivity.\"\n",
    "Rating: The user rating of the app, ranging from 1 to 5.\n",
    "Reviews: The number of user reviews received.\n",
    "Size: The size of the app, represented in MB.\n",
    "Installs: The number of times the app has been downloaded.\n",
    "Type: Indicates whether the app is \"Free\" or \"Paid.\"\n",
    "Price: The price of the app, if it’s a paid app.\n",
    "Content Rating: The age group for which the app is appropriate, such as \"Everyone\" or \"Teen.\"\n",
    "Genres: The genre of the app, providing a more granular view than the broader category field.\n",
    "Last Updated: The date the app was last updated.\n",
    "Current Version: The current version of the app.\n",
    "Android Version: The minimum Android version required to run the app.\n",
    "These features collectively provide a comprehensive view of each app’s characteristics, helping us analyze how various factors correlate with app ratings and download numbers."
   ]
  },
  {
   "cell_type": "markdown",
   "metadata": {},
   "source": [
    "# Steps we are going to follow \n",
    "1 . Data cleaning \n",
    "\n",
    "2 . Exploratory Data analysis \n",
    "\n",
    "3 . Feature Engineering "
   ]
  },
  {
   "cell_type": "code",
   "execution_count": null,
   "metadata": {},
   "outputs": [],
   "source": []
  }
 ],
 "metadata": {
  "kernelspec": {
   "display_name": "ml_env",
   "language": "python",
   "name": "python3"
  },
  "language_info": {
   "name": "python",
   "version": "3.12.6"
  }
 },
 "nbformat": 4,
 "nbformat_minor": 2
}
