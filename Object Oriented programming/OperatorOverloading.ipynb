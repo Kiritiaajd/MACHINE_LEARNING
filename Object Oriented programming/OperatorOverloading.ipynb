{
 "cells": [
  {
   "cell_type": "code",
   "execution_count": 3,
   "metadata": {},
   "outputs": [
    {
     "name": "stdout",
     "output_type": "stream",
     "text": [
      "Vector(4 , 6)\n",
      "Vector(-2 , -2)\n",
      "11\n",
      "False\n"
     ]
    }
   ],
   "source": [
    "class Vector:\n",
    "    def __init__(self , x , y):\n",
    "        self.x= x\n",
    "        self.y = y\n",
    "    \n",
    "    def __add__(slef , other):\n",
    "        return Vector(slef.x + other.x , slef.y + other.y)\n",
    "    def __sub__(self , other):\n",
    "        return Vector(self.x - other.x , self.y - other.y)\n",
    "    def __mul__(self , other):\n",
    "        return self.x * other.x + self.y * other.y\n",
    "    def _eq__(self , other):\n",
    "        return self.x == other.x and  self.y == other.y\n",
    "    def __repr__ (self ):\n",
    "        return f\"Vector({self.x} , {self.y})\"\n",
    "    \n",
    "# create objects \n",
    "v1 = Vector(1 ,2)\n",
    "v2 = Vector(3 , 4)\n",
    "\n",
    "print(v1 +v2)\n",
    "print(v1-v2)\n",
    "print(v1 * v2)\n",
    "print(v1 == v2)\n",
    "\n",
    "\n"
   ]
  },
  {
   "cell_type": "code",
   "execution_count": 5,
   "metadata": {},
   "outputs": [
    {
     "name": "stdout",
     "output_type": "stream",
     "text": [
      "complex(4 , 6)\n",
      "complex(-2 , -2)\n",
      "11\n",
      "False\n"
     ]
    }
   ],
   "source": [
    "class Complex:\n",
    "    def __init__(self , x , y):\n",
    "        self.x= x\n",
    "        self.y = y\n",
    "    \n",
    "    def __add__(slef , other):\n",
    "        return Complex(slef.x + other.x , slef.y + other.y)\n",
    "    def __sub__(self , other):\n",
    "        return Complex(self.x - other.x , self.y - other.y)\n",
    "    def __mul__(self , other):\n",
    "        return self.x * other.x + self.y * other.y\n",
    "    def _eq__(self , other):\n",
    "        return self.x == other.x and  self.y == other.y\n",
    "    def __repr__ (self ):\n",
    "        return f\"complex({self.x} , {self.y})\"\n",
    "    \n",
    "# create objects \n",
    "v1 = Complex(1 ,2)\n",
    "v2 = Complex(3 , 4)\n",
    "\n",
    "print(v1 +v2)\n",
    "print(v1-v2)\n",
    "print(v1 * v2)\n",
    "print(v1 == v2)\n",
    "\n",
    "\n"
   ]
  },
  {
   "cell_type": "code",
   "execution_count": null,
   "metadata": {},
   "outputs": [],
   "source": []
  }
 ],
 "metadata": {
  "kernelspec": {
   "display_name": "Python 3",
   "language": "python",
   "name": "python3"
  },
  "language_info": {
   "codemirror_mode": {
    "name": "ipython",
    "version": 3
   },
   "file_extension": ".py",
   "mimetype": "text/x-python",
   "name": "python",
   "nbconvert_exporter": "python",
   "pygments_lexer": "ipython3",
   "version": "3.10.14"
  }
 },
 "nbformat": 4,
 "nbformat_minor": 2
}
