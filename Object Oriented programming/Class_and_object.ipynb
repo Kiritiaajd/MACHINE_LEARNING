{
 "cells": [
  {
   "cell_type": "markdown",
   "metadata": {},
   "source": [
    "Object-Oriented Programming (OOP) is a programming paradigm centered around the concept of objects, which are instances of classes. In OOP, data and methods (functions) are bundled into objects, which makes it easier to structure and organize complex software systems. OOP focuses on using these objects to represent real-world entities and interactions."
   ]
  },
  {
   "cell_type": "code",
   "execution_count": 1,
   "metadata": {},
   "outputs": [
    {
     "name": "stdout",
     "output_type": "stream",
     "text": [
      "<class '__main__.Car'>\n"
     ]
    }
   ],
   "source": [
    "class Car:\n",
    "    pass\n",
    "\n",
    "audi = Car()\n",
    "bmw = Car()\n",
    "\n",
    "print(type(audi))"
   ]
  },
  {
   "cell_type": "code",
   "execution_count": 4,
   "metadata": {},
   "outputs": [
    {
     "name": "stdout",
     "output_type": "stream",
     "text": [
      "Rambho\n",
      "5\n",
      "Lucy\n",
      "3\n"
     ]
    }
   ],
   "source": [
    "class Dog:\n",
    "    def __init__(self ,name , age):\n",
    "        self.name = name\n",
    "        self.age = age\n",
    "\n",
    "\n",
    "dog1 = Dog('Rambho' , '5')\n",
    "dog2 = Dog('Lucy' , '3')\n",
    "print(dog1.name)\n",
    "print(dog1.age)\n",
    "print(dog2.name)\n",
    "print(dog2.age)\n"
   ]
  },
  {
   "cell_type": "code",
   "execution_count": 9,
   "metadata": {},
   "outputs": [
    {
     "name": "stdout",
     "output_type": "stream",
     "text": [
      "Rambho says Woof Woof\n",
      "Tiger says Woof Woof\n"
     ]
    }
   ],
   "source": [
    "# Class With Instance \n",
    "class Dogs:\n",
    "    def __init__(self , name , age):\n",
    "        self.name = name\n",
    "        self.age =  age\n",
    "    \n",
    "    def bark(self):\n",
    "        return f\"{self.name} says Woof Woof\"\n",
    "\n",
    "\n",
    "dog1 = Dogs('Rambho' , '9')\n",
    "dog2 = Dogs('Tiger' , '4')\n",
    "\n",
    "\n",
    "\n",
    "print(dog1.bark())\n",
    "print(dog2.bark())\n",
    "\n",
    "        \n"
   ]
  },
  {
   "cell_type": "code",
   "execution_count": 14,
   "metadata": {},
   "outputs": [
    {
     "name": "stdout",
     "output_type": "stream",
     "text": [
      "Aman\n",
      "1500\n",
      "1600\n",
      "20 is debited\n",
      "1580\n"
     ]
    }
   ],
   "source": [
    "class BankAccount:\n",
    "    def __init__(self, name, balance = 0):\n",
    "        self.balance =  balance\n",
    "        self.name = name\n",
    "    def  deposit(self, amount):\n",
    "        self.balance += amount\n",
    "    def   withdraw(self, amount):\n",
    "        if amount > self.balance:\n",
    "            print(\"Insufficient balance\")\n",
    "        else:\n",
    "            self.balance -= amount\n",
    "            print(f\"{amount} is debited\")\n",
    "            \n",
    "    \n",
    "    def chekBalance(self):\n",
    "        return self.balance\n",
    "    \n",
    "\n",
    "    \n",
    "acc1 = BankAccount('Aman' , 1000)\n",
    "acc1.deposit(500)\n",
    "print(acc1.name)\n",
    "print(acc1.chekBalance()) # Output: 1000\n",
    "acc1.deposit(100)\n",
    "print(acc1.chekBalance()) # Output: 1100\n",
    "acc1.withdraw(20)\n",
    "print(acc1.chekBalance()) # Output: 1080\n",
    "\n"
   ]
  },
  {
   "cell_type": "code",
   "execution_count": null,
   "metadata": {},
   "outputs": [],
   "source": []
  }
 ],
 "metadata": {
  "kernelspec": {
   "display_name": "Python 3",
   "language": "python",
   "name": "python3"
  },
  "language_info": {
   "codemirror_mode": {
    "name": "ipython",
    "version": 3
   },
   "file_extension": ".py",
   "mimetype": "text/x-python",
   "name": "python",
   "nbconvert_exporter": "python",
   "pygments_lexer": "ipython3",
   "version": "3.10.14"
  }
 },
 "nbformat": 4,
 "nbformat_minor": 2
}
