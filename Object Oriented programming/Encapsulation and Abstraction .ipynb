{
 "cells": [
  {
   "cell_type": "markdown",
   "metadata": {},
   "source": [
    "Encapsulation is one of the fundamental principles of object-oriented programming (OOP). It refers to the concept of bundling data (variables) and methods (functions) that operate on the data into a single unit or class, and restricting access to some of the object's components. This way, the internal details of how an object functions are hidden from the outside world, allowing controlled interaction through a defined interface."
   ]
  },
  {
   "cell_type": "code",
   "execution_count": 12,
   "metadata": {},
   "outputs": [
    {
     "name": "stdout",
     "output_type": "stream",
     "text": [
      "Public Address: Delhi\n",
      "Protected Name: Aman\n",
      "Private Salary: 50000\n",
      "Updated Salary: 60000\n",
      "Address using function: Delhi\n",
      "Name: Aman, Age: 20, Address: Delhi, Salary: 60000\n"
     ]
    }
   ],
   "source": [
    "# Encapsulation with Getter and Stter Method\n",
    "\n",
    "### Public , protected , private Variables \n",
    "\n",
    "# Class with encapsulation\n",
    "class Person:\n",
    "    def __init__(self, name, age, address):\n",
    "        # Public variable (accessible from anywhere)\n",
    "        self.address = address\n",
    "        \n",
    "        # Protected variables (conventionally not to be accessed directly)\n",
    "        self._name = name\n",
    "        self._age = age\n",
    "        \n",
    "        # Private variable (accessible only within the class)\n",
    "        self.__salary = 50000\n",
    "    \n",
    "    # Getter for name (protected variable)\n",
    "    def get_name(self):\n",
    "        return self._name\n",
    "    \n",
    "    # Setter for name (protected variable)\n",
    "    def set_name(self, name):\n",
    "        if isinstance(name, str):\n",
    "            self._name = name\n",
    "        else:\n",
    "            print(\"Invalid name!\")\n",
    "\n",
    "    # Getter for private salary variable\n",
    "    def get_salary(self):\n",
    "        return self.__salary\n",
    "    \n",
    "    # Setter for private salary variable\n",
    "    def set_salary(self, salary):\n",
    "        if salary > 0:\n",
    "            self.__salary = salary\n",
    "        else:\n",
    "            print(\"Invalid salary amount!\")\n",
    "    \n",
    "    # Method to get full details\n",
    "    def get_details(self):\n",
    "        return f\"Name: {self._name}, Age: {self._age}, Address: {self.address}, Salary: {self.__salary}\"\n",
    "\n",
    "# Function to access the address (public variable)\n",
    "def get_address(person):\n",
    "    return person.address\n",
    "\n",
    "# Create a person object\n",
    "person1 = Person('Aman', 20, 'Delhi')\n",
    "\n",
    "# Access public variable directly\n",
    "print(f\"Public Address: {person1.address}\")\n",
    "\n",
    "# Use the getter to access protected variable\n",
    "print(f\"Protected Name: {person1.get_name()}\")\n",
    "\n",
    "# Use the getter to access private variable (via method)\n",
    "print(f\"Private Salary: {person1.get_salary()}\")\n",
    "\n",
    "# Modify private variable via setter\n",
    "person1.set_salary(60000)\n",
    "print(f\"Updated Salary: {person1.get_salary()}\")\n",
    "\n",
    "# Use the function to access the public address variable\n",
    "print(f\"Address using function: {get_address(person1)}\")\n",
    "\n",
    "# Show full details\n",
    "print(person1.get_details())\n",
    "\n",
    "\n",
    "\n",
    "\n",
    "\n"
   ]
  },
  {
   "cell_type": "markdown",
   "metadata": {},
   "source": [
    "# Abstraction\n",
    "Abstraction is a fundamental concept in object-oriented programming (OOP) that allows developers to hide the internal implementation details of a class and expose only the necessary functionalities. This helps in reducing complexity and enhances code maintainability by allowing users to interact with an object without needing to understand its internal workings."
   ]
  },
  {
   "cell_type": "code",
   "execution_count": 14,
   "metadata": {},
   "outputs": [
    {
     "name": "stdout",
     "output_type": "stream",
     "text": [
      "Operating Car:\n",
      "Car Engine Started.\n",
      "The vehicle is used for driving.\n",
      "\n",
      "Operating Bike:\n",
      "Bike Engine Started.\n",
      "The vehicle is used for driving.\n"
     ]
    }
   ],
   "source": [
    "from abc import ABC, abstractmethod\n",
    "\n",
    "# Abstract base class\n",
    "class Vehicle(ABC):\n",
    "    def drive(self):\n",
    "        print(\"The vehicle is used for driving.\")\n",
    "    \n",
    "    @abstractmethod\n",
    "    def start_engine(self):\n",
    "        pass\n",
    "\n",
    "class Car(Vehicle):\n",
    "    def start_engine(self):\n",
    "        print(\"Car Engine Started.\")\n",
    "\n",
    "class Bike(Vehicle):\n",
    "    def start_engine(self):\n",
    "        print(\"Bike Engine Started.\")\n",
    "\n",
    "def operate_vehicle(vehicle: Vehicle):\n",
    "    vehicle.start_engine()  # Call the abstract method\n",
    "    vehicle.drive()         # Call the non-abstract method\n",
    "\n",
    "# Create instances of Car and Bike\n",
    "car = Car()\n",
    "bike = Bike()\n",
    "\n",
    "# Operate the car\n",
    "print(\"Operating Car:\")\n",
    "operate_vehicle(car)\n",
    "\n",
    "# Operate the bike\n",
    "print(\"\\nOperating Bike:\")\n",
    "operate_vehicle(bike)\n"
   ]
  },
  {
   "cell_type": "code",
   "execution_count": null,
   "metadata": {},
   "outputs": [],
   "source": []
  }
 ],
 "metadata": {
  "kernelspec": {
   "display_name": "Python 3",
   "language": "python",
   "name": "python3"
  },
  "language_info": {
   "codemirror_mode": {
    "name": "ipython",
    "version": 3
   },
   "file_extension": ".py",
   "mimetype": "text/x-python",
   "name": "python",
   "nbconvert_exporter": "python",
   "pygments_lexer": "ipython3",
   "version": "3.10.14"
  }
 },
 "nbformat": 4,
 "nbformat_minor": 2
}
