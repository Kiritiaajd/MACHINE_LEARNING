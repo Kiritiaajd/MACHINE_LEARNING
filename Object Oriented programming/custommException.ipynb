{
 "cells": [
  {
   "cell_type": "markdown",
   "metadata": {},
   "source": [
    "## custom Exception"
   ]
  },
  {
   "cell_type": "code",
   "execution_count": 8,
   "metadata": {},
   "outputs": [],
   "source": [
    "class Error(Exception):\n",
    "     pass \n",
    "\n",
    "class dobException(Error):\n",
    "    pass\n",
    "\n"
   ]
  },
  {
   "cell_type": "code",
   "execution_count": 9,
   "metadata": {},
   "outputs": [
    {
     "name": "stdout",
     "output_type": "stream",
     "text": [
      "You are eligible for Exam\n"
     ]
    }
   ],
   "source": [
    "year  = int(input(\"Enter the dob year\"))\n",
    "age = 2024-year\n",
    "\n",
    "try :\n",
    "    if age >= 18 and  age <= 25 :\n",
    "        print(\"You are eligible for Exam\")\n",
    "    else :\n",
    "        raise dobException\n",
    "except dobException :\n",
    "    print(\"You are not eligible for Exam\")\n"
   ]
  }
 ],
 "metadata": {
  "kernelspec": {
   "display_name": "Python 3",
   "language": "python",
   "name": "python3"
  },
  "language_info": {
   "codemirror_mode": {
    "name": "ipython",
    "version": 3
   },
   "file_extension": ".py",
   "mimetype": "text/x-python",
   "name": "python",
   "nbconvert_exporter": "python",
   "pygments_lexer": "ipython3",
   "version": "3.10.14"
  }
 },
 "nbformat": 4,
 "nbformat_minor": 2
}
