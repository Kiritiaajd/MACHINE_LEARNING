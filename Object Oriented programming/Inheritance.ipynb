{
 "cells": [
  {
   "cell_type": "markdown",
   "metadata": {},
   "source": [
    "Inheritance in object-oriented programming is a mechanism where a new class, known as a child class or subclass, can inherit properties and behaviors (attributes and methods) from an existing class, called the parent class or superclass. This allows the child class to reuse, extend, or modify the functionality of the parent class, promoting code reusability and maintainability."
   ]
  },
  {
   "cell_type": "code",
   "execution_count": 4,
   "metadata": {},
   "outputs": [
    {
     "name": "stdout",
     "output_type": "stream",
     "text": [
      "Name: Buddy, Age: 3\n",
      "Category: mammal\n",
      "Is Dangerous: False\n",
      "Is Pet: True\n",
      "Buddy says: Woof!\n"
     ]
    }
   ],
   "source": [
    "# Inheritance \n",
    "class  Car:\n",
    "    def __init__(self, brand, model, year):\n",
    "        self.brand = brand\n",
    "        self.model = model\n",
    "        self.year = year\n",
    "    \n",
    "    def  show_details(self):\n",
    "        print(f\"Brand: {self.brand}\")\n",
    "        print(f\"Model :{self.model}\")\n",
    "        print(f\"Year: {self.year}\")\n",
    "    \n",
    "\n",
    "class Tesla (Car):\n",
    "    def __init__(self, brand, model, year, engine , price , type):\n",
    "        super().__init__(brand, model, year)\n",
    "        self.engine = engine\n",
    "        self.price = price\n",
    "        self.type = type\n",
    "    def show_type(self):\n",
    "            super().show_details()\n",
    "            print(f\"Engine: {self.engine}\")\n",
    "            print(f\"Price : {self.price}\")\n",
    "            print(f\"Type: {self.type}\")\n",
    "    def selfDriving(type):\n",
    "            if type == \"Self Driving\":\n",
    "                return True\n",
    "            else:\n",
    "                return False\n",
    "\n",
    "\n",
    "Tesla1 =  Tesla(\"Tesla\", \"Model S\", 2020, \"Electric\", 100000, \"Self Driving\")\n",
    "Tesla1.show_type()\n",
    "\n",
    "\n",
    "\n"
   ]
  },
  {
   "cell_type": "code",
   "execution_count": 5,
   "metadata": {},
   "outputs": [
    {
     "name": "stdout",
     "output_type": "stream",
     "text": [
      "Name: Buddy, Age: 3\n",
      "Category: mammal\n",
      "Is Dangerous: False\n",
      "Is Pet: True\n",
      "Buddy says: Woof!\n"
     ]
    }
   ],
   "source": [
    "# Base class\n",
    "class Animal:\n",
    "    def __init__(self, name, age, wild_or_pet):\n",
    "        self.name = name\n",
    "        self.age = age\n",
    "        self.wild_or_pet = wild_or_pet\n",
    "\n",
    "    def category(self, cate):\n",
    "        if cate == \"mammal\":\n",
    "            return \"mammal\"\n",
    "        elif cate == \"bird\":\n",
    "            return \"bird\"\n",
    "        else:\n",
    "            return \"unknown\"\n",
    "\n",
    "# Class representing wild animals\n",
    "class Wild:\n",
    "    def is_dangerous(self):\n",
    "        dangerous_species = [\"lion\", \"tiger\", \"wolf\"]\n",
    "        return self.name.lower() in dangerous_species\n",
    "\n",
    "# Class representing pet animals\n",
    "class Pet:\n",
    "    def is_pet(self):\n",
    "        # A pet is true if the animal is not dangerous\n",
    "        return not self.is_dangerous()\n",
    "\n",
    "# Multiple Inheritance: Dog class inherits from both Wild and Pet\n",
    "class Dog(Animal, Wild, Pet):\n",
    "    def __init__(self, name, age):\n",
    "        super().__init__(name, age, wild_or_pet=\"pet\")\n",
    "\n",
    "    def bark(self):\n",
    "        return f\"{self.name} says: Woof!\"\n",
    "\n",
    "# Creating a Dog object\n",
    "my_dog = Dog(\"Buddy\", 3)\n",
    "\n",
    "# Accessing methods from both the Animal and Wild/Pet classes\n",
    "print(f\"Name: {my_dog.name}, Age: {my_dog.age}\")        # Output: Name: Buddy, Age: 3\n",
    "print(f\"Category: {my_dog.category('mammal')}\")         # Output: mammal\n",
    "print(f\"Is Dangerous: {my_dog.is_dangerous()}\")         # Output: False\n",
    "print(f\"Is Pet: {my_dog.is_pet()}\")                     # Output: True\n",
    "print(my_dog.bark())                                    # Output: Buddy says: Woof!\n"
   ]
  }
 ],
 "metadata": {
  "kernelspec": {
   "display_name": "Python 3",
   "language": "python",
   "name": "python3"
  },
  "language_info": {
   "codemirror_mode": {
    "name": "ipython",
    "version": 3
   },
   "file_extension": ".py",
   "mimetype": "text/x-python",
   "name": "python",
   "nbconvert_exporter": "python",
   "pygments_lexer": "ipython3",
   "version": "3.10.14"
  }
 },
 "nbformat": 4,
 "nbformat_minor": 2
}
