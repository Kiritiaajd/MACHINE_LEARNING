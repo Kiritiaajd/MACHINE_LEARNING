{
 "cells": [
  {
   "cell_type": "markdown",
   "metadata": {},
   "source": [
    "## MAGIC METHOD\n",
    "\n",
    "In object-oriented programming, a magic method (also known as a dunder method, short for \"double underscore\") is a special method in Python that starts and ends with double underscores (__). These methods are automatically invoked by the interpreter in certain situations, enabling you to define custom behavior for built-in operations or special functions in a class.\n",
    "\n",
    "Common Magic Methods:\n",
    "Initialization and Representation:\n",
    "\n",
    "__init__(self): Called when a new instance of the class is created (constructor). It allows you to initialize attributes.\n",
    "__str__(self): Defines the string representation of an object for readability, like when passed to print().\n",
    "__repr__(self): Provides an unambiguous string representation of the object, often used for debugging.\n",
    "Arithmetic Operations:\n",
    "\n",
    "__add__(self, other): Defines the behavior for the + operator.\n",
    "__sub__(self, other): Defines the behavior for the - operator.\n",
    "__mul__(self, other): Defines the behavior for the * operator.\n",
    "__truediv__(self, other): Defines the behavior for the / operator.\n",
    "Comparison Operations:\n",
    "\n",
    "__eq__(self, other): Called for the equality operator (==).\n",
    "__lt__(self, other): Called for the less than operator (<).\n",
    "__gt__(self, other): Called for the greater than operator (>).\n",
    "Attribute Access and Management:\n",
    "\n",
    "__getattr__(self, name): Called when trying to access an attribute that doesn't exist.\n",
    "__setattr__(self, name, value): Called when setting an attribute.\n",
    "__delattr__(self, name): Called when deleting an attribute.\n",
    "Container-like Behavior:\n",
    "\n",
    "__len__(self): Defines the behavior of len() for the object.\n",
    "__getitem__(self, key): Enables accessing elements like obj[key].\n",
    "__setitem__(self, key, value): Enables setting elements like obj[key] = value.\n",
    "__delitem__(self, key): Enables deleting elements like del obj[key].\n",
    "Callable and Context Management:\n",
    "\n",
    "__call__(self): Allows an instance of the class to be called like a function.\n",
    "__enter__(self): Called when entering a with statement block.\n",
    "__exit__(self, exc_type, exc_val, exc_tb): Called when exiting a with statement block."
   ]
  },
  {
   "cell_type": "code",
   "execution_count": 2,
   "metadata": {},
   "outputs": [
    {
     "name": "stdout",
     "output_type": "stream",
     "text": [
      "['__class__', '__delattr__', '__dict__', '__dir__', '__doc__', '__eq__', '__format__', '__ge__', '__getattribute__', '__gt__', '__hash__', '__init__', '__init_subclass__', '__le__', '__lt__', '__module__', '__ne__', '__new__', '__reduce__', '__reduce_ex__', '__repr__', '__setattr__', '__sizeof__', '__str__', '__subclasshook__', '__weakref__']\n",
      "<__main__.Person object at 0x0000020464857FD0>\n"
     ]
    }
   ],
   "source": [
    "class Person:\n",
    "    pass\n",
    "\n",
    "person = Person()\n",
    "\n",
    "print(dir(person))\n",
    "\n",
    "print(person)\n",
    "\n"
   ]
  },
  {
   "cell_type": "code",
   "execution_count": null,
   "metadata": {},
   "outputs": [],
   "source": [
    "## Basic Magic Method \n"
   ]
  }
 ],
 "metadata": {
  "kernelspec": {
   "display_name": "Python 3",
   "language": "python",
   "name": "python3"
  },
  "language_info": {
   "codemirror_mode": {
    "name": "ipython",
    "version": 3
   },
   "file_extension": ".py",
   "mimetype": "text/x-python",
   "name": "python",
   "nbconvert_exporter": "python",
   "pygments_lexer": "ipython3",
   "version": "3.10.14"
  }
 },
 "nbformat": 4,
 "nbformat_minor": 2
}
