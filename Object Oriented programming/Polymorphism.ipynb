{
 "cells": [
  {
   "cell_type": "markdown",
   "metadata": {},
   "source": [
    "\n",
    "Polymorphism in object-oriented programming (OOP) refers to the ability of a function, method, or object to take on many forms. It allows objects of different classes to be treated as objects of a common superclass, enabling methods to be defined in multiple ways for different types of objects. There are two main types of polymorphism: compile-time (method overloading) and run-time (method overriding)."
   ]
  },
  {
   "cell_type": "code",
   "execution_count": 4,
   "metadata": {},
   "outputs": [
    {
     "name": "stdout",
     "output_type": "stream",
     "text": [
      "meow\n",
      "woof\n",
      "woof\n"
     ]
    }
   ],
   "source": [
    "class Animal:\n",
    "    def speak(slef):\n",
    "        print(\"Animal makes a sound\")\n",
    "\n",
    "class Dog(Animal):\n",
    "    def speak(self):\n",
    "        return 'woof'\n",
    "    \n",
    "class  Cat(Animal):\n",
    "    def speak(self):\n",
    "        return 'meow'\n",
    "\n",
    "\n",
    "def animal_speak(Animal):\n",
    "    print(Animal.speak())\n",
    "Dog1 =  Dog()\n",
    "Cat1 = Cat()\n",
    "print(Cat1.speak())\n",
    "print(Dog1.speak())\n",
    "animal_speak(Dog1)\n",
    "\n",
    "\n"
   ]
  },
  {
   "cell_type": "code",
   "execution_count": 6,
   "metadata": {},
   "outputs": [
    {
     "name": "stdout",
     "output_type": "stream",
     "text": [
      "Name: Rectangle\n",
      "Width: 5\n",
      "Length: 6\n",
      "Perimeter: 22\n",
      "Area: 0\n",
      "Volume: 0\n",
      "Diagonal: 7.810249675906654\n",
      "\n",
      "Name: Triangle\n",
      "Width: 5\n",
      "Height: 6\n",
      "Area: 15.0\n",
      "Perimeter: 12\n"
     ]
    }
   ],
   "source": [
    "import math\n",
    "\n",
    "# Base Shape Class\n",
    "class Shape:\n",
    "    def __init__(self, name, width, length, height):\n",
    "        self.name = name\n",
    "        self.width = width\n",
    "        self.length = length\n",
    "        self.height = height\n",
    "    \n",
    "    def area(self):\n",
    "        return self.width * self.height\n",
    "    \n",
    "    def perimeter(self):\n",
    "        return 2 * (self.width + self.length)\n",
    "    \n",
    "    def volume(self):\n",
    "        return self.width * self.height * self.length\n",
    "\n",
    "\n",
    "# Rectangle Class inheriting from Shape\n",
    "class Rectangle(Shape):\n",
    "    def __init__(self, name, width, length):\n",
    "        super().__init__(name, width, length, 0)  # Height is 0 for 2D shapes like rectangles\n",
    "    \n",
    "    def diagonal(self):\n",
    "        return math.sqrt((self.width)**2 + (self.length)**2)\n",
    "\n",
    "\n",
    "# Triangle Class inheriting from Shape\n",
    "class Triangle(Shape):\n",
    "    def __init__(self, name, width, height):\n",
    "        super().__init__(name, width, 0, height)  # Length is 0 for 2D shapes like triangles\n",
    "    \n",
    "    def area(self):\n",
    "        return 0.5 * self.width * self.height\n",
    "    \n",
    "    def perimeter(self, a, b, c):\n",
    "        return a + b + c\n",
    "\n",
    "\n",
    "# Create a Rectangle object and use its methods\n",
    "rect = Rectangle(\"Rectangle\", 5, 6)\n",
    "print(f\"Name: {rect.name}\")\n",
    "print(f\"Width: {rect.width}\")\n",
    "print(f\"Length: {rect.length}\")\n",
    "print(f\"Perimeter: {rect.perimeter()}\")\n",
    "print(f\"Area: {rect.area()}\")\n",
    "print(f\"Volume: {rect.volume()}\")  # Volume will be 0 as it's a 2D shape\n",
    "print(f\"Diagonal: {rect.diagonal()}\")\n",
    "\n",
    "# Create a Triangle object and use its methods\n",
    "tri = Triangle(\"Triangle\", 5, 6)\n",
    "print(f\"\\nName: {tri.name}\")\n",
    "print(f\"Width: {tri.width}\")\n",
    "print(f\"Height: {tri.height}\")\n",
    "print(f\"Area: {tri.area()}\")\n",
    "print(f\"Perimeter: {tri.perimeter(3, 4, 5)}\")\n"
   ]
  }
 ],
 "metadata": {
  "kernelspec": {
   "display_name": "Python 3",
   "language": "python",
   "name": "python3"
  },
  "language_info": {
   "codemirror_mode": {
    "name": "ipython",
    "version": 3
   },
   "file_extension": ".py",
   "mimetype": "text/x-python",
   "name": "python",
   "nbconvert_exporter": "python",
   "pygments_lexer": "ipython3",
   "version": "3.10.14"
  }
 },
 "nbformat": 4,
 "nbformat_minor": 2
}
