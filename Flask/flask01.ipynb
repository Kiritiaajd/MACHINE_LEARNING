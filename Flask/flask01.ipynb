{
 "cells": [
  {
   "cell_type": "markdown",
   "metadata": {},
   "source": [
    "## Flask Framework\n",
    "WSGI (Web Server Gateway Interface): A standard interface between web servers and Python web applications or frameworks.\n",
    "\n",
    "\n",
    "Jinja2 Template Engine: A powerful template engine for Python, used in Flask to dynamically generate HTML.\n",
    "\n",
    "\n",
    "Flask: A lightweight and flexible web framework that allows for the creation and deployment of machine learning models using Python. It provides essential tools to build web applications and APIs for model integration and deployment."
   ]
  },
  {
   "cell_type": "code",
   "execution_count": null,
   "metadata": {
    "vscode": {
     "languageId": "plaintext"
    }
   },
   "outputs": [],
   "source": []
  }
 ],
 "metadata": {
  "language_info": {
   "name": "python"
  }
 },
 "nbformat": 4,
 "nbformat_minor": 2
}
