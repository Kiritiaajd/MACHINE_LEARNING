{
 "cells": [
  {
   "cell_type": "markdown",
   "metadata": {},
   "source": [
    "## Flask FrameWork\n",
    "1 - > WSGI - Web Server Gateway Interface\n",
    "2 -> Jinja2 Tamplate Engine \n",
    "\n",
    "Flask : A Web framework which us is created with python programming language"
   ]
  },
  {
   "cell_type": "code",
   "execution_count": null,
   "metadata": {
    "vscode": {
     "languageId": "plaintext"
    }
   },
   "outputs": [],
   "source": []
  }
 ],
 "metadata": {
  "language_info": {
   "name": "python"
  }
 },
 "nbformat": 4,
 "nbformat_minor": 2
}
