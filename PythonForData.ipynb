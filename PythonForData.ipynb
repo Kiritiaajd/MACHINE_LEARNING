{
  "nbformat": 4,
  "nbformat_minor": 0,
  "metadata": {
    "colab": {
      "provenance": [],
      "authorship_tag": "ABX9TyPiCcez2sZh5ZkEvvkcmfV+",
      "include_colab_link": true
    },
    "kernelspec": {
      "name": "python3",
      "display_name": "Python 3"
    },
    "language_info": {
      "name": "python"
    }
  },
  "cells": [
    {
      "cell_type": "markdown",
      "metadata": {
        "id": "view-in-github",
        "colab_type": "text"
      },
      "source": [
        "<a href=\"https://colab.research.google.com/github/Kiritiaajd/Python/blob/main/PythonForData.ipynb\" target=\"_parent\"><img src=\"https://colab.research.google.com/assets/colab-badge.svg\" alt=\"Open In Colab\"/></a>"
      ]
    },
    {
      "cell_type": "code",
      "execution_count": null,
      "metadata": {
        "id": "CukQUbNImGKl"
      },
      "outputs": [],
      "source": [
        "def greet():\n",
        "  print(\"Hello world\")"
      ]
    },
    {
      "cell_type": "code",
      "source": [
        "greet()"
      ],
      "metadata": {
        "colab": {
          "base_uri": "https://localhost:8080/"
        },
        "id": "ozvMs2dBmIMJ",
        "outputId": "1da62a63-1d72-4bbe-c8ce-73f8d53417f2"
      },
      "execution_count": null,
      "outputs": [
        {
          "output_type": "stream",
          "name": "stdout",
          "text": [
            "Hello world\n"
          ]
        }
      ]
    },
    {
      "cell_type": "code",
      "source": [
        "name = 'Aman'"
      ],
      "metadata": {
        "id": "tsh-sptMmWrM"
      },
      "execution_count": null,
      "outputs": []
    },
    {
      "cell_type": "code",
      "source": [
        "def greet(name):\n",
        "  print(\"Hello \" + name )"
      ],
      "metadata": {
        "id": "B6elPX4omQSX"
      },
      "execution_count": null,
      "outputs": []
    },
    {
      "cell_type": "code",
      "source": [
        "def add_numbers(num1 , num2):\n",
        "  return num1 + num2"
      ],
      "metadata": {
        "id": "gPfQ_n15mdN0"
      },
      "execution_count": null,
      "outputs": []
    },
    {
      "cell_type": "code",
      "source": [
        "add_numbers(2 , 3)"
      ],
      "metadata": {
        "colab": {
          "base_uri": "https://localhost:8080/"
        },
        "id": "c2lOVXn-mmw4",
        "outputId": "c1c53ae2-3383-4ab7-9024-b77274ac7022"
      },
      "execution_count": null,
      "outputs": [
        {
          "output_type": "execute_result",
          "data": {
            "text/plain": [
              "5"
            ]
          },
          "metadata": {},
          "execution_count": 16
        }
      ]
    },
    {
      "cell_type": "markdown",
      "source": [
        "Module and packages"
      ],
      "metadata": {
        "id": "LVlqHkUvmr3a"
      }
    },
    {
      "cell_type": "code",
      "source": [
        "import math\n",
        "\n",
        "print(math.sqrt(9))"
      ],
      "metadata": {
        "colab": {
          "base_uri": "https://localhost:8080/"
        },
        "id": "Bo6kn4JsmuHU",
        "outputId": "b099db68-97f5-43a2-d5e8-b9b57af7b034"
      },
      "execution_count": null,
      "outputs": [
        {
          "output_type": "stream",
          "name": "stdout",
          "text": [
            "3.0\n"
          ]
        }
      ]
    },
    {
      "cell_type": "markdown",
      "source": [
        "Packages in python"
      ],
      "metadata": {
        "id": "lfN_VZJvm8G2"
      }
    },
    {
      "cell_type": "code",
      "source": [
        "!pip install pandas"
      ],
      "metadata": {
        "colab": {
          "base_uri": "https://localhost:8080/"
        },
        "id": "u81MQpTRm6jp",
        "outputId": "6d813860-12f5-4605-fcf2-ee3f0a7f40cc"
      },
      "execution_count": null,
      "outputs": [
        {
          "output_type": "stream",
          "name": "stdout",
          "text": [
            "Requirement already satisfied: pandas in /usr/local/lib/python3.10/dist-packages (2.1.4)\n",
            "Requirement already satisfied: numpy<2,>=1.22.4 in /usr/local/lib/python3.10/dist-packages (from pandas) (1.26.4)\n",
            "Requirement already satisfied: python-dateutil>=2.8.2 in /usr/local/lib/python3.10/dist-packages (from pandas) (2.8.2)\n",
            "Requirement already satisfied: pytz>=2020.1 in /usr/local/lib/python3.10/dist-packages (from pandas) (2024.1)\n",
            "Requirement already satisfied: tzdata>=2022.1 in /usr/local/lib/python3.10/dist-packages (from pandas) (2024.1)\n",
            "Requirement already satisfied: six>=1.5 in /usr/local/lib/python3.10/dist-packages (from python-dateutil>=2.8.2->pandas) (1.16.0)\n"
          ]
        }
      ]
    },
    {
      "cell_type": "code",
      "source": [
        "import pandas as pd\n",
        "data = {'name': ['john' , 'Anna' , 'Peter'] , 'Age' : [20 , 30 , 40 ]}\n",
        "df = pd.DataFrame(data)\n",
        "print(df)"
      ],
      "metadata": {
        "colab": {
          "base_uri": "https://localhost:8080/"
        },
        "id": "PPquuaiQnHBe",
        "outputId": "513896eb-7088-46fc-ec21-724a3e9c1707"
      },
      "execution_count": null,
      "outputs": [
        {
          "output_type": "stream",
          "name": "stdout",
          "text": [
            "    name  Age\n",
            "0   john   20\n",
            "1   Anna   30\n",
            "2  Peter   40\n"
          ]
        }
      ]
    },
    {
      "cell_type": "code",
      "source": [
        "greeting  = \" Hello Data Engineering\"\n",
        "print(greeting)"
      ],
      "metadata": {
        "colab": {
          "base_uri": "https://localhost:8080/"
        },
        "id": "Hjv8b-dcnrBm",
        "outputId": "0fcbe998-0743-459b-9ecb-e2212e79c671"
      },
      "execution_count": null,
      "outputs": [
        {
          "output_type": "stream",
          "name": "stdout",
          "text": [
            " Hello Data Engineering\n"
          ]
        }
      ]
    },
    {
      "cell_type": "code",
      "source": [
        "print(greeting +\" \"+ name)"
      ],
      "metadata": {
        "colab": {
          "base_uri": "https://localhost:8080/"
        },
        "id": "yAZB3wm9n_32",
        "outputId": "03176f7a-fe33-4ded-c0f6-4d3fbcb8192f"
      },
      "execution_count": null,
      "outputs": [
        {
          "output_type": "stream",
          "name": "stdout",
          "text": [
            " Hello Data Engineering Aman\n"
          ]
        }
      ]
    },
    {
      "cell_type": "code",
      "source": [
        "sentence = '     hello WORLD     '\n",
        "print(sentence.strip())"
      ],
      "metadata": {
        "colab": {
          "base_uri": "https://localhost:8080/"
        },
        "id": "aX0-2LPeoH1l",
        "outputId": "c4167117-66f8-4228-d854-d3ad9647f9dd"
      },
      "execution_count": null,
      "outputs": [
        {
          "output_type": "stream",
          "name": "stdout",
          "text": [
            "hello WORLD\n"
          ]
        }
      ]
    },
    {
      "cell_type": "code",
      "source": [
        "index = greeting.find('Data')\n",
        "print(index)"
      ],
      "metadata": {
        "colab": {
          "base_uri": "https://localhost:8080/"
        },
        "id": "6b7YnktVoSTq",
        "outputId": "115dd190-f522-4cd0-f8b3-36a4e7f40928"
      },
      "execution_count": null,
      "outputs": [
        {
          "output_type": "stream",
          "name": "stdout",
          "text": [
            "7\n"
          ]
        }
      ]
    },
    {
      "cell_type": "code",
      "source": [
        "template = 'hello {}'\n",
        "print(template.format(name))"
      ],
      "metadata": {
        "colab": {
          "base_uri": "https://localhost:8080/"
        },
        "id": "MGSMRRDjodFA",
        "outputId": "b9f52f47-5fd8-4607-d407-0603808ef64a"
      },
      "execution_count": null,
      "outputs": [
        {
          "output_type": "stream",
          "name": "stdout",
          "text": [
            "hello Aman\n"
          ]
        }
      ]
    },
    {
      "cell_type": "code",
      "source": [
        "words = greeting.split()\n",
        "print(words)"
      ],
      "metadata": {
        "colab": {
          "base_uri": "https://localhost:8080/"
        },
        "id": "7Qgow8QyonFH",
        "outputId": "564a820b-c4b4-4812-8ca3-201fc35188ad"
      },
      "execution_count": null,
      "outputs": [
        {
          "output_type": "stream",
          "name": "stdout",
          "text": [
            "['Hello', 'Data', 'Engineering']\n"
          ]
        }
      ]
    },
    {
      "cell_type": "code",
      "source": [
        "try :\n",
        "  print(10/0)\n",
        "except ZeroDivisionError:\n",
        "  print(\"Not Defined\")"
      ],
      "metadata": {
        "colab": {
          "base_uri": "https://localhost:8080/"
        },
        "id": "8BvWbWmcor80",
        "outputId": "a96c542f-cddb-4aeb-a265-625fe5302351"
      },
      "execution_count": null,
      "outputs": [
        {
          "output_type": "stream",
          "name": "stdout",
          "text": [
            "Not Defined\n"
          ]
        }
      ]
    },
    {
      "cell_type": "code",
      "source": [
        "try:\n",
        "  print(10/2)\n",
        "except ZeroDivisionError:\n",
        "  print(\"Not Defined\")\n",
        "except:\n",
        "  print(\"No Error\")\n",
        "finally:\n",
        "  print(\"Exacute always \")"
      ],
      "metadata": {
        "colab": {
          "base_uri": "https://localhost:8080/"
        },
        "id": "AUz6eB7HpKBj",
        "outputId": "453cd45c-e7e7-4e46-a5fa-9942115ddf0f"
      },
      "execution_count": null,
      "outputs": [
        {
          "output_type": "stream",
          "name": "stdout",
          "text": [
            "Not Defined\n",
            "Exacute always \n"
          ]
        }
      ]
    },
    {
      "cell_type": "markdown",
      "source": [
        "Collections"
      ],
      "metadata": {
        "id": "UkMGCTO92njw"
      }
    },
    {
      "cell_type": "markdown",
      "source": [
        "**TUPLES**"
      ],
      "metadata": {
        "id": "WDtkwIsj28QQ"
      }
    },
    {
      "cell_type": "code",
      "source": [
        "employee = (1 , 'Aman' , 'Bhubaneshwar' , 9.98)\n",
        "print(employee)"
      ],
      "metadata": {
        "colab": {
          "base_uri": "https://localhost:8080/"
        },
        "id": "zhA0jwvRpUMD",
        "outputId": "737a64c5-6b84-4832-d43d-234fd8b846f4"
      },
      "execution_count": null,
      "outputs": [
        {
          "output_type": "stream",
          "name": "stdout",
          "text": [
            "(1, 'Aman', 'Bhubaneshwar', 9.98)\n"
          ]
        }
      ]
    },
    {
      "cell_type": "code",
      "source": [
        "print(employee[1])"
      ],
      "metadata": {
        "colab": {
          "base_uri": "https://localhost:8080/"
        },
        "id": "opepE4My222N",
        "outputId": "fe61c12f-6787-41dc-9809-dddc33abf4c7"
      },
      "execution_count": null,
      "outputs": [
        {
          "output_type": "stream",
          "name": "stdout",
          "text": [
            "Aman\n"
          ]
        }
      ]
    },
    {
      "cell_type": "code",
      "source": [
        "print(len(employee))\n",
        "print(employee.index('Aman'))"
      ],
      "metadata": {
        "colab": {
          "base_uri": "https://localhost:8080/"
        },
        "id": "hJfEEgU43VOy",
        "outputId": "21e01bc0-fcf5-4022-8990-65adb5ac225e"
      },
      "execution_count": null,
      "outputs": [
        {
          "output_type": "stream",
          "name": "stdout",
          "text": [
            "4\n",
            "1\n"
          ]
        }
      ]
    },
    {
      "cell_type": "code",
      "source": [
        "print(employee[-2])"
      ],
      "metadata": {
        "colab": {
          "base_uri": "https://localhost:8080/"
        },
        "id": "taI7uogc3cn7",
        "outputId": "17752c37-d9f0-4833-d9a2-4c36961f6e8e"
      },
      "execution_count": null,
      "outputs": [
        {
          "output_type": "stream",
          "name": "stdout",
          "text": [
            "Bhubaneshwar\n"
          ]
        }
      ]
    },
    {
      "cell_type": "code",
      "source": [
        "new_emp = list(employee)\n",
        "print(new_emp)\n",
        "\n",
        "new_emp[1] = 'Kiriti'\n",
        "print(new_emp)\n",
        "\n",
        "employee = tuple(new_emp)\n",
        "print(employee)"
      ],
      "metadata": {
        "colab": {
          "base_uri": "https://localhost:8080/"
        },
        "id": "njPj7YPd3oNK",
        "outputId": "6e076453-ee1d-435d-9c6e-a97eac9fef13"
      },
      "execution_count": null,
      "outputs": [
        {
          "output_type": "stream",
          "name": "stdout",
          "text": [
            "[1, 'Aman', 'Bhubaneshwar', 9.98]\n",
            "[1, 'Kiriti', 'Bhubaneshwar', 9.98]\n",
            "(1, 'Kiriti', 'Bhubaneshwar', 9.98)\n"
          ]
        }
      ]
    },
    {
      "cell_type": "code",
      "source": [
        "for x in employee:\n",
        "  print(x)"
      ],
      "metadata": {
        "colab": {
          "base_uri": "https://localhost:8080/"
        },
        "id": "Y-ilQGbz311b",
        "outputId": "93d24e5e-e871-42db-b16a-f79f2515bf08"
      },
      "execution_count": null,
      "outputs": [
        {
          "output_type": "stream",
          "name": "stdout",
          "text": [
            "1\n",
            "Kiriti\n",
            "Bhubaneshwar\n",
            "9.98\n"
          ]
        }
      ]
    },
    {
      "cell_type": "markdown",
      "source": [
        "**LIST**"
      ],
      "metadata": {
        "id": "7hmNVNou4MMA"
      }
    },
    {
      "cell_type": "code",
      "source": [
        "task = ['task1' , 'task2' , 'task3']\n",
        "print(task)"
      ],
      "metadata": {
        "colab": {
          "base_uri": "https://localhost:8080/"
        },
        "id": "MaXFH94p3_Yx",
        "outputId": "2da26c24-a1c7-40f9-811d-f3b2945b54f1"
      },
      "execution_count": null,
      "outputs": [
        {
          "output_type": "stream",
          "name": "stdout",
          "text": [
            "['task1', 'task2', 'task3']\n"
          ]
        }
      ]
    },
    {
      "cell_type": "code",
      "source": [
        "task.append('task4')\n",
        "print(task)"
      ],
      "metadata": {
        "colab": {
          "base_uri": "https://localhost:8080/"
        },
        "id": "tL7mg1rs4gTC",
        "outputId": "62964eb2-9a71-4fca-a09a-946de5cd0ae9"
      },
      "execution_count": null,
      "outputs": [
        {
          "output_type": "stream",
          "name": "stdout",
          "text": [
            "['task1', 'task2', 'task3', 'task4']\n"
          ]
        }
      ]
    },
    {
      "cell_type": "code",
      "source": [
        "task[0] = 'task0'\n",
        "print(task)"
      ],
      "metadata": {
        "colab": {
          "base_uri": "https://localhost:8080/"
        },
        "id": "q9nbjA7P4kgg",
        "outputId": "90a51ed6-21b9-4680-ba8f-bc4d25bd0f0e"
      },
      "execution_count": null,
      "outputs": [
        {
          "output_type": "stream",
          "name": "stdout",
          "text": [
            "['task0', 'task2', 'task3', 'task4']\n"
          ]
        }
      ]
    },
    {
      "cell_type": "code",
      "source": [
        "task.remove('task0')\n",
        "print(task)"
      ],
      "metadata": {
        "colab": {
          "base_uri": "https://localhost:8080/"
        },
        "id": "50vSkn3Z5MED",
        "outputId": "52963205-9033-48bd-d26f-216f388c3333"
      },
      "execution_count": null,
      "outputs": [
        {
          "output_type": "stream",
          "name": "stdout",
          "text": [
            "['task2', 'task3', 'task4']\n"
          ]
        }
      ]
    },
    {
      "cell_type": "code",
      "source": [
        "task.insert(0 , 'task0')\n",
        "task.insert(1 , 'task1')\n",
        "task.remove('task0')\n",
        "print(task)"
      ],
      "metadata": {
        "colab": {
          "base_uri": "https://localhost:8080/"
        },
        "id": "zras3QIx5n4Q",
        "outputId": "38493e2d-43e8-469b-d2a7-665fc2ae20a6"
      },
      "execution_count": null,
      "outputs": [
        {
          "output_type": "stream",
          "name": "stdout",
          "text": [
            "['task1', 'task0', 'task1', 'task0', 'task0', 'task0', 'task2', 'task3', 'task4']\n"
          ]
        }
      ]
    },
    {
      "cell_type": "code",
      "source": [
        "for x in task:\n",
        "  print(x)"
      ],
      "metadata": {
        "colab": {
          "base_uri": "https://localhost:8080/"
        },
        "id": "mUMwbROC5YFy",
        "outputId": "c4117c05-511a-49a0-fa05-ac19bf54293a"
      },
      "execution_count": null,
      "outputs": [
        {
          "output_type": "stream",
          "name": "stdout",
          "text": [
            "task1\n",
            "task0\n",
            "task1\n",
            "task0\n",
            "task0\n",
            "task0\n",
            "task2\n",
            "task3\n",
            "task4\n"
          ]
        }
      ]
    },
    {
      "cell_type": "code",
      "source": [
        "task ={'task1' , 'task2' , 'task3' , 'task3'}\n",
        "print(task)"
      ],
      "metadata": {
        "colab": {
          "base_uri": "https://localhost:8080/"
        },
        "id": "wf6XfGuR59pL",
        "outputId": "f7763d68-5e14-4c04-9d18-4c1fcde9e48b"
      },
      "execution_count": null,
      "outputs": [
        {
          "output_type": "stream",
          "name": "stdout",
          "text": [
            "{'task2', 'task1', 'task3'}\n"
          ]
        }
      ]
    },
    {
      "cell_type": "code",
      "source": [
        "new_task = {'task4' , 'task5'}\n",
        "task.update(new_task)\n",
        "print(task)"
      ],
      "metadata": {
        "colab": {
          "base_uri": "https://localhost:8080/"
        },
        "id": "B4yl14936eFW",
        "outputId": "a0ec8cab-ad50-4bbe-9648-7b1a3db7a1e3"
      },
      "execution_count": null,
      "outputs": [
        {
          "output_type": "stream",
          "name": "stdout",
          "text": [
            "{'task3', 'task5', 'task2', 'task1', 'task4'}\n"
          ]
        }
      ]
    },
    {
      "cell_type": "code",
      "source": [
        "task.remove('task4')\n",
        "print(task)"
      ],
      "metadata": {
        "colab": {
          "base_uri": "https://localhost:8080/"
        },
        "id": "G5Wl92NN606D",
        "outputId": "ac2be0d0-7bc1-40cb-eda7-2619402e65d0"
      },
      "execution_count": null,
      "outputs": [
        {
          "output_type": "stream",
          "name": "stdout",
          "text": [
            "{'task3', 'task5', 'task2', 'task1'}\n"
          ]
        }
      ]
    },
    {
      "cell_type": "code",
      "source": [
        "new_task.clear()\n",
        "print(new_task)"
      ],
      "metadata": {
        "colab": {
          "base_uri": "https://localhost:8080/"
        },
        "id": "Pl_orVv-66qT",
        "outputId": "9f98f534-9626-4c28-8f74-91c752cd5bec"
      },
      "execution_count": null,
      "outputs": [
        {
          "output_type": "stream",
          "name": "stdout",
          "text": [
            "set()\n"
          ]
        }
      ]
    },
    {
      "cell_type": "markdown",
      "source": [
        "**Dictionaries**"
      ],
      "metadata": {
        "id": "5CUgBPAn7GWC"
      }
    },
    {
      "cell_type": "code",
      "source": [
        "user ={'name' : 'Aman' , 'city' : 'Indore' , 'age' :20}\n",
        "print(user)"
      ],
      "metadata": {
        "colab": {
          "base_uri": "https://localhost:8080/"
        },
        "id": "abf648qh7AP1",
        "outputId": "fb1508bc-d1ed-4b26-d7c3-45432f93dac8"
      },
      "execution_count": null,
      "outputs": [
        {
          "output_type": "stream",
          "name": "stdout",
          "text": [
            "{'name': 'Aman', 'city': 'Indore', 'age': 20}\n"
          ]
        }
      ]
    },
    {
      "cell_type": "code",
      "source": [
        "print(user['city'])"
      ],
      "metadata": {
        "colab": {
          "base_uri": "https://localhost:8080/"
        },
        "id": "myUkpbiJ7mxT",
        "outputId": "27c79e2e-a15e-4fe0-b541-bf6c0a424322"
      },
      "execution_count": null,
      "outputs": [
        {
          "output_type": "stream",
          "name": "stdout",
          "text": [
            "Indore\n"
          ]
        }
      ]
    },
    {
      "cell_type": "code",
      "source": [
        "user.get('name')"
      ],
      "metadata": {
        "colab": {
          "base_uri": "https://localhost:8080/",
          "height": 35
        },
        "id": "Xo-luQuH7qZk",
        "outputId": "98f358bd-be9e-4266-ac5a-5bd3c2b9e7a0"
      },
      "execution_count": null,
      "outputs": [
        {
          "output_type": "execute_result",
          "data": {
            "text/plain": [
              "'Aman'"
            ],
            "application/vnd.google.colaboratory.intrinsic+json": {
              "type": "string"
            }
          },
          "metadata": {},
          "execution_count": 84
        }
      ]
    },
    {
      "cell_type": "code",
      "source": [
        "keys = user.keys()\n",
        "print(keys)"
      ],
      "metadata": {
        "colab": {
          "base_uri": "https://localhost:8080/"
        },
        "id": "vHx-M5Xr7ujO",
        "outputId": "08a6aa26-d4a6-4ba0-9586-e04b8b94f9ba"
      },
      "execution_count": null,
      "outputs": [
        {
          "output_type": "stream",
          "name": "stdout",
          "text": [
            "dict_keys(['name', 'city', 'age'])\n"
          ]
        }
      ]
    },
    {
      "cell_type": "code",
      "source": [
        "values = user.values()\n",
        "print(values)"
      ],
      "metadata": {
        "colab": {
          "base_uri": "https://localhost:8080/"
        },
        "id": "T2-y1U8d7zQm",
        "outputId": "6eeca189-e7ed-4e5c-b8a3-9254aa672f82"
      },
      "execution_count": null,
      "outputs": [
        {
          "output_type": "stream",
          "name": "stdout",
          "text": [
            "dict_values(['Aman', 'Indore', 20])\n"
          ]
        }
      ]
    },
    {
      "cell_type": "code",
      "source": [
        "if 'name' in user:\n",
        "  print('yes')"
      ],
      "metadata": {
        "colab": {
          "base_uri": "https://localhost:8080/"
        },
        "id": "7edyhZm075Os",
        "outputId": "8040f5a3-1926-452a-a415-dc23962bf056"
      },
      "execution_count": null,
      "outputs": [
        {
          "output_type": "stream",
          "name": "stdout",
          "text": [
            "yes\n"
          ]
        }
      ]
    },
    {
      "cell_type": "code",
      "source": [
        "user['city'] = 'Mumbai'\n",
        "print(user)"
      ],
      "metadata": {
        "colab": {
          "base_uri": "https://localhost:8080/"
        },
        "id": "C8YsfITY792J",
        "outputId": "6cd71423-d113-4e83-caba-ab49c47ca64b"
      },
      "execution_count": null,
      "outputs": [
        {
          "output_type": "stream",
          "name": "stdout",
          "text": [
            "{'name': 'Aman', 'city': 'Mumbai', 'age': 20}\n"
          ]
        }
      ]
    },
    {
      "cell_type": "code",
      "source": [
        "user.update({'age' : 21 , 'mobile' : 9931})\n",
        "print(user)"
      ],
      "metadata": {
        "colab": {
          "base_uri": "https://localhost:8080/"
        },
        "id": "bsBM4twi8FMy",
        "outputId": "d8791eb3-0edd-407d-bf85-d3e7b709b66c"
      },
      "execution_count": null,
      "outputs": [
        {
          "output_type": "stream",
          "name": "stdout",
          "text": [
            "{'name': 'Aman', 'city': 'Mumbai', 'age': 21, 'mobile': 9931}\n"
          ]
        }
      ]
    },
    {
      "cell_type": "code",
      "source": [
        "user.pop('mobile')\n",
        "print(user)"
      ],
      "metadata": {
        "colab": {
          "base_uri": "https://localhost:8080/"
        },
        "id": "hrKAT1dk8PBg",
        "outputId": "ee234c78-a4c9-4e21-a3ba-778e7256c78d"
      },
      "execution_count": null,
      "outputs": [
        {
          "output_type": "stream",
          "name": "stdout",
          "text": [
            "{'name': 'Aman', 'city': 'Mumbai', 'age': 21}\n"
          ]
        }
      ]
    },
    {
      "cell_type": "code",
      "source": [
        "for x in user.keys():\n",
        "  print(user[x])"
      ],
      "metadata": {
        "colab": {
          "base_uri": "https://localhost:8080/"
        },
        "id": "LRTK8xMC8U42",
        "outputId": "64354fc0-cd6e-4dd8-b005-3bea89fc3a9a"
      },
      "execution_count": null,
      "outputs": [
        {
          "output_type": "stream",
          "name": "stdout",
          "text": [
            "Aman\n",
            "Mumbai\n",
            "21\n"
          ]
        }
      ]
    },
    {
      "cell_type": "code",
      "source": [
        "new_user = user\n",
        "print(new_user)"
      ],
      "metadata": {
        "colab": {
          "base_uri": "https://localhost:8080/"
        },
        "id": "CseOMZdg8YlW",
        "outputId": "677aa81a-94d7-45fa-8035-a03a322bb8cb"
      },
      "execution_count": null,
      "outputs": [
        {
          "output_type": "stream",
          "name": "stdout",
          "text": [
            "{'name': 'Aman', 'city': 'Mumbai', 'age': 21}\n"
          ]
        }
      ]
    },
    {
      "cell_type": "code",
      "source": [
        "new_user.update({'name' : 'Raju'})\n",
        "print(new_user)\n",
        "print(user)"
      ],
      "metadata": {
        "colab": {
          "base_uri": "https://localhost:8080/"
        },
        "id": "-UJWPGXB8sFZ",
        "outputId": "262a66e3-dfba-4249-ca1b-87bb28827d46"
      },
      "execution_count": null,
      "outputs": [
        {
          "output_type": "stream",
          "name": "stdout",
          "text": [
            "{'name': 'Raju', 'city': 'Mumbai', 'age': 21}\n",
            "{'name': 'Raju', 'city': 'Mumbai', 'age': 21}\n"
          ]
        }
      ]
    },
    {
      "cell_type": "code",
      "source": [
        "new_user= user.copy()\n",
        "print(new_user)"
      ],
      "metadata": {
        "colab": {
          "base_uri": "https://localhost:8080/"
        },
        "id": "s9AbFwnc82GL",
        "outputId": "9f7ea4dd-58a5-4c7b-e50e-f2e265a447f7"
      },
      "execution_count": null,
      "outputs": [
        {
          "output_type": "stream",
          "name": "stdout",
          "text": [
            "{'name': 'Raju', 'city': 'Mumbai', 'age': 21}\n"
          ]
        }
      ]
    },
    {
      "cell_type": "code",
      "source": [
        "new_user.update({'name' : 'shyam'})\n",
        "print(new_user)\n",
        "print(user)"
      ],
      "metadata": {
        "colab": {
          "base_uri": "https://localhost:8080/"
        },
        "id": "Vt7G3fK688Uv",
        "outputId": "fee04f8f-3e4b-42aa-ce68-3e58749f459a"
      },
      "execution_count": null,
      "outputs": [
        {
          "output_type": "stream",
          "name": "stdout",
          "text": [
            "{'name': 'shyam', 'city': 'Mumbai', 'age': 21}\n",
            "{'name': 'Raju', 'city': 'Mumbai', 'age': 21}\n"
          ]
        }
      ]
    },
    {
      "cell_type": "markdown",
      "source": [
        "**File Handling**"
      ],
      "metadata": {
        "id": "hWuZrlnagKD1"
      }
    },
    {
      "cell_type": "code",
      "source": [
        "import csv\n",
        "with open('/content/retail_sales.csv' , mode = 'r') as file:\n",
        "    csv_read = csv.reader(file)\n",
        "    for row in csv_read:\n",
        "        print(row)"
      ],
      "metadata": {
        "id": "lsDuRenJgJm-"
      },
      "execution_count": null,
      "outputs": []
    },
    {
      "cell_type": "code",
      "source": [
        "import csv\n",
        "\n",
        "data = [['Name ' , 'Age' , 'Country'],\n",
        "        ['Alice' , 28 , 'USA'] ,\n",
        "        ['Bob' , 32 , 'Canada']]\n",
        "\n",
        "with open('output.csv' , mode = 'w') as file :\n",
        "  csv_writer = csv.writer(file)\n",
        "  csv_writer.writerows(data)"
      ],
      "metadata": {
        "id": "HgyhrRRTg-4U"
      },
      "execution_count": null,
      "outputs": []
    },
    {
      "cell_type": "code",
      "source": [
        "with open('output.csv' ,mode = 'r') as file:\n",
        "  for data in file:\n",
        "    print(data)"
      ],
      "metadata": {
        "colab": {
          "base_uri": "https://localhost:8080/"
        },
        "id": "wjX0B7CehyWY",
        "outputId": "4777e977-76b9-4ea4-9d2b-c0bd8a940a4f"
      },
      "execution_count": null,
      "outputs": [
        {
          "output_type": "stream",
          "name": "stdout",
          "text": [
            "Name ,Age,Country\n",
            "\n",
            "Alice,28,USA\n",
            "\n",
            "Bob,32,Canada\n",
            "\n"
          ]
        }
      ]
    },
    {
      "cell_type": "code",
      "source": [
        "import json\n",
        "with open('/content/brain-stroke-prediction-ct-scan-image-dataset-metadata.json' , mode = 'r') as file:\n",
        "  data = json.load(file)\n",
        "  print(data)"
      ],
      "metadata": {
        "colab": {
          "base_uri": "https://localhost:8080/"
        },
        "id": "brBhBTCOiGIV",
        "outputId": "d0dc8919-ffc7-46ca-b479-66eaab9f3c00"
      },
      "execution_count": null,
      "outputs": [
        {
          "output_type": "stream",
          "name": "stdout",
          "text": [
            "{'@context': {'@language': 'en', '@vocab': 'https://schema.org/', 'citeAs': 'cr:citeAs', 'column': 'cr:column', 'conformsTo': 'dct:conformsTo', 'cr': 'http://mlcommons.org/croissant/', 'data': {'@id': 'cr:data', '@type': '@json'}, 'dataBiases': 'cr:dataBiases', 'dataCollection': 'cr:dataCollection', 'dataType': {'@id': 'cr:dataType', '@type': '@vocab'}, 'dct': 'http://purl.org/dc/terms/', 'extract': 'cr:extract', 'field': 'cr:field', 'fileProperty': 'cr:fileProperty', 'fileObject': 'cr:fileObject', 'fileSet': 'cr:fileSet', 'format': 'cr:format', 'includes': 'cr:includes', 'isEnumeration': 'cr:isEnumeration', 'isLiveDataset': 'cr:isLiveDataset', 'jsonPath': 'cr:jsonPath', 'key': 'cr:key', 'md5': 'cr:md5', 'parentField': 'cr:parentField', 'path': 'cr:path', 'personalSensitiveInformation': 'cr:personalSensitiveInformation', 'recordSet': 'cr:recordSet', 'references': 'cr:references', 'regex': 'cr:regex', 'repeated': 'cr:repeated', 'replace': 'cr:replace', 'sc': 'https://schema.org/', 'separator': 'cr:separator', 'source': 'cr:source', 'subField': 'cr:subField', 'transform': 'cr:transform', 'wd': 'https://www.wikidata.org/wiki/'}, 'alternateName': '', 'conformsTo': 'http://mlcommons.org/croissant/1.0', 'license': {'@type': 'sc:CreativeWork', 'name': 'Unknown'}, 'distribution': [{'contentUrl': 'https://www.kaggle.com/api/v1/datasets/download/noshintasnia/brain-stroke-prediction-ct-scan-image-dataset?datasetVersionNumber=1', 'contentSize': '60.703 MB', 'md5': 'O9b7Els4K0cAhtn/iGAtqA==', 'encodingFormat': 'application/zip', '@id': 'archive.zip', '@type': 'cr:FileObject', 'name': 'archive.zip', 'description': 'Archive containing all the contents of the brain-stroke-prediction-ct-scan-image-dataset dataset'}, {'includes': '*.jpg', 'containedIn': {'@id': 'archive.zip'}, 'encodingFormat': 'image/jpeg', '@id': 'image-jpeg_fileset', '@type': 'cr:FileSet', 'name': 'image/jpeg files', 'description': 'image/jpeg files contained in archive.zip'}], 'version': 1, 'keywords': [], 'isAccessibleForFree': True, 'includedInDataCatalog': {'@type': 'sc:DataCatalog', 'name': 'Kaggle', 'url': 'https://www.kaggle.com'}, 'creator': {'@type': 'sc:Person', 'name': 'Noshin Tasnia', 'url': '/noshintasnia', 'image': 'https://storage.googleapis.com/kaggle-avatars/thumbnails/9252258-gr.jpg'}, 'publisher': {'@type': 'sc:Organization', 'name': 'Kaggle', 'url': 'https://www.kaggle.com/organizations/kaggle', 'image': 'https://storage.googleapis.com/kaggle-organizations/4/thumbnail.png'}, 'thumbnailUrl': 'https://storage.googleapis.com/kaggle-datasets-images/new-version-temp-images/default-backgrounds-29.png-9252258/dataset-card.png', 'dateModified': '2023-10-23T18:19:12.77', 'datePublished': '2023-10-26T06:11:27.5069768', '@type': 'sc:Dataset', 'name': 'brain-stroke-prediction-ct-scan-image-dataset', 'url': 'https://www.kaggle.com/datasets/noshintasnia/brain-stroke-prediction-ct-scan-image-dataset/versions/1', 'description': ''}\n"
          ]
        }
      ]
    },
    {
      "cell_type": "code",
      "source": [
        "import json\n",
        "data = {'name' : 'Aman' , 'age' : 20 , 'city' : 'Indore'}\n",
        "\n",
        "with open('output.json', mode = 'w') as file :\n",
        "  json.dump(data , file)"
      ],
      "metadata": {
        "id": "YSQAXd2ziunz"
      },
      "execution_count": null,
      "outputs": []
    },
    {
      "cell_type": "code",
      "source": [
        "import json\n",
        "with open('/content/output.json' , mode = 'r') as file:\n",
        "  data = json.load(file)\n",
        "  print(data)"
      ],
      "metadata": {
        "colab": {
          "base_uri": "https://localhost:8080/"
        },
        "id": "7Ga_8UabjePy",
        "outputId": "1323ab71-c94b-4ffe-c536-c6319a109db7"
      },
      "execution_count": null,
      "outputs": [
        {
          "output_type": "stream",
          "name": "stdout",
          "text": [
            "{'name': 'Aman', 'age': 20, 'city': 'Indore'}\n"
          ]
        }
      ]
    },
    {
      "cell_type": "markdown",
      "source": [
        "**pandas**"
      ],
      "metadata": {
        "id": "khLxvl8Pjz0e"
      }
    },
    {
      "cell_type": "code",
      "source": [
        "import pandas as pd\n",
        "df = pd.read_csv('/content/output.csv')\n",
        "print(df)"
      ],
      "metadata": {
        "colab": {
          "base_uri": "https://localhost:8080/"
        },
        "id": "GlD3YKBbjnAL",
        "outputId": "35f5ebc6-3aa5-417b-ee77-bbe94a1e988a"
      },
      "execution_count": null,
      "outputs": [
        {
          "output_type": "stream",
          "name": "stdout",
          "text": [
            "   Name   Age Country\n",
            "0  Alice   28     USA\n",
            "1    Bob   32  Canada\n"
          ]
        }
      ]
    },
    {
      "cell_type": "code",
      "source": [
        "import matplotlib.pyplot as plt\n",
        "\n",
        "data = {'Hours_Studied' : [1,2,3,4,5,6,10],\n",
        "        'Exam_Score' : [40 , 50 , 42 , 90 , 87 , 78 , 90]}\n",
        "\n",
        "df = pd.DataFrame(data)\n",
        "df.plot(x = 'Hours_Studied' , y = 'Exam_Score' , kind = 'bar')\n",
        "plt.show()"
      ],
      "metadata": {
        "colab": {
          "base_uri": "https://localhost:8080/",
          "height": 453
        },
        "id": "ReI8GCiPt89b",
        "outputId": "2cad95ba-7932-4a89-c8f0-1d9b4d852606"
      },
      "execution_count": null,
      "outputs": [
        {
          "output_type": "display_data",
          "data": {
            "text/plain": [
              "<Figure size 640x480 with 1 Axes>"
            ],
            "image/png": "[encoded data removed]"
          },
          "metadata": {}
        }
      ]
    },
    {
      "cell_type": "code",
      "source": [
        "import numpy as np\n",
        "\n",
        "nums = [1,2,3,4,5,6]\n",
        "arr = np.array(nums)\n",
        "print(arr)"
      ],
      "metadata": {
        "colab": {
          "base_uri": "https://localhost:8080/"
        },
        "id": "Finq8irSwvuF",
        "outputId": "3e9b41c7-dd3c-4e40-e9e2-0df708ad9ad1"
      },
      "execution_count": null,
      "outputs": [
        {
          "output_type": "stream",
          "name": "stdout",
          "text": [
            "[1 2 3 4 5 6]\n"
          ]
        }
      ]
    },
    {
      "cell_type": "code",
      "source": [
        "zero_array = np.zeros(5)\n",
        "print(zero_array)\n"
      ],
      "metadata": {
        "colab": {
          "base_uri": "https://localhost:8080/"
        },
        "id": "9C1Nkcj958HW",
        "outputId": "ffdf8cf3-0383-43c9-fe72-d9db8af5c2da"
      },
      "execution_count": null,
      "outputs": [
        {
          "output_type": "stream",
          "name": "stdout",
          "text": [
            "[0. 0. 0. 0. 0.]\n"
          ]
        }
      ]
    },
    {
      "cell_type": "code",
      "source": [
        "ones_array = np.ones(3)\n",
        "print(ones_array)"
      ],
      "metadata": {
        "colab": {
          "base_uri": "https://localhost:8080/"
        },
        "id": "lnGxGM4d6OSU",
        "outputId": "9be9dab3-528f-46d3-bbe7-d87dc0924be8"
      },
      "execution_count": null,
      "outputs": [
        {
          "output_type": "stream",
          "name": "stdout",
          "text": [
            "[1. 1. 1.]\n"
          ]
        }
      ]
    },
    {
      "cell_type": "code",
      "source": [
        "random_array = np.random.randint(1,100,10)\n",
        "print(random_array)"
      ],
      "metadata": {
        "colab": {
          "base_uri": "https://localhost:8080/"
        },
        "id": "m5yzhrl46Tnw",
        "outputId": "65a3dee3-5cdf-4987-86c3-d974cd554672"
      },
      "execution_count": null,
      "outputs": [
        {
          "output_type": "stream",
          "name": "stdout",
          "text": [
            "[10 24 72 96 83 23 12 78 64 40]\n"
          ]
        }
      ]
    },
    {
      "cell_type": "code",
      "source": [
        "random_matrix = np.random.rand(3,3)\n",
        "print(random_matrix)"
      ],
      "metadata": {
        "colab": {
          "base_uri": "https://localhost:8080/"
        },
        "id": "k4UQ_7YX6cC8",
        "outputId": "11f78b88-3d57-4b79-cc82-de24dda9310a"
      },
      "execution_count": null,
      "outputs": [
        {
          "output_type": "stream",
          "name": "stdout",
          "text": [
            "[[0.78051372 0.7502527  0.26795999]\n",
            " [0.46936441 0.68231539 0.55360456]\n",
            " [0.73154944 0.3844481  0.52891699]]\n"
          ]
        }
      ]
    },
    {
      "cell_type": "code",
      "source": [
        "import numpy as np\n",
        "array1 = [1 ,2 , 3,4 , 5]\n",
        "array2 = [6,7,8,9,0]\n",
        "sum = array1 + array2\n",
        "print(sum)\n",
        "array3 = np.add(array1 , array2)\n",
        "print(array3)"
      ],
      "metadata": {
        "colab": {
          "base_uri": "https://localhost:8080/"
        },
        "id": "u9KDp8aB6l7f",
        "outputId": "b614aa17-c6a2-413b-89d8-bf70dbbece8f"
      },
      "execution_count": null,
      "outputs": [
        {
          "output_type": "stream",
          "name": "stdout",
          "text": [
            "[1, 2, 3, 4, 5, 6, 7, 8, 9, 0]\n",
            "[ 7  9 11 13  5]\n"
          ]
        }
      ]
    },
    {
      "cell_type": "code",
      "source": [
        "max = np.max(array3)\n",
        "print(max)"
      ],
      "metadata": {
        "colab": {
          "base_uri": "https://localhost:8080/"
        },
        "id": "NJTx5l9s7Pcl",
        "outputId": "541bc79b-b34b-4abf-9fe1-36845e41d331"
      },
      "execution_count": null,
      "outputs": [
        {
          "output_type": "stream",
          "name": "stdout",
          "text": [
            "13\n"
          ]
        }
      ]
    },
    {
      "cell_type": "code",
      "source": [
        "greater_than = array3 > 5\n",
        "print(greater_than)"
      ],
      "metadata": {
        "colab": {
          "base_uri": "https://localhost:8080/"
        },
        "id": "hz73_oNd7Y6g",
        "outputId": "d8d814f5-ec70-4281-edd9-f22f37ef9e52"
      },
      "execution_count": null,
      "outputs": [
        {
          "output_type": "stream",
          "name": "stdout",
          "text": [
            "[ True  True  True  True False]\n"
          ]
        }
      ]
    },
    {
      "cell_type": "code",
      "source": [
        "second_element = array3[1]\n",
        "print(second_element)"
      ],
      "metadata": {
        "colab": {
          "base_uri": "https://localhost:8080/"
        },
        "id": "vDtCFG248OkJ",
        "outputId": "2c3daae9-7ef1-4742-baee-1b95720c2d25"
      },
      "execution_count": null,
      "outputs": [
        {
          "output_type": "stream",
          "name": "stdout",
          "text": [
            "9\n"
          ]
        }
      ]
    },
    {
      "cell_type": "code",
      "source": [
        "sliced_array = array3[2:4]\n",
        "print(sliced_array)"
      ],
      "metadata": {
        "colab": {
          "base_uri": "https://localhost:8080/"
        },
        "id": "7ewvMNIg8f1w",
        "outputId": "db3b9ce4-fa39-482a-8adb-dcaf479f1902"
      },
      "execution_count": null,
      "outputs": [
        {
          "output_type": "stream",
          "name": "stdout",
          "text": [
            "[11 13]\n"
          ]
        }
      ]
    },
    {
      "cell_type": "code",
      "source": [
        "import numpy as np\n",
        "\n",
        "array1 = np.array([[1,2] , [3 , 4]])\n",
        "array2 = np.array([[5,6] , [7, 8]])\n",
        "\n",
        "mul = np.dot(array1 , array2)\n",
        "print(mul)"
      ],
      "metadata": {
        "id": "LAAWBJM38kNA",
        "colab": {
          "base_uri": "https://localhost:8080/"
        },
        "outputId": "e9690029-f043-43ab-cad8-ebb76b936333"
      },
      "execution_count": 49,
      "outputs": [
        {
          "output_type": "stream",
          "name": "stdout",
          "text": [
            "[[19 22]\n",
            " [43 50]]\n"
          ]
        }
      ]
    },
    {
      "cell_type": "code",
      "source": [
        "invr = np.linalg.inv(array1)\n",
        "print(invr)"
      ],
      "metadata": {
        "colab": {
          "base_uri": "https://localhost:8080/"
        },
        "id": "a0FG5DQu9-G9",
        "outputId": "74e7d827-773e-42ff-d4c1-17111faff733"
      },
      "execution_count": 50,
      "outputs": [
        {
          "output_type": "stream",
          "name": "stdout",
          "text": [
            "[[-2.   1. ]\n",
            " [ 1.5 -0.5]]\n"
          ]
        }
      ]
    },
    {
      "cell_type": "code",
      "source": [
        "eval  , evact = np.linalg.eig(array1)\n",
        "print(eval)"
      ],
      "metadata": {
        "colab": {
          "base_uri": "https://localhost:8080/"
        },
        "id": "hefPxjyT-DvF",
        "outputId": "72533689-1fcd-49b7-cf61-45c377867657"
      },
      "execution_count": 51,
      "outputs": [
        {
          "output_type": "stream",
          "name": "stdout",
          "text": [
            "[-0.37228132  5.37228132]\n"
          ]
        }
      ]
    },
    {
      "cell_type": "code",
      "source": [],
      "metadata": {
        "id": "r6S0H7kE-N8h"
      },
      "execution_count": null,
      "outputs": []
    }
  ]
}