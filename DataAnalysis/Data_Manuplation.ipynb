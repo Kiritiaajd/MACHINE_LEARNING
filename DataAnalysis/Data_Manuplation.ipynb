{
 "cells": [
  {
   "cell_type": "code",
   "execution_count": 2,
   "metadata": {},
   "outputs": [
    {
     "name": "stdout",
     "output_type": "stream",
     "text": [
      "Name               object\n",
      "Account Number      int64\n",
      "PIN                 int64\n",
      "Balance             int64\n",
      "Salary            float64\n",
      "dtype: object\n"
     ]
    }
   ],
   "source": [
    "import pandas as pd\n",
    "import numpy as np \n",
    "\n",
    "data = pd.read_csv('data_atm.csv')\n",
    "\n",
    "df = pd.DataFrame(data=data)\n",
    "\n",
    "print(df.dtypes)\n",
    "\n"
   ]
  },
  {
   "cell_type": "code",
   "execution_count": 3,
   "metadata": {},
   "outputs": [
    {
     "data": {
      "text/plain": [
       "Name              False\n",
       "Account Number    False\n",
       "PIN               False\n",
       "Balance           False\n",
       "Salary             True\n",
       "dtype: bool"
      ]
     },
     "execution_count": 3,
     "metadata": {},
     "output_type": "execute_result"
    }
   ],
   "source": [
    "df.isnull().any(axis =0)"
   ]
  },
  {
   "cell_type": "code",
   "execution_count": 4,
   "metadata": {},
   "outputs": [
    {
     "data": {
      "text/html": [
       "<div>\n",
       "<style scoped>\n",
       "    .dataframe tbody tr th:only-of-type {\n",
       "        vertical-align: middle;\n",
       "    }\n",
       "\n",
       "    .dataframe tbody tr th {\n",
       "        vertical-align: top;\n",
       "    }\n",
       "\n",
       "    .dataframe thead th {\n",
       "        text-align: right;\n",
       "    }\n",
       "</style>\n",
       "<table border=\"1\" class=\"dataframe\">\n",
       "  <thead>\n",
       "    <tr style=\"text-align: right;\">\n",
       "      <th></th>\n",
       "      <th>Name</th>\n",
       "      <th>Account Number</th>\n",
       "      <th>PIN</th>\n",
       "      <th>Balance</th>\n",
       "      <th>Salary</th>\n",
       "    </tr>\n",
       "  </thead>\n",
       "  <tbody>\n",
       "    <tr>\n",
       "      <th>0</th>\n",
       "      <td>Grace Yellow</td>\n",
       "      <td>45042</td>\n",
       "      <td>5185</td>\n",
       "      <td>69553</td>\n",
       "      <td>12733.0</td>\n",
       "    </tr>\n",
       "    <tr>\n",
       "      <th>1</th>\n",
       "      <td>Jane Smith</td>\n",
       "      <td>85965</td>\n",
       "      <td>3190</td>\n",
       "      <td>64865</td>\n",
       "      <td>19846.0</td>\n",
       "    </tr>\n",
       "    <tr>\n",
       "      <th>2</th>\n",
       "      <td>Alice Johnson</td>\n",
       "      <td>48360</td>\n",
       "      <td>1610</td>\n",
       "      <td>21162</td>\n",
       "      <td>13265.0</td>\n",
       "    </tr>\n",
       "    <tr>\n",
       "      <th>3</th>\n",
       "      <td>Grace Yellow</td>\n",
       "      <td>80624</td>\n",
       "      <td>9324</td>\n",
       "      <td>70408</td>\n",
       "      <td>14860.0</td>\n",
       "    </tr>\n",
       "    <tr>\n",
       "      <th>4</th>\n",
       "      <td>Alice Johnson</td>\n",
       "      <td>53525</td>\n",
       "      <td>8201</td>\n",
       "      <td>28238</td>\n",
       "      <td>19226.0</td>\n",
       "    </tr>\n",
       "    <tr>\n",
       "      <th>...</th>\n",
       "      <td>...</td>\n",
       "      <td>...</td>\n",
       "      <td>...</td>\n",
       "      <td>...</td>\n",
       "      <td>...</td>\n",
       "    </tr>\n",
       "    <tr>\n",
       "      <th>98</th>\n",
       "      <td>John Doe</td>\n",
       "      <td>84953</td>\n",
       "      <td>9975</td>\n",
       "      <td>24869</td>\n",
       "      <td>17317.0</td>\n",
       "    </tr>\n",
       "    <tr>\n",
       "      <th>99</th>\n",
       "      <td>Jane Smith</td>\n",
       "      <td>21239</td>\n",
       "      <td>7272</td>\n",
       "      <td>52992</td>\n",
       "      <td>0.0</td>\n",
       "    </tr>\n",
       "    <tr>\n",
       "      <th>100</th>\n",
       "      <td>Raju Kumar</td>\n",
       "      <td>1138</td>\n",
       "      <td>9087</td>\n",
       "      <td>7834</td>\n",
       "      <td>12611.0</td>\n",
       "    </tr>\n",
       "    <tr>\n",
       "      <th>101</th>\n",
       "      <td>Raju Kumar</td>\n",
       "      <td>1138</td>\n",
       "      <td>9087</td>\n",
       "      <td>7834</td>\n",
       "      <td>15532.0</td>\n",
       "    </tr>\n",
       "    <tr>\n",
       "      <th>102</th>\n",
       "      <td>Raju Kumar</td>\n",
       "      <td>1138</td>\n",
       "      <td>9087</td>\n",
       "      <td>7834</td>\n",
       "      <td>16927.0</td>\n",
       "    </tr>\n",
       "  </tbody>\n",
       "</table>\n",
       "<p>103 rows × 5 columns</p>\n",
       "</div>"
      ],
      "text/plain": [
       "              Name  Account Number   PIN  Balance   Salary\n",
       "0     Grace Yellow           45042  5185    69553  12733.0\n",
       "1       Jane Smith           85965  3190    64865  19846.0\n",
       "2    Alice Johnson           48360  1610    21162  13265.0\n",
       "3     Grace Yellow           80624  9324    70408  14860.0\n",
       "4    Alice Johnson           53525  8201    28238  19226.0\n",
       "..             ...             ...   ...      ...      ...\n",
       "98        John Doe           84953  9975    24869  17317.0\n",
       "99      Jane Smith           21239  7272    52992      0.0\n",
       "100     Raju Kumar            1138  9087     7834  12611.0\n",
       "101     Raju Kumar            1138  9087     7834  15532.0\n",
       "102     Raju Kumar            1138  9087     7834  16927.0\n",
       "\n",
       "[103 rows x 5 columns]"
      ]
     },
     "execution_count": 4,
     "metadata": {},
     "output_type": "execute_result"
    }
   ],
   "source": [
    "df.fillna(0)"
   ]
  },
  {
   "cell_type": "code",
   "execution_count": 5,
   "metadata": {},
   "outputs": [
    {
     "data": {
      "text/plain": [
       "Name              False\n",
       "Account Number    False\n",
       "PIN               False\n",
       "Balance           False\n",
       "Salary             True\n",
       "dtype: bool"
      ]
     },
     "execution_count": 5,
     "metadata": {},
     "output_type": "execute_result"
    }
   ],
   "source": [
    "df.isnull().any(axis =0)"
   ]
  },
  {
   "cell_type": "code",
   "execution_count": 6,
   "metadata": {},
   "outputs": [
    {
     "data": {
      "text/plain": [
       "0      False\n",
       "1      False\n",
       "2      False\n",
       "3      False\n",
       "4      False\n",
       "       ...  \n",
       "98     False\n",
       "99      True\n",
       "100    False\n",
       "101    False\n",
       "102    False\n",
       "Name: Salary, Length: 103, dtype: bool"
      ]
     },
     "execution_count": 6,
     "metadata": {},
     "output_type": "execute_result"
    }
   ],
   "source": [
    "df['Salary'].isna()"
   ]
  },
  {
   "cell_type": "code",
   "execution_count": 14,
   "metadata": {},
   "outputs": [
    {
     "data": {
      "text/html": [
       "<div>\n",
       "<style scoped>\n",
       "    .dataframe tbody tr th:only-of-type {\n",
       "        vertical-align: middle;\n",
       "    }\n",
       "\n",
       "    .dataframe tbody tr th {\n",
       "        vertical-align: top;\n",
       "    }\n",
       "\n",
       "    .dataframe thead th {\n",
       "        text-align: right;\n",
       "    }\n",
       "</style>\n",
       "<table border=\"1\" class=\"dataframe\">\n",
       "  <thead>\n",
       "    <tr style=\"text-align: right;\">\n",
       "      <th></th>\n",
       "      <th>Name</th>\n",
       "      <th>Account Number</th>\n",
       "      <th>PIN</th>\n",
       "      <th>Balance</th>\n",
       "      <th>Salary</th>\n",
       "      <th>New Account No.</th>\n",
       "    </tr>\n",
       "  </thead>\n",
       "  <tbody>\n",
       "    <tr>\n",
       "      <th>0</th>\n",
       "      <td>Grace Yellow</td>\n",
       "      <td>45042</td>\n",
       "      <td>5185</td>\n",
       "      <td>69553</td>\n",
       "      <td>12733.0</td>\n",
       "      <td>45042</td>\n",
       "    </tr>\n",
       "    <tr>\n",
       "      <th>1</th>\n",
       "      <td>Jane Smith</td>\n",
       "      <td>85965</td>\n",
       "      <td>3190</td>\n",
       "      <td>64865</td>\n",
       "      <td>19846.0</td>\n",
       "      <td>85965</td>\n",
       "    </tr>\n",
       "    <tr>\n",
       "      <th>2</th>\n",
       "      <td>Alice Johnson</td>\n",
       "      <td>48360</td>\n",
       "      <td>1610</td>\n",
       "      <td>21162</td>\n",
       "      <td>13265.0</td>\n",
       "      <td>48360</td>\n",
       "    </tr>\n",
       "    <tr>\n",
       "      <th>3</th>\n",
       "      <td>Grace Yellow</td>\n",
       "      <td>80624</td>\n",
       "      <td>9324</td>\n",
       "      <td>70408</td>\n",
       "      <td>14860.0</td>\n",
       "      <td>80624</td>\n",
       "    </tr>\n",
       "    <tr>\n",
       "      <th>4</th>\n",
       "      <td>Alice Johnson</td>\n",
       "      <td>53525</td>\n",
       "      <td>8201</td>\n",
       "      <td>28238</td>\n",
       "      <td>19226.0</td>\n",
       "      <td>53525</td>\n",
       "    </tr>\n",
       "  </tbody>\n",
       "</table>\n",
       "</div>"
      ],
      "text/plain": [
       "            Name  Account Number   PIN  Balance   Salary New Account No.\n",
       "0   Grace Yellow           45042  5185    69553  12733.0           45042\n",
       "1     Jane Smith           85965  3190    64865  19846.0           85965\n",
       "2  Alice Johnson           48360  1610    21162  13265.0           48360\n",
       "3   Grace Yellow           80624  9324    70408  14860.0           80624\n",
       "4  Alice Johnson           53525  8201    28238  19226.0           53525"
      ]
     },
     "execution_count": 14,
     "metadata": {},
     "output_type": "execute_result"
    }
   ],
   "source": [
    "# change Data type\n",
    "df['New Account No.'] = df['Account Number'].astype(str)\n",
    "df.head()"
   ]
  },
  {
   "cell_type": "code",
   "execution_count": 16,
   "metadata": {},
   "outputs": [
    {
     "data": {
      "text/html": [
       "<div>\n",
       "<style scoped>\n",
       "    .dataframe tbody tr th:only-of-type {\n",
       "        vertical-align: middle;\n",
       "    }\n",
       "\n",
       "    .dataframe tbody tr th {\n",
       "        vertical-align: top;\n",
       "    }\n",
       "\n",
       "    .dataframe thead th {\n",
       "        text-align: right;\n",
       "    }\n",
       "</style>\n",
       "<table border=\"1\" class=\"dataframe\">\n",
       "  <thead>\n",
       "    <tr style=\"text-align: right;\">\n",
       "      <th></th>\n",
       "      <th>Name</th>\n",
       "      <th>Account Number</th>\n",
       "      <th>PIN</th>\n",
       "      <th>Balance</th>\n",
       "      <th>Salary</th>\n",
       "      <th>New Account No.</th>\n",
       "      <th>New Salary</th>\n",
       "    </tr>\n",
       "  </thead>\n",
       "  <tbody>\n",
       "    <tr>\n",
       "      <th>0</th>\n",
       "      <td>Grace Yellow</td>\n",
       "      <td>45042</td>\n",
       "      <td>5185</td>\n",
       "      <td>69553</td>\n",
       "      <td>12733.0</td>\n",
       "      <td>45042</td>\n",
       "      <td>13733.0</td>\n",
       "    </tr>\n",
       "    <tr>\n",
       "      <th>1</th>\n",
       "      <td>Jane Smith</td>\n",
       "      <td>85965</td>\n",
       "      <td>3190</td>\n",
       "      <td>64865</td>\n",
       "      <td>19846.0</td>\n",
       "      <td>85965</td>\n",
       "      <td>20846.0</td>\n",
       "    </tr>\n",
       "    <tr>\n",
       "      <th>2</th>\n",
       "      <td>Alice Johnson</td>\n",
       "      <td>48360</td>\n",
       "      <td>1610</td>\n",
       "      <td>21162</td>\n",
       "      <td>13265.0</td>\n",
       "      <td>48360</td>\n",
       "      <td>14265.0</td>\n",
       "    </tr>\n",
       "    <tr>\n",
       "      <th>3</th>\n",
       "      <td>Grace Yellow</td>\n",
       "      <td>80624</td>\n",
       "      <td>9324</td>\n",
       "      <td>70408</td>\n",
       "      <td>14860.0</td>\n",
       "      <td>80624</td>\n",
       "      <td>15860.0</td>\n",
       "    </tr>\n",
       "    <tr>\n",
       "      <th>4</th>\n",
       "      <td>Alice Johnson</td>\n",
       "      <td>53525</td>\n",
       "      <td>8201</td>\n",
       "      <td>28238</td>\n",
       "      <td>19226.0</td>\n",
       "      <td>53525</td>\n",
       "      <td>20226.0</td>\n",
       "    </tr>\n",
       "  </tbody>\n",
       "</table>\n",
       "</div>"
      ],
      "text/plain": [
       "            Name  Account Number   PIN  Balance   Salary New Account No.  \\\n",
       "0   Grace Yellow           45042  5185    69553  12733.0           45042   \n",
       "1     Jane Smith           85965  3190    64865  19846.0           85965   \n",
       "2  Alice Johnson           48360  1610    21162  13265.0           48360   \n",
       "3   Grace Yellow           80624  9324    70408  14860.0           80624   \n",
       "4  Alice Johnson           53525  8201    28238  19226.0           53525   \n",
       "\n",
       "   New Salary  \n",
       "0     13733.0  \n",
       "1     20846.0  \n",
       "2     14265.0  \n",
       "3     15860.0  \n",
       "4     20226.0  "
      ]
     },
     "execution_count": 16,
     "metadata": {},
     "output_type": "execute_result"
    }
   ],
   "source": [
    "df['New Salary'] = df['Salary'].apply(lambda x:x+1000)\n",
    "df.head()"
   ]
  },
  {
   "cell_type": "code",
   "execution_count": 19,
   "metadata": {},
   "outputs": [
    {
     "name": "stdout",
     "output_type": "stream",
     "text": [
      "Salary\n",
      "10538.0    93004.0\n",
      "10660.0    40410.0\n",
      "10706.0    39200.0\n",
      "10715.0    82576.0\n",
      "10756.0    32775.0\n",
      "            ...   \n",
      "19360.0    16290.0\n",
      "19782.0    73928.0\n",
      "19798.0    94627.0\n",
      "19846.0    64865.0\n",
      "19894.0    20668.0\n",
      "Name: Balance, Length: 95, dtype: float64\n"
     ]
    }
   ],
   "source": [
    "# Data Aggregation \n",
    "\n",
    "grouped_mean = df.groupby('Salary')['Balance'].mean()\n",
    "print(grouped_mean)"
   ]
  },
  {
   "cell_type": "code",
   "execution_count": 21,
   "metadata": {},
   "outputs": [
    {
     "name": "stdout",
     "output_type": "stream",
     "text": [
      "Salary\n",
      "10538.0    93004.0\n",
      "10660.0    40410.0\n",
      "10706.0    39200.0\n",
      "10715.0    82576.0\n",
      "10756.0    32775.0\n",
      "            ...   \n",
      "19360.0    16290.0\n",
      "19782.0    73928.0\n",
      "19798.0    94627.0\n",
      "19846.0    64865.0\n",
      "19894.0    20668.0\n",
      "Name: Balance, Length: 95, dtype: float64\n"
     ]
    }
   ],
   "source": [
    "gropued_salary_and_balance  = df.groupby('Salary')['Balance'].agg('mean' ,'sum' , 'count')\n",
    "print(gropued_salary_and_balance)"
   ]
  },
  {
   "cell_type": "code",
   "execution_count": null,
   "metadata": {},
   "outputs": [],
   "source": [
    "3#Merging and joiing Data frames \n",
    "\n"
   ]
  }
 ],
 "metadata": {
  "kernelspec": {
   "display_name": "ml_env",
   "language": "python",
   "name": "python3"
  },
  "language_info": {
   "codemirror_mode": {
    "name": "ipython",
    "version": 3
   },
   "file_extension": ".py",
   "mimetype": "text/x-python",
   "name": "python",
   "nbconvert_exporter": "python",
   "pygments_lexer": "ipython3",
   "version": "3.12.6"
  }
 },
 "nbformat": 4,
 "nbformat_minor": 2
}
