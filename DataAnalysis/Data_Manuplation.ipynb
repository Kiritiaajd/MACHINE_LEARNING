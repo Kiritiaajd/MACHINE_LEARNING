{
 "cells": [
  {
   "cell_type": "code",
   "execution_count": 10,
   "metadata": {},
   "outputs": [
    {
     "name": "stdout",
     "output_type": "stream",
     "text": [
      "Name               object\n",
      "Account Number      int64\n",
      "PIN                 int64\n",
      "Balance             int64\n",
      "Salary            float64\n",
      "dtype: object\n"
     ]
    }
   ],
   "source": [
    "import pandas as pd\n",
    "import numpy as np \n",
    "\n",
    "data = pd.read_csv('data_atm.csv')\n",
    "\n",
    "df = pd.DataFrame(data=data)\n",
    "\n",
    "print(df.dtypes)\n",
    "\n"
   ]
  },
  {
   "cell_type": "code",
   "execution_count": 11,
   "metadata": {},
   "outputs": [
    {
     "data": {
      "text/plain": [
       "Name              False\n",
       "Account Number    False\n",
       "PIN               False\n",
       "Balance           False\n",
       "Salary             True\n",
       "dtype: bool"
      ]
     },
     "execution_count": 11,
     "metadata": {},
     "output_type": "execute_result"
    }
   ],
   "source": [
    "df.isnull().any(axis =0)"
   ]
  },
  {
   "cell_type": "code",
   "execution_count": 15,
   "metadata": {},
   "outputs": [
    {
     "data": {
      "text/html": [
       "<div>\n",
       "<style scoped>\n",
       "    .dataframe tbody tr th:only-of-type {\n",
       "        vertical-align: middle;\n",
       "    }\n",
       "\n",
       "    .dataframe tbody tr th {\n",
       "        vertical-align: top;\n",
       "    }\n",
       "\n",
       "    .dataframe thead th {\n",
       "        text-align: right;\n",
       "    }\n",
       "</style>\n",
       "<table border=\"1\" class=\"dataframe\">\n",
       "  <thead>\n",
       "    <tr style=\"text-align: right;\">\n",
       "      <th></th>\n",
       "      <th>Name</th>\n",
       "      <th>Account Number</th>\n",
       "      <th>PIN</th>\n",
       "      <th>Balance</th>\n",
       "      <th>Salary</th>\n",
       "    </tr>\n",
       "  </thead>\n",
       "  <tbody>\n",
       "    <tr>\n",
       "      <th>0</th>\n",
       "      <td>Grace Yellow</td>\n",
       "      <td>45042</td>\n",
       "      <td>5185</td>\n",
       "      <td>69553</td>\n",
       "      <td>12733.0</td>\n",
       "    </tr>\n",
       "    <tr>\n",
       "      <th>1</th>\n",
       "      <td>Jane Smith</td>\n",
       "      <td>85965</td>\n",
       "      <td>3190</td>\n",
       "      <td>64865</td>\n",
       "      <td>19846.0</td>\n",
       "    </tr>\n",
       "    <tr>\n",
       "      <th>2</th>\n",
       "      <td>Alice Johnson</td>\n",
       "      <td>48360</td>\n",
       "      <td>1610</td>\n",
       "      <td>21162</td>\n",
       "      <td>13265.0</td>\n",
       "    </tr>\n",
       "    <tr>\n",
       "      <th>3</th>\n",
       "      <td>Grace Yellow</td>\n",
       "      <td>80624</td>\n",
       "      <td>9324</td>\n",
       "      <td>70408</td>\n",
       "      <td>14860.0</td>\n",
       "    </tr>\n",
       "    <tr>\n",
       "      <th>4</th>\n",
       "      <td>Alice Johnson</td>\n",
       "      <td>53525</td>\n",
       "      <td>8201</td>\n",
       "      <td>28238</td>\n",
       "      <td>19226.0</td>\n",
       "    </tr>\n",
       "    <tr>\n",
       "      <th>...</th>\n",
       "      <td>...</td>\n",
       "      <td>...</td>\n",
       "      <td>...</td>\n",
       "      <td>...</td>\n",
       "      <td>...</td>\n",
       "    </tr>\n",
       "    <tr>\n",
       "      <th>98</th>\n",
       "      <td>John Doe</td>\n",
       "      <td>84953</td>\n",
       "      <td>9975</td>\n",
       "      <td>24869</td>\n",
       "      <td>17317.0</td>\n",
       "    </tr>\n",
       "    <tr>\n",
       "      <th>99</th>\n",
       "      <td>Jane Smith</td>\n",
       "      <td>21239</td>\n",
       "      <td>7272</td>\n",
       "      <td>52992</td>\n",
       "      <td>0.0</td>\n",
       "    </tr>\n",
       "    <tr>\n",
       "      <th>100</th>\n",
       "      <td>Raju Kumar</td>\n",
       "      <td>1138</td>\n",
       "      <td>9087</td>\n",
       "      <td>7834</td>\n",
       "      <td>12611.0</td>\n",
       "    </tr>\n",
       "    <tr>\n",
       "      <th>101</th>\n",
       "      <td>Raju Kumar</td>\n",
       "      <td>1138</td>\n",
       "      <td>9087</td>\n",
       "      <td>7834</td>\n",
       "      <td>15532.0</td>\n",
       "    </tr>\n",
       "    <tr>\n",
       "      <th>102</th>\n",
       "      <td>Raju Kumar</td>\n",
       "      <td>1138</td>\n",
       "      <td>9087</td>\n",
       "      <td>7834</td>\n",
       "      <td>16927.0</td>\n",
       "    </tr>\n",
       "  </tbody>\n",
       "</table>\n",
       "<p>103 rows × 5 columns</p>\n",
       "</div>"
      ],
      "text/plain": [
       "              Name  Account Number   PIN  Balance   Salary\n",
       "0     Grace Yellow           45042  5185    69553  12733.0\n",
       "1       Jane Smith           85965  3190    64865  19846.0\n",
       "2    Alice Johnson           48360  1610    21162  13265.0\n",
       "3     Grace Yellow           80624  9324    70408  14860.0\n",
       "4    Alice Johnson           53525  8201    28238  19226.0\n",
       "..             ...             ...   ...      ...      ...\n",
       "98        John Doe           84953  9975    24869  17317.0\n",
       "99      Jane Smith           21239  7272    52992      0.0\n",
       "100     Raju Kumar            1138  9087     7834  12611.0\n",
       "101     Raju Kumar            1138  9087     7834  15532.0\n",
       "102     Raju Kumar            1138  9087     7834  16927.0\n",
       "\n",
       "[103 rows x 5 columns]"
      ]
     },
     "execution_count": 15,
     "metadata": {},
     "output_type": "execute_result"
    }
   ],
   "source": [
    "df.fillna(0)"
   ]
  },
  {
   "cell_type": "code",
   "execution_count": 13,
   "metadata": {},
   "outputs": [
    {
     "data": {
      "text/plain": [
       "Name              False\n",
       "Account Number    False\n",
       "PIN               False\n",
       "Balance           False\n",
       "Salary             True\n",
       "dtype: bool"
      ]
     },
     "execution_count": 13,
     "metadata": {},
     "output_type": "execute_result"
    }
   ],
   "source": [
    "df.isnull().any(axis =0)"
   ]
  },
  {
   "cell_type": "code",
   "execution_count": null,
   "metadata": {},
   "outputs": [],
   "source": [
    "df['Salary'] = df[]"
   ]
  }
 ],
 "metadata": {
  "kernelspec": {
   "display_name": "ml_env",
   "language": "python",
   "name": "python3"
  },
  "language_info": {
   "codemirror_mode": {
    "name": "ipython",
    "version": 3
   },
   "file_extension": ".py",
   "mimetype": "text/x-python",
   "name": "python",
   "nbconvert_exporter": "python",
   "pygments_lexer": "ipython3",
   "version": "3.12.6"
  }
 },
 "nbformat": 4,
 "nbformat_minor": 2
}
