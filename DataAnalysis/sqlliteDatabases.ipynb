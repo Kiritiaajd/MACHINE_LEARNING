{
 "cells": [
  {
   "cell_type": "code",
   "execution_count": 2,
   "metadata": {},
   "outputs": [],
   "source": [
    "import sqlite3"
   ]
  },
  {
   "cell_type": "code",
   "execution_count": 3,
   "metadata": {},
   "outputs": [
    {
     "data": {
      "text/plain": [
       "<sqlite3.Connection at 0x27423072020>"
      ]
     },
     "execution_count": 3,
     "metadata": {},
     "output_type": "execute_result"
    }
   ],
   "source": [
    "#connect to an sqllite database\n",
    "connection = sqlite3.connect('example.db')\n",
    "connection\n"
   ]
  },
  {
   "cell_type": "code",
   "execution_count": 4,
   "metadata": {},
   "outputs": [],
   "source": [
    "cursor = connection.cursor()\n"
   ]
  },
  {
   "cell_type": "code",
   "execution_count": 5,
   "metadata": {},
   "outputs": [],
   "source": [
    "# Create the table\n",
    "cursor.execute('''\n",
    "CREATE TABLE IF NOT EXISTS employee(\n",
    "    id INTEGER PRIMARY KEY,\n",
    "    name TEXT NOT NULL,\n",
    "    age INTEGER,\n",
    "    department TEXT\n",
    ")\n",
    "''')\n",
    "\n",
    "# Commit the changes\n",
    "connection.commit()\n"
   ]
  },
  {
   "cell_type": "code",
   "execution_count": 6,
   "metadata": {},
   "outputs": [
    {
     "data": {
      "text/plain": [
       "<sqlite3.Cursor at 0x27422db0c40>"
      ]
     },
     "execution_count": 6,
     "metadata": {},
     "output_type": "execute_result"
    }
   ],
   "source": [
    "# insert the data in \n",
    "\n",
    "cursor.execute(''' \n",
    "INSERT INTO employee(name , age , department)\n",
    "VALUES('CHARLIE' , 38 , 'Finance')''')\n",
    "\n",
    "cursor.execute(''' \n",
    "INSERT INTO employee(name , age , department)\n",
    "VALUES('BOB' , 34 , 'Engineering')''')\n",
    "\n",
    "cursor.execute(''' \n",
    "INSERT INTO employee(name , age , department)\n",
    "VALUES('Kiriti Aajad' , 22 , 'Engineering')''')"
   ]
  },
  {
   "cell_type": "code",
   "execution_count": 7,
   "metadata": {},
   "outputs": [
    {
     "name": "stdout",
     "output_type": "stream",
     "text": [
      "(1, 'CHARLIE', 38, 'Finance')\n",
      "(2, 'BOB', 34, 'Engineering')\n",
      "(3, 'Kiriti Aajad', 22, 'Engineering')\n"
     ]
    }
   ],
   "source": [
    "cursor.execute('SELECT * FROM EMPLOYEE')\n",
    "rows = cursor.fetchall()\n",
    "\n",
    "for row in rows:\n",
    "    print(row)\n"
   ]
  },
  {
   "cell_type": "code",
   "execution_count": 8,
   "metadata": {},
   "outputs": [
    {
     "name": "stdout",
     "output_type": "stream",
     "text": [
      "(1, 'CHARLIE', 38, 'Finance')\n",
      "(2, 'BOB', 22, 'Engineering')\n",
      "(3, 'Kiriti Aajad', 22, 'Engineering')\n"
     ]
    }
   ],
   "source": [
    "# Update data int the table \n",
    "cursor.execute(''' \n",
    "               UPDATE employee\n",
    "               set age = 22\n",
    "               where name = 'BOB' ''')\n",
    "\n",
    "cursor.execute('SELECT * FROM EMPLOYEE')\n",
    "rows = cursor.fetchall()\n",
    "\n",
    "for row in rows:\n",
    "    print(row)"
   ]
  },
  {
   "cell_type": "code",
   "execution_count": 9,
   "metadata": {},
   "outputs": [
    {
     "name": "stdout",
     "output_type": "stream",
     "text": [
      "(2, 'BOB', 22, 'Engineering')\n",
      "(3, 'Kiriti Aajad', 22, 'Engineering')\n"
     ]
    }
   ],
   "source": [
    "# Delete the data \n",
    "cursor.execute(''' \n",
    "               DELETE from employee\n",
    "               where age = 38 ''')\n",
    "\n",
    "cursor.execute('SELECT * FROM EMPLOYEE')\n",
    "rows = cursor.fetchall()\n",
    "\n",
    "for row in rows:\n",
    "    print(row)\n",
    "    \n",
    "connection.close()"
   ]
  }
 ],
 "metadata": {
  "kernelspec": {
   "display_name": "ml_env",
   "language": "python",
   "name": "python3"
  },
  "language_info": {
   "codemirror_mode": {
    "name": "ipython",
    "version": 3
   },
   "file_extension": ".py",
   "mimetype": "text/x-python",
   "name": "python",
   "nbconvert_exporter": "python",
   "pygments_lexer": "ipython3",
   "version": "3.12.6"
  }
 },
 "nbformat": 4,
 "nbformat_minor": 2
}
