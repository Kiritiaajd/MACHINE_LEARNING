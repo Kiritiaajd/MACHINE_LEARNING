{
 "cells": [
  {
   "cell_type": "markdown",
   "metadata": {},
   "source": [
    "## NumPy ##\n",
    "NumPy is a fundamental package for scientific computing in Python. It provides support for large, multi-dimensional arrays and matrices, along with a collection of mathematical functions to operate on these arrays efficiently."
   ]
  },
  {
   "cell_type": "markdown",
   "metadata": {},
   "source": [
    "## Key Features ##\n",
    "N-dimensional Arrays: Efficiently handle large datasets with multi-dimensional arrays.\n",
    "Mathematical Functions: A wide range of mathematical operations, including linear algebra, Fourier transforms, and random number generation.\n",
    "Performance: Optimized for performance with operations implemented in C.\n",
    "Integration: Seamlessly integrates with other scientific libraries like SciPy, pandas, and matplotlib.\n"
   ]
  },
  {
   "cell_type": "code",
   "execution_count": 14,
   "metadata": {},
   "outputs": [
    {
     "name": "stdout",
     "output_type": "stream",
     "text": [
      "<class 'numpy.ndarray'>\n",
      "[ 1  2  3  4  5  6  7  8  9 10]\n",
      "(10,)\n"
     ]
    }
   ],
   "source": [
    "import numpy as np # type: ignore\n",
    "\n",
    "## create arrays using numpy \n",
    "# create a 1D array \n",
    "arr1 = np.array([1 ,2,3,4,5,6,7,8,9,10])\n",
    "print(type(arr1))\n",
    "print(arr1)\n",
    "print(arr1.shape)"
   ]
  },
  {
   "cell_type": "code",
   "execution_count": 15,
   "metadata": {},
   "outputs": [
    {
     "name": "stdout",
     "output_type": "stream",
     "text": [
      "<class 'numpy.ndarray'>\n",
      "[[1 2 3]\n",
      " [4 5 6]\n",
      " [7 8 9]]\n",
      "(3, 3)\n"
     ]
    }
   ],
   "source": [
    "arr2 = np.array([[1,2,3],\n",
    "                [4,5,6],\n",
    "                [7,8,9 ]])\n",
    "print(type(arr2))\n",
    "print(arr2)\n",
    "print(arr2.shape)"
   ]
  },
  {
   "cell_type": "code",
   "execution_count": 16,
   "metadata": {},
   "outputs": [
    {
     "name": "stdout",
     "output_type": "stream",
     "text": [
      "[[1. 1.]\n",
      " [1. 1.]\n",
      " [1. 1.]]\n"
     ]
    }
   ],
   "source": [
    "one = np.ones((3,2))\n",
    "print(one)"
   ]
  },
  {
   "cell_type": "code",
   "execution_count": 17,
   "metadata": {},
   "outputs": [
    {
     "name": "stdout",
     "output_type": "stream",
     "text": [
      "[[0. 0. 0. 0. 0. 0. 0. 0. 0.]\n",
      " [0. 0. 0. 0. 0. 0. 0. 0. 0.]]\n"
     ]
    }
   ],
   "source": [
    "zero = np.zeros((2,9))\n",
    "print(zero)"
   ]
  },
  {
   "cell_type": "code",
   "execution_count": 18,
   "metadata": {},
   "outputs": [
    {
     "name": "stdout",
     "output_type": "stream",
     "text": [
      "[[1. 0. 0.]\n",
      " [0. 1. 0.]\n",
      " [0. 0. 1.]]\n"
     ]
    }
   ],
   "source": [
    "# Identity Matrix\n",
    "ident  = np.identity(3)\n",
    "print(ident)"
   ]
  },
  {
   "cell_type": "code",
   "execution_count": 19,
   "metadata": {},
   "outputs": [
    {
     "name": "stdout",
     "output_type": "stream",
     "text": [
      "[[1 2 3]\n",
      " [4 5 6]\n",
      " [7 8 9]]\n",
      "<class 'str'>\n"
     ]
    }
   ],
   "source": [
    "matrix = np.array2string(arr2)\n",
    "print(matrix)\n",
    "print(type(matrix))"
   ]
  },
  {
   "cell_type": "code",
   "execution_count": 20,
   "metadata": {},
   "outputs": [
    {
     "name": "stdout",
     "output_type": "stream",
     "text": [
      "[10 10 10 10 10 10 10 10 10]\n",
      "[-8 -6 -4 -2  0  2  4  6  8]\n",
      "[ 9 16 21 24 25 24 21 16  9]\n",
      "[0.11111111 0.25       0.42857143 0.66666667 1.         1.5\n",
      " 2.33333333 4.         9.        ]\n"
     ]
    }
   ],
   "source": [
    "# Numpy Vectorized operation \n",
    "import numpy as np\n",
    "arr1 = np.array((1,2,3,4,5,6,7,8,9))\n",
    "arr2 = np.array((9,8,7,6,5,4,3,2,1))\n",
    "\n",
    "# Element wise subtraction \n",
    "print(arr1+ arr2)\n",
    "print(arr1 - arr2)\n",
    "print(arr1 * arr2)\n",
    "print(arr1 /arr2)"
   ]
  },
  {
   "cell_type": "code",
   "execution_count": 21,
   "metadata": {},
   "outputs": [
    {
     "name": "stdout",
     "output_type": "stream",
     "text": [
      "[ 0.84147098  0.90929743  0.14112001 -0.7568025  -0.95892427 -0.2794155\n",
      "  0.6569866   0.98935825  0.41211849]\n",
      "[8.10308393e+03 2.98095799e+03 1.09663316e+03 4.03428793e+02\n",
      " 1.48413159e+02 5.45981500e+01 2.00855369e+01 7.38905610e+00\n",
      " 2.71828183e+00]\n",
      "[0.         0.69314718 1.09861229 1.38629436 1.60943791 1.79175947\n",
      " 1.94591015 2.07944154 2.19722458]\n"
     ]
    }
   ],
   "source": [
    "print(np.sin(arr1))\n",
    "print(np.exp(arr2))\n",
    "print(np.log(arr1))"
   ]
  },
  {
   "cell_type": "code",
   "execution_count": 22,
   "metadata": {},
   "outputs": [
    {
     "name": "stdout",
     "output_type": "stream",
     "text": [
      "[[1 2 3 4 5]\n",
      " [6 7 8 9 0]\n",
      " [1 2 3 4 5]]\n"
     ]
    }
   ],
   "source": [
    "# Array slicing and Indexing \n",
    "\n",
    "arr3 = np.array([[1,2,3,4,5],\n",
    "                 [6,7,8,9,0] ,\n",
    "                 [1,2,3,4,5]])\n",
    "\n",
    "print(arr3)"
   ]
  },
  {
   "cell_type": "code",
   "execution_count": 23,
   "metadata": {},
   "outputs": [
    {
     "name": "stdout",
     "output_type": "stream",
     "text": [
      "[1 2 3 4 5 6 7 8 9]\n",
      "[9 8 7 6 5 4 3 2 1]\n",
      "165\n"
     ]
    }
   ],
   "source": [
    "print(arr1)\n",
    "print(arr2)\n",
    "output = np.dot(arr2 , arr1)\n",
    "print(output)"
   ]
  },
  {
   "cell_type": "code",
   "execution_count": 24,
   "metadata": {},
   "outputs": [
    {
     "name": "stdout",
     "output_type": "stream",
     "text": [
      "[[1 2 3]\n",
      " [1 2 3]]\n",
      "[[1 9 5]\n",
      " [1 2 3]]\n",
      "[[1 1]\n",
      " [9 2]\n",
      " [5 3]]\n",
      "[[34 14]\n",
      " [34 14]]\n"
     ]
    }
   ],
   "source": [
    "matrix1 = np.array([[1,2,3] ,\n",
    "                   [1,2,3]])\n",
    "\n",
    "matrix2 = np.array([[1,9,5] ,\n",
    "                    [1,2,3]])\n",
    "print(matrix1)\n",
    "print(matrix2)\n",
    "print(matrix2.T)\n",
    "output = np.dot(matrix1 , matrix2.T)\n",
    "\n",
    "print(output)"
   ]
  },
  {
   "cell_type": "code",
   "execution_count": 25,
   "metadata": {},
   "outputs": [
    {
     "name": "stdout",
     "output_type": "stream",
     "text": [
      "6.666666666666667\n",
      "5.0\n",
      "2.581988897471611\n",
      "[-1.54919334 -1.161895   -0.77459667 -0.38729833  0.          0.38729833\n",
      "  0.77459667  1.161895    1.54919334]\n",
      "0.0\n"
     ]
    }
   ],
   "source": [
    "# Statistical Concepts\n",
    "data  = np.array([1,2,3,4,5,6,7,8,9])\n",
    "mean = np.mean(data)\n",
    "std_dev = np.std(data)\n",
    "normalized_data = (data -mean) /std_dev\n",
    "variance = np.var(data)\n",
    "print(variance)\n",
    "print(mean)\n",
    "print(std_dev)\n",
    "print(normalized_data)\n",
    "print(np.mean(normalized_data))"
   ]
  },
  {
   "cell_type": "code",
   "execution_count": 26,
   "metadata": {},
   "outputs": [
    {
     "data": {
      "text/plain": [
       "array([6, 7, 8, 9])"
      ]
     },
     "execution_count": 26,
     "metadata": {},
     "output_type": "execute_result"
    }
   ],
   "source": [
    "# Logical Operations\n",
    "data[data>5]"
   ]
  },
  {
   "cell_type": "code",
   "execution_count": null,
   "metadata": {},
   "outputs": [],
   "source": []
  }
 ],
 "metadata": {
  "kernelspec": {
   "display_name": "ml_env",
   "language": "python",
   "name": "python3"
  },
  "language_info": {
   "codemirror_mode": {
    "name": "ipython",
    "version": 3
   },
   "file_extension": ".py",
   "mimetype": "text/x-python",
   "name": "python",
   "nbconvert_exporter": "python",
   "pygments_lexer": "ipython3",
   "version": "3.12.6"
  }
 },
 "nbformat": 4,
 "nbformat_minor": 2
}
