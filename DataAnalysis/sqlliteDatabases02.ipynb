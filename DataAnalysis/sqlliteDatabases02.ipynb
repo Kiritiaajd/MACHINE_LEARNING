{
 "cells": [
  {
   "cell_type": "code",
   "execution_count": 22,
   "metadata": {},
   "outputs": [],
   "source": [
    "import sqlite3\n",
    "import time\n",
    "\n",
    "# Connect to the sales_data.db database with a timeout of 5 seconds\n",
    "connection = sqlite3.connect('sale_database.db', timeout=5)\n",
    "cursor = connection.cursor()\n",
    "\n",
    "# Create the sales table if it doesn't already exist\n",
    "cursor.execute('''\n",
    "CREATE TABLE IF NOT EXISTS sales(\n",
    "    id INTEGER PRIMARY KEY,\n",
    "    product_name TEXT NOT NULL,\n",
    "    quantity INTEGER NOT NULL,\n",
    "    price REAL NOT NULL,\n",
    "    sale_date TEXT NOT NULL\n",
    ")\n",
    "''')\n",
    "\n",
    "# Insert 20 rows of sample sales data\n",
    "sales_data = [\n",
    "    ('Product A', 10, 19.99, '2024-01-01'),\n",
    "    ('Product B', 5, 9.99, '2024-01-02'),\n",
    "    ('Product C', 7, 14.99, '2024-01-03'),\n",
    "    ('Product D', 12, 29.99, '2024-01-04'),\n",
    "    ('Product E', 3, 49.99, '2024-01-05'),\n",
    "    ('Product F', 8, 24.99, '2024-01-06'),\n",
    "    ('Product G', 6, 39.99, '2024-01-07'),\n",
    "    ('Product H', 4, 34.99, '2024-01-08'),\n",
    "    ('Product I', 15, 19.99, '2024-01-09'),\n",
    "    ('Product J', 9, 44.99, '2024-01-10'),\n",
    "    ('Product K', 11, 11.99, '2024-01-11'),\n",
    "    ('Product L', 2, 89.99, '2024-01-12'),\n",
    "    ('Product M', 13, 54.99, '2024-01-13'),\n",
    "    ('Product N', 1, 99.99, '2024-01-14'),\n",
    "    ('Product O', 10, 9.99, '2024-01-15'),\n",
    "    ('Product P', 7, 59.99, '2024-01-16'),\n",
    "    ('Product Q', 14, 69.99, '2024-01-17'),\n",
    "    ('Product R', 5, 79.99, '2024-01-18'),\n",
    "    ('Product S', 6, 21.99, '2024-01-19'),\n",
    "    ('Product T', 3, 12.99, '2024-01-20')\n",
    "]\n",
    "\n",
    "try:\n",
    "    cursor.executemany('''\n",
    "        INSERT INTO sales (product_name, quantity, price, sale_date)\n",
    "        VALUES (?, ?, ?, ?)\n",
    "    ''', sales_data)\n",
    "    \n",
    "    # Commit the changes\n",
    "    connection.commit()\n",
    "\n",
    "except sqlite3.OperationalError as e:\n",
    "    print(f\"Error: {e}\")\n",
    "    time.sleep(5)  # Wait 5 seconds before trying again\n",
    "\n",
    "finally:\n",
    "    # Ensure connection is closed\n",
    "    connection.close()\n"
   ]
  },
  {
   "cell_type": "code",
   "execution_count": 24,
   "metadata": {},
   "outputs": [
    {
     "name": "stdout",
     "output_type": "stream",
     "text": [
      "(1, 'Product A', 10, 19.99, '2024-01-01')\n",
      "(2, 'Product B', 5, 9.99, '2024-01-02')\n",
      "(3, 'Product C', 7, 14.99, '2024-01-03')\n",
      "(4, 'Product D', 12, 29.99, '2024-01-04')\n",
      "(5, 'Product E', 3, 49.99, '2024-01-05')\n",
      "(6, 'Product F', 8, 24.99, '2024-01-06')\n",
      "(7, 'Product G', 6, 39.99, '2024-01-07')\n",
      "(8, 'Product H', 4, 34.99, '2024-01-08')\n",
      "(9, 'Product I', 15, 19.99, '2024-01-09')\n",
      "(10, 'Product J', 9, 44.99, '2024-01-10')\n",
      "(11, 'Product K', 11, 11.99, '2024-01-11')\n",
      "(12, 'Product L', 2, 89.99, '2024-01-12')\n",
      "(13, 'Product M', 13, 54.99, '2024-01-13')\n",
      "(14, 'Product N', 1, 99.99, '2024-01-14')\n",
      "(15, 'Product O', 10, 9.99, '2024-01-15')\n",
      "(16, 'Product P', 7, 59.99, '2024-01-16')\n",
      "(17, 'Product Q', 14, 69.99, '2024-01-17')\n",
      "(18, 'Product R', 5, 79.99, '2024-01-18')\n",
      "(19, 'Product S', 6, 21.99, '2024-01-19')\n",
      "(20, 'Product T', 3, 12.99, '2024-01-20')\n"
     ]
    }
   ],
   "source": [
    "import sqlite3\n",
    "\n",
    "# Reconnect to the sales_database.db database\n",
    "connection = sqlite3.connect('sale_database.db')\n",
    "cursor = connection.cursor()\n",
    "\n",
    "# Fetch all records from the 'sales' table\n",
    "cursor.execute('SELECT * FROM sales')\n",
    "rows = cursor.fetchall()\n",
    "\n",
    "# Print out each row\n",
    "for row in rows:\n",
    "    print(row)\n",
    "\n",
    "# Close the connection after use\n",
    "connection.close()\n"
   ]
  },
  {
   "cell_type": "code",
   "execution_count": null,
   "metadata": {},
   "outputs": [],
   "source": []
  }
 ],
 "metadata": {
  "kernelspec": {
   "display_name": "ml_env",
   "language": "python",
   "name": "python3"
  },
  "language_info": {
   "codemirror_mode": {
    "name": "ipython",
    "version": 3
   },
   "file_extension": ".py",
   "mimetype": "text/x-python",
   "name": "python",
   "nbconvert_exporter": "python",
   "pygments_lexer": "ipython3",
   "version": "3.12.6"
  }
 },
 "nbformat": 4,
 "nbformat_minor": 2
}
