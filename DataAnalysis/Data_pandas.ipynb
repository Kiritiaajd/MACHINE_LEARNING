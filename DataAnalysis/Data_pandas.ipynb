{
 "cells": [
  {
   "cell_type": "code",
   "execution_count": 3,
   "metadata": {},
   "outputs": [
    {
     "name": "stdout",
     "output_type": "stream",
     "text": [
      "0    1\n",
      "1    2\n",
      "2    3\n",
      "3    4\n",
      "4    5\n",
      "5    6\n",
      "6    7\n",
      "7    8\n",
      "8    9\n",
      "dtype: int64\n",
      "<class 'pandas.core.series.Series'>\n"
     ]
    }
   ],
   "source": [
    "import pandas as pd\n",
    "data = [1,2,3,4,5,6,7,8,9]\n",
    "series = pd.Series(data)\n",
    "print(series)\n",
    "print(type(series))"
   ]
  },
  {
   "cell_type": "code",
   "execution_count": 6,
   "metadata": {},
   "outputs": [
    {
     "name": "stdout",
     "output_type": "stream",
     "text": [
      "a    1\n",
      "b    3\n",
      "c    5\n",
      "dtype: int64\n",
      "<class 'pandas.core.series.Series'>\n"
     ]
    }
   ],
   "source": [
    "import pandas as pd\n",
    "\n",
    "# Correctly define a dictionary\n",
    "data1 = {'a': 1, 'b': 3, 'c': 5}\n",
    "\n",
    "# Create a pandas Series from the dictionary\n",
    "series_dic = pd.Series(data1)\n",
    "\n",
    "# Display the Series\n",
    "print(series_dic)\n",
    "print(type(series_dic))\n"
   ]
  },
  {
   "cell_type": "code",
   "execution_count": 7,
   "metadata": {},
   "outputs": [
    {
     "data": {
      "text/plain": [
       "a    10\n",
       "b    20\n",
       "c    30\n",
       "dtype: int64"
      ]
     },
     "execution_count": 7,
     "metadata": {},
     "output_type": "execute_result"
    }
   ],
   "source": [
    "data = [10 , 20 , 30]\n",
    "\n",
    "index = ['a' , 'b' ,'c']\n",
    "pd.Series(data , index)"
   ]
  },
  {
   "cell_type": "code",
   "execution_count": 25,
   "metadata": {},
   "outputs": [
    {
     "name": "stdout",
     "output_type": "stream",
     "text": [
      "Head of Data Frame\n",
      "            Name  Account Number   PIN  Balance\n",
      "0   Grace Yellow           45042  5185    69553\n",
      "1     Jane Smith           85965  3190    64865\n",
      "2  Alice Johnson           48360  1610    21162\n",
      "3   Grace Yellow           80624  9324    70408\n",
      "4  Alice Johnson           53525  8201    28238\n",
      "Tail of Data Frame\n",
      "           Name  Account Number   PIN  Balance\n",
      "98     John Doe           84953  9975    24869\n",
      "99   Jane Smith           21239  7272    52992\n",
      "100  Raju Kumar            1138  9087     7834\n",
      "101  Raju Kumar            1138  9087     7834\n",
      "102  Raju Kumar            1138  9087     7834\n",
      "Location of 0th element\n",
      "Name              Grace Yellow\n",
      "Account Number           45042\n",
      "PIN                       5185\n",
      "Balance                  69553\n",
      "Name: 0, dtype: object\n"
     ]
    }
   ],
   "source": [
    "## Data Frame \n",
    "import pandas as pd\n",
    "\n",
    "# Use double backslashes to escape the backslash in the file path\n",
    "data = pd.read_csv('ATM_CUSTOMER.csv')\n",
    "\n",
    "# Display the data\n",
    "\n",
    "df = pd.DataFrame(data)\n",
    "print(\"Head of Data Frame\")\n",
    "print(df.head())\n",
    "print(\"Tail of Data Frame\")\n",
    "print(df.tail())\n",
    "\n",
    "print(\"Location of 0th element\")\n",
    "print(df.loc[0])"
   ]
  },
  {
   "cell_type": "code",
   "execution_count": 20,
   "metadata": {},
   "outputs": [
    {
     "name": "stdout",
     "output_type": "stream",
     "text": [
      "5260461\n",
      "51072.436893203885\n",
      "52297.0\n"
     ]
    }
   ],
   "source": [
    "total_amount = df['Balance'].sum()\n",
    "mean_balance = df['Balance'].mean()\n",
    "median_balace = df['Balance'].median()\n",
    "print(total_amount)\n",
    "print(mean_balance)\n",
    "print(median_balace)"
   ]
  },
  {
   "cell_type": "code",
   "execution_count": 28,
   "metadata": {},
   "outputs": [
    {
     "data": {
      "text/plain": [
       "0       Grace Yellow\n",
       "1         Jane Smith\n",
       "2      Alice Johnson\n",
       "3       Grace Yellow\n",
       "4      Alice Johnson\n",
       "           ...      \n",
       "98          John Doe\n",
       "99        Jane Smith\n",
       "100       Raju Kumar\n",
       "101       Raju Kumar\n",
       "102       Raju Kumar\n",
       "Name: Name, Length: 103, dtype: object"
      ]
     },
     "execution_count": 28,
     "metadata": {},
     "output_type": "execute_result"
    }
   ],
   "source": [
    "df['Name']"
   ]
  },
  {
   "cell_type": "code",
   "execution_count": 29,
   "metadata": {},
   "outputs": [
    {
     "data": {
      "text/plain": [
       "'Alice Johnson'"
      ]
     },
     "execution_count": 29,
     "metadata": {},
     "output_type": "execute_result"
    }
   ],
   "source": [
    "df.at[2 ,'Name']"
   ]
  },
  {
   "cell_type": "code",
   "execution_count": 35,
   "metadata": {},
   "outputs": [
    {
     "name": "stdout",
     "output_type": "stream",
     "text": [
      "Raju Kumar\n"
     ]
    }
   ],
   "source": [
    "print(df.iat[100,0])"
   ]
  },
  {
   "cell_type": "code",
   "execution_count": 37,
   "metadata": {},
   "outputs": [
    {
     "name": "stdout",
     "output_type": "stream",
     "text": [
      "            Name  Account Number   PIN  Balance  RandomNumbers  Salary\n",
      "0   Grace Yellow           45042  5185    69553          12733   12733\n",
      "1     Jane Smith           85965  3190    64865          19846   19846\n",
      "2  Alice Johnson           48360  1610    21162          13265   13265\n",
      "3   Grace Yellow           80624  9324    70408          14860   14860\n",
      "4  Alice Johnson           53525  8201    28238          19226   19226\n"
     ]
    },
    {
     "name": "stderr",
     "output_type": "stream",
     "text": [
      "<>:13: SyntaxWarning: invalid escape sequence '\\G'\n",
      "<>:13: SyntaxWarning: invalid escape sequence '\\G'\n",
      "C:\\Users\\Kirit\\AppData\\Local\\Temp\\ipykernel_12780\\2870256978.py:13: SyntaxWarning: invalid escape sequence '\\G'\n",
      "  data.to_csv('C:\\GITHUB COLLECTIONS\\MACHINE_LEARNING\\DataAnalysis\\ATM_CUSTOMER.csv', index=False)\n"
     ]
    }
   ],
   "source": [
    "# Data Manuplation with Data freames\n",
    "import numpy as np\n",
    "np.random.seed(0)\n",
    "\n",
    "# Generate random numbers above 10,000\n",
    "# Replace `len(data)` with the number of rows in your DataFrame\n",
    "random_numbers = np.random.randint(10001, 20000, size=len(data))\n",
    "\n",
    "# Add the new column to the DataFrame\n",
    "data['Salary'] = random_numbers\n",
    "\n",
    "# Save the updated DataFrame back to a CSV file\n",
    "data.to_csv('C:\\GITHUB COLLECTIONS\\MACHINE_LEARNING\\DataAnalysis\\ATM_CUSTOMER.csv', index=False)\n",
    "\n",
    "# Display the first few rows to confirm\n",
    "print(data.head())"
   ]
  },
  {
   "cell_type": "code",
   "execution_count": 38,
   "metadata": {},
   "outputs": [
    {
     "name": "stdout",
     "output_type": "stream",
     "text": [
      "<bound method NDFrame.head of               Name  Account Number   PIN  Balance  Salary\n",
      "0     Grace Yellow           45042  5185    69553   12733\n",
      "1       Jane Smith           85965  3190    64865   19846\n",
      "2    Alice Johnson           48360  1610    21162   13265\n",
      "3     Grace Yellow           80624  9324    70408   14860\n",
      "4    Alice Johnson           53525  8201    28238   19226\n",
      "..             ...             ...   ...      ...     ...\n",
      "98        John Doe           84953  9975    24869   17317\n",
      "99      Jane Smith           21239  7272    52992   14306\n",
      "100     Raju Kumar            1138  9087     7834   12611\n",
      "101     Raju Kumar            1138  9087     7834   15532\n",
      "102     Raju Kumar            1138  9087     7834   16927\n",
      "\n",
      "[103 rows x 5 columns]>\n"
     ]
    },
    {
     "name": "stderr",
     "output_type": "stream",
     "text": [
      "<>:3: SyntaxWarning: invalid escape sequence '\\G'\n",
      "<>:3: SyntaxWarning: invalid escape sequence '\\G'\n",
      "C:\\Users\\Kirit\\AppData\\Local\\Temp\\ipykernel_12780\\2815695303.py:3: SyntaxWarning: invalid escape sequence '\\G'\n",
      "  data.to_csv('C:\\GITHUB COLLECTIONS\\MACHINE_LEARNING\\DataAnalysis\\ATM_CUSTOMER.csv',index = False)\n"
     ]
    }
   ],
   "source": [
    "data = data.drop('RandomNumbers' , axis= 1)\n",
    "\n",
    "data.to_csv('C:\\GITHUB COLLECTIONS\\MACHINE_LEARNING\\DataAnalysis\\ATM_CUSTOMER.csv',index = False)\n",
    "\n",
    "print(data.head)"
   ]
  },
  {
   "cell_type": "code",
   "execution_count": 42,
   "metadata": {},
   "outputs": [
    {
     "data": {
      "text/html": [
       "<div>\n",
       "<style scoped>\n",
       "    .dataframe tbody tr th:only-of-type {\n",
       "        vertical-align: middle;\n",
       "    }\n",
       "\n",
       "    .dataframe tbody tr th {\n",
       "        vertical-align: top;\n",
       "    }\n",
       "\n",
       "    .dataframe thead th {\n",
       "        text-align: right;\n",
       "    }\n",
       "</style>\n",
       "<table border=\"1\" class=\"dataframe\">\n",
       "  <thead>\n",
       "    <tr style=\"text-align: right;\">\n",
       "      <th></th>\n",
       "      <th>Name</th>\n",
       "      <th>Account Number</th>\n",
       "      <th>PIN</th>\n",
       "      <th>Balance</th>\n",
       "      <th>Salary</th>\n",
       "    </tr>\n",
       "  </thead>\n",
       "  <tbody>\n",
       "    <tr>\n",
       "      <th>0</th>\n",
       "      <td>Grace Yellow</td>\n",
       "      <td>45042</td>\n",
       "      <td>5185</td>\n",
       "      <td>69553</td>\n",
       "      <td>12733</td>\n",
       "    </tr>\n",
       "    <tr>\n",
       "      <th>1</th>\n",
       "      <td>Jane Smith</td>\n",
       "      <td>85965</td>\n",
       "      <td>3190</td>\n",
       "      <td>64865</td>\n",
       "      <td>19846</td>\n",
       "    </tr>\n",
       "    <tr>\n",
       "      <th>2</th>\n",
       "      <td>Alice Johnson</td>\n",
       "      <td>48360</td>\n",
       "      <td>1610</td>\n",
       "      <td>21162</td>\n",
       "      <td>13265</td>\n",
       "    </tr>\n",
       "    <tr>\n",
       "      <th>3</th>\n",
       "      <td>Grace Yellow</td>\n",
       "      <td>80624</td>\n",
       "      <td>9324</td>\n",
       "      <td>70408</td>\n",
       "      <td>14860</td>\n",
       "    </tr>\n",
       "    <tr>\n",
       "      <th>4</th>\n",
       "      <td>Alice Johnson</td>\n",
       "      <td>53525</td>\n",
       "      <td>8201</td>\n",
       "      <td>28238</td>\n",
       "      <td>19226</td>\n",
       "    </tr>\n",
       "  </tbody>\n",
       "</table>\n",
       "</div>"
      ],
      "text/plain": [
       "            Name  Account Number   PIN  Balance  Salary\n",
       "0   Grace Yellow           45042  5185    69553   12733\n",
       "1     Jane Smith           85965  3190    64865   19846\n",
       "2  Alice Johnson           48360  1610    21162   13265\n",
       "3   Grace Yellow           80624  9324    70408   14860\n",
       "4  Alice Johnson           53525  8201    28238   19226"
      ]
     },
     "execution_count": 42,
     "metadata": {},
     "output_type": "execute_result"
    }
   ],
   "source": [
    "data = pd.read_csv('ATM_CUSTOMER.csv')\n",
    "df = pd.DataFrame(data=data)\n",
    "df.head()"
   ]
  },
  {
   "cell_type": "code",
   "execution_count": 43,
   "metadata": {},
   "outputs": [
    {
     "data": {
      "text/html": [
       "<div>\n",
       "<style scoped>\n",
       "    .dataframe tbody tr th:only-of-type {\n",
       "        vertical-align: middle;\n",
       "    }\n",
       "\n",
       "    .dataframe tbody tr th {\n",
       "        vertical-align: top;\n",
       "    }\n",
       "\n",
       "    .dataframe thead th {\n",
       "        text-align: right;\n",
       "    }\n",
       "</style>\n",
       "<table border=\"1\" class=\"dataframe\">\n",
       "  <thead>\n",
       "    <tr style=\"text-align: right;\">\n",
       "      <th></th>\n",
       "      <th>Account Number</th>\n",
       "      <th>PIN</th>\n",
       "      <th>Balance</th>\n",
       "      <th>Salary</th>\n",
       "    </tr>\n",
       "  </thead>\n",
       "  <tbody>\n",
       "    <tr>\n",
       "      <th>count</th>\n",
       "      <td>103.000000</td>\n",
       "      <td>103.000000</td>\n",
       "      <td>103.000000</td>\n",
       "      <td>103.000000</td>\n",
       "    </tr>\n",
       "    <tr>\n",
       "      <th>mean</th>\n",
       "      <td>56674.737864</td>\n",
       "      <td>5360.165049</td>\n",
       "      <td>51072.436893</td>\n",
       "      <td>15174.388350</td>\n",
       "    </tr>\n",
       "    <tr>\n",
       "      <th>std</th>\n",
       "      <td>27000.092792</td>\n",
       "      <td>2518.440184</td>\n",
       "      <td>26440.230593</td>\n",
       "      <td>2737.395976</td>\n",
       "    </tr>\n",
       "    <tr>\n",
       "      <th>min</th>\n",
       "      <td>1138.000000</td>\n",
       "      <td>1155.000000</td>\n",
       "      <td>5473.000000</td>\n",
       "      <td>10538.000000</td>\n",
       "    </tr>\n",
       "    <tr>\n",
       "      <th>25%</th>\n",
       "      <td>31936.500000</td>\n",
       "      <td>3267.500000</td>\n",
       "      <td>30378.500000</td>\n",
       "      <td>12739.500000</td>\n",
       "    </tr>\n",
       "    <tr>\n",
       "      <th>50%</th>\n",
       "      <td>60683.000000</td>\n",
       "      <td>5114.000000</td>\n",
       "      <td>52297.000000</td>\n",
       "      <td>15073.000000</td>\n",
       "    </tr>\n",
       "    <tr>\n",
       "      <th>75%</th>\n",
       "      <td>80712.500000</td>\n",
       "      <td>7365.000000</td>\n",
       "      <td>70601.500000</td>\n",
       "      <td>17341.500000</td>\n",
       "    </tr>\n",
       "    <tr>\n",
       "      <th>max</th>\n",
       "      <td>99436.000000</td>\n",
       "      <td>9975.000000</td>\n",
       "      <td>99937.000000</td>\n",
       "      <td>19894.000000</td>\n",
       "    </tr>\n",
       "  </tbody>\n",
       "</table>\n",
       "</div>"
      ],
      "text/plain": [
       "       Account Number          PIN       Balance        Salary\n",
       "count      103.000000   103.000000    103.000000    103.000000\n",
       "mean     56674.737864  5360.165049  51072.436893  15174.388350\n",
       "std      27000.092792  2518.440184  26440.230593   2737.395976\n",
       "min       1138.000000  1155.000000   5473.000000  10538.000000\n",
       "25%      31936.500000  3267.500000  30378.500000  12739.500000\n",
       "50%      60683.000000  5114.000000  52297.000000  15073.000000\n",
       "75%      80712.500000  7365.000000  70601.500000  17341.500000\n",
       "max      99436.000000  9975.000000  99937.000000  19894.000000"
      ]
     },
     "execution_count": 43,
     "metadata": {},
     "output_type": "execute_result"
    }
   ],
   "source": [
    "# Statistical Analysis \n",
    "df.describe()"
   ]
  },
  {
   "cell_type": "code",
   "execution_count": null,
   "metadata": {},
   "outputs": [],
   "source": []
  }
 ],
 "metadata": {
  "kernelspec": {
   "display_name": "ml_env",
   "language": "python",
   "name": "python3"
  },
  "language_info": {
   "codemirror_mode": {
    "name": "ipython",
    "version": 3
   },
   "file_extension": ".py",
   "mimetype": "text/x-python",
   "name": "python",
   "nbconvert_exporter": "python",
   "pygments_lexer": "ipython3",
   "version": "3.12.6"
  }
 },
 "nbformat": 4,
 "nbformat_minor": 2
}
