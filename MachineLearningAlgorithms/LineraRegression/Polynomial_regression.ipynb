{
 "cells": [
  {
   "cell_type": "code",
   "execution_count": null,
   "metadata": {},
   "outputs": [],
   "source": [
    "import numpy as np \n",
    "import pandas as pd \n",
    "import matplotlib.pyplot as plt \n",
    "%matplotlib inline "
   ]
  },
  {
   "cell_type": "code",
   "execution_count": null,
   "metadata": {},
   "outputs": [
    {
     "data": {
      "text/plain": [
       "<matplotlib.collections.PathCollection at 0x26687cc6840>"
      ]
     },
     "execution_count": 223,
     "metadata": {},
     "output_type": "execute_result"
    },
    {
     "data": {
      "image/png": "[encoded data removed]",
      "text/plain": [
       "<Figure size 640x480 with 1 Axes>"
      ]
     },
     "metadata": {},
     "output_type": "display_data"
    }
   ],
   "source": [
    "X = 6 * np.random.rand(100 , 1) - 3\n",
    "y = 0.5 * X**2 + 1.5* X + 2 +np.random.randn(100 , 1)\n",
    "# Quadratic Equation used  \n",
    "plt.scatter(X, y , color = 'green')"
   ]
  },
  {
   "cell_type": "code",
   "execution_count": null,
   "metadata": {},
   "outputs": [
    {
     "name": "stdout",
     "output_type": "stream",
     "text": [
      "(100, 1) (100, 1)\n"
     ]
    }
   ],
   "source": [
    "print(X.shape , y.shape)"
   ]
  },
  {
   "cell_type": "code",
   "execution_count": null,
   "metadata": {},
   "outputs": [],
   "source": [
    "from sklearn.model_selection import train_test_split\n",
    "\n",
    "X_train , X_test , y_train , y_test = train_test_split(X , y, test_size=0.25 , random_state=42)\n"
   ]
  },
  {
   "cell_type": "code",
   "execution_count": null,
   "metadata": {},
   "outputs": [],
   "source": [
    "from sklearn.linear_model import  LinearRegression\n",
    "regression_1 = LinearRegression()"
   ]
  },
  {
   "cell_type": "code",
   "execution_count": null,
   "metadata": {},
   "outputs": [
    {
     "name": "stdout",
     "output_type": "stream",
     "text": [
      "(75, 1) (75, 1)\n"
     ]
    },
    {
     "data": {
      "text/html": [
       "<style>#sk-container-id-14 {\n",
       "  /* Definition of color scheme common for light and dark mode */\n",
       "  --sklearn-color-text: black;\n",
       "  --sklearn-color-line: gray;\n",
       "  /* Definition of color scheme for unfitted estimators */\n",
       "  --sklearn-color-unfitted-level-0: #fff5e6;\n",
       "  --sklearn-color-unfitted-level-1: #f6e4d2;\n",
       "  --sklearn-color-unfitted-level-2: #ffe0b3;\n",
       "  --sklearn-color-unfitted-level-3: chocolate;\n",
       "  /* Definition of color scheme for fitted estimators */\n",
       "  --sklearn-color-fitted-level-0: #f0f8ff;\n",
       "  --sklearn-color-fitted-level-1: #d4ebff;\n",
       "  --sklearn-color-fitted-level-2: #b3dbfd;\n",
       "  --sklearn-color-fitted-level-3: cornflowerblue;\n",
       "\n",
       "  /* Specific color for light theme */\n",
       "  --sklearn-color-text-on-default-background: var(--sg-text-color, var(--theme-code-foreground, var(--jp-content-font-color1, black)));\n",
       "  --sklearn-color-background: var(--sg-background-color, var(--theme-background, var(--jp-layout-color0, white)));\n",
       "  --sklearn-color-border-box: var(--sg-text-color, var(--theme-code-foreground, var(--jp-content-font-color1, black)));\n",
       "  --sklearn-color-icon: #696969;\n",
       "\n",
       "  @media (prefers-color-scheme: dark) {\n",
       "    /* Redefinition of color scheme for dark theme */\n",
       "    --sklearn-color-text-on-default-background: var(--sg-text-color, var(--theme-code-foreground, var(--jp-content-font-color1, white)));\n",
       "    --sklearn-color-background: var(--sg-background-color, var(--theme-background, var(--jp-layout-color0, #111)));\n",
       "    --sklearn-color-border-box: var(--sg-text-color, var(--theme-code-foreground, var(--jp-content-font-color1, white)));\n",
       "    --sklearn-color-icon: #878787;\n",
       "  }\n",
       "}\n",
       "\n",
       "#sk-container-id-14 {\n",
       "  color: var(--sklearn-color-text);\n",
       "}\n",
       "\n",
       "#sk-container-id-14 pre {\n",
       "  padding: 0;\n",
       "}\n",
       "\n",
       "#sk-container-id-14 input.sk-hidden--visually {\n",
       "  border: 0;\n",
       "  clip: rect(1px 1px 1px 1px);\n",
       "  clip: rect(1px, 1px, 1px, 1px);\n",
       "  height: 1px;\n",
       "  margin: -1px;\n",
       "  overflow: hidden;\n",
       "  padding: 0;\n",
       "  position: absolute;\n",
       "  width: 1px;\n",
       "}\n",
       "\n",
       "#sk-container-id-14 div.sk-dashed-wrapped {\n",
       "  border: 1px dashed var(--sklearn-color-line);\n",
       "  margin: 0 0.4em 0.5em 0.4em;\n",
       "  box-sizing: border-box;\n",
       "  padding-bottom: 0.4em;\n",
       "  background-color: var(--sklearn-color-background);\n",
       "}\n",
       "\n",
       "#sk-container-id-14 div.sk-container {\n",
       "  /* jupyter's `normalize.less` sets `[hidden] { display: none; }`\n",
       "     but bootstrap.min.css set `[hidden] { display: none !important; }`\n",
       "     so we also need the `!important` here to be able to override the\n",
       "     default hidden behavior on the sphinx rendered scikit-learn.org.\n",
       "     See: https://github.com/scikit-learn/scikit-learn/issues/21755 */\n",
       "  display: inline-block !important;\n",
       "  position: relative;\n",
       "}\n",
       "\n",
       "#sk-container-id-14 div.sk-text-repr-fallback {\n",
       "  display: none;\n",
       "}\n",
       "\n",
       "div.sk-parallel-item,\n",
       "div.sk-serial,\n",
       "div.sk-item {\n",
       "  /* draw centered vertical line to link estimators */\n",
       "  background-image: linear-gradient(var(--sklearn-color-text-on-default-background), var(--sklearn-color-text-on-default-background));\n",
       "  background-size: 2px 100%;\n",
       "  background-repeat: no-repeat;\n",
       "  background-position: center center;\n",
       "}\n",
       "\n",
       "/* Parallel-specific style estimator block */\n",
       "\n",
       "#sk-container-id-14 div.sk-parallel-item::after {\n",
       "  content: \"\";\n",
       "  width: 100%;\n",
       "  border-bottom: 2px solid var(--sklearn-color-text-on-default-background);\n",
       "  flex-grow: 1;\n",
       "}\n",
       "\n",
       "#sk-container-id-14 div.sk-parallel {\n",
       "  display: flex;\n",
       "  align-items: stretch;\n",
       "  justify-content: center;\n",
       "  background-color: var(--sklearn-color-background);\n",
       "  position: relative;\n",
       "}\n",
       "\n",
       "#sk-container-id-14 div.sk-parallel-item {\n",
       "  display: flex;\n",
       "  flex-direction: column;\n",
       "}\n",
       "\n",
       "#sk-container-id-14 div.sk-parallel-item:first-child::after {\n",
       "  align-self: flex-end;\n",
       "  width: 50%;\n",
       "}\n",
       "\n",
       "#sk-container-id-14 div.sk-parallel-item:last-child::after {\n",
       "  align-self: flex-start;\n",
       "  width: 50%;\n",
       "}\n",
       "\n",
       "#sk-container-id-14 div.sk-parallel-item:only-child::after {\n",
       "  width: 0;\n",
       "}\n",
       "\n",
       "/* Serial-specific style estimator block */\n",
       "\n",
       "#sk-container-id-14 div.sk-serial {\n",
       "  display: flex;\n",
       "  flex-direction: column;\n",
       "  align-items: center;\n",
       "  background-color: var(--sklearn-color-background);\n",
       "  padding-right: 1em;\n",
       "  padding-left: 1em;\n",
       "}\n",
       "\n",
       "\n",
       "/* Toggleable style: style used for estimator/Pipeline/ColumnTransformer box that is\n",
       "clickable and can be expanded/collapsed.\n",
       "- Pipeline and ColumnTransformer use this feature and define the default style\n",
       "- Estimators will overwrite some part of the style using the `sk-estimator` class\n",
       "*/\n",
       "\n",
       "/* Pipeline and ColumnTransformer style (default) */\n",
       "\n",
       "#sk-container-id-14 div.sk-toggleable {\n",
       "  /* Default theme specific background. It is overwritten whether we have a\n",
       "  specific estimator or a Pipeline/ColumnTransformer */\n",
       "  background-color: var(--sklearn-color-background);\n",
       "}\n",
       "\n",
       "/* Toggleable label */\n",
       "#sk-container-id-14 label.sk-toggleable__label {\n",
       "  cursor: pointer;\n",
       "  display: block;\n",
       "  width: 100%;\n",
       "  margin-bottom: 0;\n",
       "  padding: 0.5em;\n",
       "  box-sizing: border-box;\n",
       "  text-align: center;\n",
       "}\n",
       "\n",
       "#sk-container-id-14 label.sk-toggleable__label-arrow:before {\n",
       "  /* Arrow on the left of the label */\n",
       "  content: \"▸\";\n",
       "  float: left;\n",
       "  margin-right: 0.25em;\n",
       "  color: var(--sklearn-color-icon);\n",
       "}\n",
       "\n",
       "#sk-container-id-14 label.sk-toggleable__label-arrow:hover:before {\n",
       "  color: var(--sklearn-color-text);\n",
       "}\n",
       "\n",
       "/* Toggleable content - dropdown */\n",
       "\n",
       "#sk-container-id-14 div.sk-toggleable__content {\n",
       "  max-height: 0;\n",
       "  max-width: 0;\n",
       "  overflow: hidden;\n",
       "  text-align: left;\n",
       "  /* unfitted */\n",
       "  background-color: var(--sklearn-color-unfitted-level-0);\n",
       "}\n",
       "\n",
       "#sk-container-id-14 div.sk-toggleable__content.fitted {\n",
       "  /* fitted */\n",
       "  background-color: var(--sklearn-color-fitted-level-0);\n",
       "}\n",
       "\n",
       "#sk-container-id-14 div.sk-toggleable__content pre {\n",
       "  margin: 0.2em;\n",
       "  border-radius: 0.25em;\n",
       "  color: var(--sklearn-color-text);\n",
       "  /* unfitted */\n",
       "  background-color: var(--sklearn-color-unfitted-level-0);\n",
       "}\n",
       "\n",
       "#sk-container-id-14 div.sk-toggleable__content.fitted pre {\n",
       "  /* unfitted */\n",
       "  background-color: var(--sklearn-color-fitted-level-0);\n",
       "}\n",
       "\n",
       "#sk-container-id-14 input.sk-toggleable__control:checked~div.sk-toggleable__content {\n",
       "  /* Expand drop-down */\n",
       "  max-height: 200px;\n",
       "  max-width: 100%;\n",
       "  overflow: auto;\n",
       "}\n",
       "\n",
       "#sk-container-id-14 input.sk-toggleable__control:checked~label.sk-toggleable__label-arrow:before {\n",
       "  content: \"▾\";\n",
       "}\n",
       "\n",
       "/* Pipeline/ColumnTransformer-specific style */\n",
       "\n",
       "#sk-container-id-14 div.sk-label input.sk-toggleable__control:checked~label.sk-toggleable__label {\n",
       "  color: var(--sklearn-color-text);\n",
       "  background-color: var(--sklearn-color-unfitted-level-2);\n",
       "}\n",
       "\n",
       "#sk-container-id-14 div.sk-label.fitted input.sk-toggleable__control:checked~label.sk-toggleable__label {\n",
       "  background-color: var(--sklearn-color-fitted-level-2);\n",
       "}\n",
       "\n",
       "/* Estimator-specific style */\n",
       "\n",
       "/* Colorize estimator box */\n",
       "#sk-container-id-14 div.sk-estimator input.sk-toggleable__control:checked~label.sk-toggleable__label {\n",
       "  /* unfitted */\n",
       "  background-color: var(--sklearn-color-unfitted-level-2);\n",
       "}\n",
       "\n",
       "#sk-container-id-14 div.sk-estimator.fitted input.sk-toggleable__control:checked~label.sk-toggleable__label {\n",
       "  /* fitted */\n",
       "  background-color: var(--sklearn-color-fitted-level-2);\n",
       "}\n",
       "\n",
       "#sk-container-id-14 div.sk-label label.sk-toggleable__label,\n",
       "#sk-container-id-14 div.sk-label label {\n",
       "  /* The background is the default theme color */\n",
       "  color: var(--sklearn-color-text-on-default-background);\n",
       "}\n",
       "\n",
       "/* On hover, darken the color of the background */\n",
       "#sk-container-id-14 div.sk-label:hover label.sk-toggleable__label {\n",
       "  color: var(--sklearn-color-text);\n",
       "  background-color: var(--sklearn-color-unfitted-level-2);\n",
       "}\n",
       "\n",
       "/* Label box, darken color on hover, fitted */\n",
       "#sk-container-id-14 div.sk-label.fitted:hover label.sk-toggleable__label.fitted {\n",
       "  color: var(--sklearn-color-text);\n",
       "  background-color: var(--sklearn-color-fitted-level-2);\n",
       "}\n",
       "\n",
       "/* Estimator label */\n",
       "\n",
       "#sk-container-id-14 div.sk-label label {\n",
       "  font-family: monospace;\n",
       "  font-weight: bold;\n",
       "  display: inline-block;\n",
       "  line-height: 1.2em;\n",
       "}\n",
       "\n",
       "#sk-container-id-14 div.sk-label-container {\n",
       "  text-align: center;\n",
       "}\n",
       "\n",
       "/* Estimator-specific */\n",
       "#sk-container-id-14 div.sk-estimator {\n",
       "  font-family: monospace;\n",
       "  border: 1px dotted var(--sklearn-color-border-box);\n",
       "  border-radius: 0.25em;\n",
       "  box-sizing: border-box;\n",
       "  margin-bottom: 0.5em;\n",
       "  /* unfitted */\n",
       "  background-color: var(--sklearn-color-unfitted-level-0);\n",
       "}\n",
       "\n",
       "#sk-container-id-14 div.sk-estimator.fitted {\n",
       "  /* fitted */\n",
       "  background-color: var(--sklearn-color-fitted-level-0);\n",
       "}\n",
       "\n",
       "/* on hover */\n",
       "#sk-container-id-14 div.sk-estimator:hover {\n",
       "  /* unfitted */\n",
       "  background-color: var(--sklearn-color-unfitted-level-2);\n",
       "}\n",
       "\n",
       "#sk-container-id-14 div.sk-estimator.fitted:hover {\n",
       "  /* fitted */\n",
       "  background-color: var(--sklearn-color-fitted-level-2);\n",
       "}\n",
       "\n",
       "/* Specification for estimator info (e.g. \"i\" and \"?\") */\n",
       "\n",
       "/* Common style for \"i\" and \"?\" */\n",
       "\n",
       ".sk-estimator-doc-link,\n",
       "a:link.sk-estimator-doc-link,\n",
       "a:visited.sk-estimator-doc-link {\n",
       "  float: right;\n",
       "  font-size: smaller;\n",
       "  line-height: 1em;\n",
       "  font-family: monospace;\n",
       "  background-color: var(--sklearn-color-background);\n",
       "  border-radius: 1em;\n",
       "  height: 1em;\n",
       "  width: 1em;\n",
       "  text-decoration: none !important;\n",
       "  margin-left: 1ex;\n",
       "  /* unfitted */\n",
       "  border: var(--sklearn-color-unfitted-level-1) 1pt solid;\n",
       "  color: var(--sklearn-color-unfitted-level-1);\n",
       "}\n",
       "\n",
       ".sk-estimator-doc-link.fitted,\n",
       "a:link.sk-estimator-doc-link.fitted,\n",
       "a:visited.sk-estimator-doc-link.fitted {\n",
       "  /* fitted */\n",
       "  border: var(--sklearn-color-fitted-level-1) 1pt solid;\n",
       "  color: var(--sklearn-color-fitted-level-1);\n",
       "}\n",
       "\n",
       "/* On hover */\n",
       "div.sk-estimator:hover .sk-estimator-doc-link:hover,\n",
       ".sk-estimator-doc-link:hover,\n",
       "div.sk-label-container:hover .sk-estimator-doc-link:hover,\n",
       ".sk-estimator-doc-link:hover {\n",
       "  /* unfitted */\n",
       "  background-color: var(--sklearn-color-unfitted-level-3);\n",
       "  color: var(--sklearn-color-background);\n",
       "  text-decoration: none;\n",
       "}\n",
       "\n",
       "div.sk-estimator.fitted:hover .sk-estimator-doc-link.fitted:hover,\n",
       ".sk-estimator-doc-link.fitted:hover,\n",
       "div.sk-label-container:hover .sk-estimator-doc-link.fitted:hover,\n",
       ".sk-estimator-doc-link.fitted:hover {\n",
       "  /* fitted */\n",
       "  background-color: var(--sklearn-color-fitted-level-3);\n",
       "  color: var(--sklearn-color-background);\n",
       "  text-decoration: none;\n",
       "}\n",
       "\n",
       "/* Span, style for the box shown on hovering the info icon */\n",
       ".sk-estimator-doc-link span {\n",
       "  display: none;\n",
       "  z-index: 9999;\n",
       "  position: relative;\n",
       "  font-weight: normal;\n",
       "  right: .2ex;\n",
       "  padding: .5ex;\n",
       "  margin: .5ex;\n",
       "  width: min-content;\n",
       "  min-width: 20ex;\n",
       "  max-width: 50ex;\n",
       "  color: var(--sklearn-color-text);\n",
       "  box-shadow: 2pt 2pt 4pt #999;\n",
       "  /* unfitted */\n",
       "  background: var(--sklearn-color-unfitted-level-0);\n",
       "  border: .5pt solid var(--sklearn-color-unfitted-level-3);\n",
       "}\n",
       "\n",
       ".sk-estimator-doc-link.fitted span {\n",
       "  /* fitted */\n",
       "  background: var(--sklearn-color-fitted-level-0);\n",
       "  border: var(--sklearn-color-fitted-level-3);\n",
       "}\n",
       "\n",
       ".sk-estimator-doc-link:hover span {\n",
       "  display: block;\n",
       "}\n",
       "\n",
       "/* \"?\"-specific style due to the `<a>` HTML tag */\n",
       "\n",
       "#sk-container-id-14 a.estimator_doc_link {\n",
       "  float: right;\n",
       "  font-size: 1rem;\n",
       "  line-height: 1em;\n",
       "  font-family: monospace;\n",
       "  background-color: var(--sklearn-color-background);\n",
       "  border-radius: 1rem;\n",
       "  height: 1rem;\n",
       "  width: 1rem;\n",
       "  text-decoration: none;\n",
       "  /* unfitted */\n",
       "  color: var(--sklearn-color-unfitted-level-1);\n",
       "  border: var(--sklearn-color-unfitted-level-1) 1pt solid;\n",
       "}\n",
       "\n",
       "#sk-container-id-14 a.estimator_doc_link.fitted {\n",
       "  /* fitted */\n",
       "  border: var(--sklearn-color-fitted-level-1) 1pt solid;\n",
       "  color: var(--sklearn-color-fitted-level-1);\n",
       "}\n",
       "\n",
       "/* On hover */\n",
       "#sk-container-id-14 a.estimator_doc_link:hover {\n",
       "  /* unfitted */\n",
       "  background-color: var(--sklearn-color-unfitted-level-3);\n",
       "  color: var(--sklearn-color-background);\n",
       "  text-decoration: none;\n",
       "}\n",
       "\n",
       "#sk-container-id-14 a.estimator_doc_link.fitted:hover {\n",
       "  /* fitted */\n",
       "  background-color: var(--sklearn-color-fitted-level-3);\n",
       "}\n",
       "</style><div id=\"sk-container-id-14\" class=\"sk-top-container\"><div class=\"sk-text-repr-fallback\"><pre>LinearRegression()</pre><b>In a Jupyter environment, please rerun this cell to show the HTML representation or trust the notebook. <br />On GitHub, the HTML representation is unable to render, please try loading this page with nbviewer.org.</b></div><div class=\"sk-container\" hidden><div class=\"sk-item\"><div class=\"sk-estimator fitted sk-toggleable\"><input class=\"sk-toggleable__control sk-hidden--visually\" id=\"sk-estimator-id-14\" type=\"checkbox\" checked><label for=\"sk-estimator-id-14\" class=\"sk-toggleable__label fitted sk-toggleable__label-arrow fitted\">&nbsp;&nbsp;LinearRegression<a class=\"sk-estimator-doc-link fitted\" rel=\"noreferrer\" target=\"_blank\" href=\"https://scikit-learn.org/1.5/modules/generated/sklearn.linear_model.LinearRegression.html\">?<span>Documentation for LinearRegression</span></a><span class=\"sk-estimator-doc-link fitted\">i<span>Fitted</span></span></label><div class=\"sk-toggleable__content fitted\"><pre>LinearRegression()</pre></div> </div></div></div></div>"
      ],
      "text/plain": [
       "LinearRegression()"
      ]
     },
     "execution_count": 227,
     "metadata": {},
     "output_type": "execute_result"
    }
   ],
   "source": [
    "print(X_train.shape, y_train.shape)  # Both shapes should match in number of rows\n",
    "regression_1.fit(X_train, y_train)  # Now try fitting again\n"
   ]
  },
  {
   "cell_type": "code",
   "execution_count": null,
   "metadata": {},
   "outputs": [
    {
     "data": {
      "text/plain": [
       "0.5886964963860728"
      ]
     },
     "execution_count": 228,
     "metadata": {},
     "output_type": "execute_result"
    }
   ],
   "source": [
    "from sklearn.metrics import r2_score\n",
    "score  = r2_score(y_test , regression_1.predict(X_test))\n",
    "score"
   ]
  },
  {
   "cell_type": "code",
   "execution_count": null,
   "metadata": {},
   "outputs": [
    {
     "data": {
      "text/plain": [
       "Text(0, 0.5, 'y')"
      ]
     },
     "execution_count": 229,
     "metadata": {},
     "output_type": "execute_result"
    },
    {
     "data": {
      "image/png": "[encoded data removed]",
      "text/plain": [
       "<Figure size 640x480 with 1 Axes>"
      ]
     },
     "metadata": {},
     "output_type": "display_data"
    }
   ],
   "source": [
    "plt.plot(X_train , regression_1.predict(X_train) , color = 'r')\n",
    "plt.scatter(X_train , y_train)\n",
    "plt.xlabel(\"X Dataset\")\n",
    "plt.ylabel(\"y\")"
   ]
  },
  {
   "cell_type": "code",
   "execution_count": null,
   "metadata": {},
   "outputs": [],
   "source": [
    "from sklearn.preprocessing import PolynomialFeatures\n",
    "poly = PolynomialFeatures(degree= 2 , include_bias= True)\n",
    "X_train_poly = poly.fit_transform(X_train)\n",
    "X_test_poly = poly.transform(X_test)"
   ]
  },
  {
   "cell_type": "code",
   "execution_count": null,
   "metadata": {},
   "outputs": [
    {
     "data": {
      "text/plain": [
       "array([[ 1.00000000e+00,  1.61082689e+00,  2.59476328e+00],\n",
       "       [ 1.00000000e+00,  2.31969660e+00,  5.38099230e+00],\n",
       "       [ 1.00000000e+00,  1.45118081e+00,  2.10592574e+00],\n",
       "       [ 1.00000000e+00,  2.51177911e+00,  6.30903429e+00],\n",
       "       [ 1.00000000e+00,  2.86078478e+00,  8.18408954e+00],\n",
       "       [ 1.00000000e+00,  1.27273080e+00,  1.61984370e+00],\n",
       "       [ 1.00000000e+00,  9.26575288e-01,  8.58541765e-01],\n",
       "       [ 1.00000000e+00,  4.82261553e-01,  2.32576206e-01],\n",
       "       [ 1.00000000e+00,  9.29343324e-02,  8.63679013e-03],\n",
       "       [ 1.00000000e+00,  2.22254156e+00,  4.93969099e+00],\n",
       "       [ 1.00000000e+00, -8.56725624e-01,  7.33978795e-01],\n",
       "       [ 1.00000000e+00,  1.37298670e+00,  1.88509247e+00],\n",
       "       [ 1.00000000e+00, -2.19817240e-01,  4.83196191e-02],\n",
       "       [ 1.00000000e+00, -2.31168638e-01,  5.34389391e-02],\n",
       "       [ 1.00000000e+00, -1.34299449e+00,  1.80363419e+00],\n",
       "       [ 1.00000000e+00,  2.24128824e-02,  5.02337297e-04],\n",
       "       [ 1.00000000e+00, -1.90758652e-01,  3.63888633e-02],\n",
       "       [ 1.00000000e+00,  1.58646719e+00,  2.51687815e+00],\n",
       "       [ 1.00000000e+00, -4.23791136e-01,  1.79598927e-01],\n",
       "       [ 1.00000000e+00, -6.47416644e-01,  4.19148311e-01],\n",
       "       [ 1.00000000e+00, -1.54099756e+00,  2.37467348e+00],\n",
       "       [ 1.00000000e+00,  1.50107994e+00,  2.25324100e+00],\n",
       "       [ 1.00000000e+00,  2.79355715e+00,  7.80396154e+00],\n",
       "       [ 1.00000000e+00, -2.77845448e+00,  7.71980930e+00],\n",
       "       [ 1.00000000e+00,  7.54245832e-01,  5.68886775e-01],\n",
       "       [ 1.00000000e+00,  2.58522288e+00,  6.68337732e+00],\n",
       "       [ 1.00000000e+00, -1.79625092e+00,  3.22651738e+00],\n",
       "       [ 1.00000000e+00,  6.17886805e-02,  3.81784103e-03],\n",
       "       [ 1.00000000e+00,  2.27818799e+00,  5.19014052e+00],\n",
       "       [ 1.00000000e+00, -2.39221480e-01,  5.72269166e-02],\n",
       "       [ 1.00000000e+00, -1.09292896e+00,  1.19449371e+00],\n",
       "       [ 1.00000000e+00, -5.65216470e-01,  3.19469658e-01],\n",
       "       [ 1.00000000e+00, -1.21231779e+00,  1.46971443e+00],\n",
       "       [ 1.00000000e+00, -1.72098462e-01,  2.96178805e-02],\n",
       "       [ 1.00000000e+00, -2.02898213e+00,  4.11676847e+00],\n",
       "       [ 1.00000000e+00, -1.18037771e+00,  1.39329154e+00],\n",
       "       [ 1.00000000e+00, -1.83341860e+00,  3.36142377e+00],\n",
       "       [ 1.00000000e+00,  1.40719858e+00,  1.98020784e+00],\n",
       "       [ 1.00000000e+00,  2.45721078e+00,  6.03788482e+00],\n",
       "       [ 1.00000000e+00,  6.16177683e-01,  3.79674937e-01],\n",
       "       [ 1.00000000e+00, -2.60176002e+00,  6.76915518e+00],\n",
       "       [ 1.00000000e+00, -1.51624413e+00,  2.29899628e+00],\n",
       "       [ 1.00000000e+00,  7.97240786e-01,  6.35592871e-01],\n",
       "       [ 1.00000000e+00,  2.81575102e-01,  7.92845383e-02],\n",
       "       [ 1.00000000e+00,  2.93966443e+00,  8.64162695e+00],\n",
       "       [ 1.00000000e+00,  7.88677664e-01,  6.22012457e-01],\n",
       "       [ 1.00000000e+00,  2.85369841e+00,  8.14359464e+00],\n",
       "       [ 1.00000000e+00,  2.10251824e+00,  4.42058296e+00],\n",
       "       [ 1.00000000e+00,  2.93663834e-01,  8.62384472e-02],\n",
       "       [ 1.00000000e+00,  2.27777354e+00,  5.18825231e+00],\n",
       "       [ 1.00000000e+00, -2.99233579e+00,  8.95407346e+00],\n",
       "       [ 1.00000000e+00,  5.49841378e-01,  3.02325541e-01],\n",
       "       [ 1.00000000e+00, -9.69472063e-01,  9.39876081e-01],\n",
       "       [ 1.00000000e+00, -1.47799932e+00,  2.18448200e+00],\n",
       "       [ 1.00000000e+00,  2.88051402e+00,  8.29736102e+00],\n",
       "       [ 1.00000000e+00, -3.04041740e-01,  9.24413794e-02],\n",
       "       [ 1.00000000e+00, -1.65516215e+00,  2.73956174e+00],\n",
       "       [ 1.00000000e+00, -4.20449215e-01,  1.76777542e-01],\n",
       "       [ 1.00000000e+00,  6.53367414e-01,  4.26888978e-01],\n",
       "       [ 1.00000000e+00, -9.77572332e-01,  9.55647663e-01],\n",
       "       [ 1.00000000e+00, -8.16681913e-01,  6.66969346e-01],\n",
       "       [ 1.00000000e+00,  2.04903556e+00,  4.19854672e+00],\n",
       "       [ 1.00000000e+00, -1.79830251e+00,  3.23389192e+00],\n",
       "       [ 1.00000000e+00, -1.32296747e+00,  1.75024294e+00],\n",
       "       [ 1.00000000e+00, -1.55544524e+00,  2.41940991e+00],\n",
       "       [ 1.00000000e+00,  2.30328244e+00,  5.30511001e+00],\n",
       "       [ 1.00000000e+00, -1.60823376e-01,  2.58641582e-02],\n",
       "       [ 1.00000000e+00,  2.84080454e+00,  8.07017043e+00],\n",
       "       [ 1.00000000e+00,  1.98803396e+00,  3.95227903e+00],\n",
       "       [ 1.00000000e+00,  3.88946323e-01,  1.51279242e-01],\n",
       "       [ 1.00000000e+00, -5.08220703e-01,  2.58288283e-01],\n",
       "       [ 1.00000000e+00, -1.32655678e+00,  1.75975288e+00],\n",
       "       [ 1.00000000e+00, -2.22024475e+00,  4.92948675e+00],\n",
       "       [ 1.00000000e+00,  8.91568490e-01,  7.94894373e-01],\n",
       "       [ 1.00000000e+00, -2.13471119e+00,  4.55699186e+00]])"
      ]
     },
     "execution_count": 231,
     "metadata": {},
     "output_type": "execute_result"
    }
   ],
   "source": [
    "X_train_poly"
   ]
  },
  {
   "cell_type": "code",
   "execution_count": null,
   "metadata": {},
   "outputs": [
    {
     "data": {
      "text/plain": [
       "array([[ 1.00000000e+00, -7.74690164e-01,  6.00144850e-01],\n",
       "       [ 1.00000000e+00,  1.04159357e+00,  1.08491717e+00],\n",
       "       [ 1.00000000e+00,  2.16526599e+00,  4.68837681e+00],\n",
       "       [ 1.00000000e+00,  2.41363686e+00,  5.82564289e+00],\n",
       "       [ 1.00000000e+00,  3.11296345e-01,  9.69054144e-02],\n",
       "       [ 1.00000000e+00, -2.46122819e+00,  6.05764420e+00],\n",
       "       [ 1.00000000e+00,  5.30590504e-01,  2.81526283e-01],\n",
       "       [ 1.00000000e+00,  1.75632019e+00,  3.08466060e+00],\n",
       "       [ 1.00000000e+00,  2.47292998e+00,  6.11538270e+00],\n",
       "       [ 1.00000000e+00,  6.43923898e-02,  4.14637986e-03],\n",
       "       [ 1.00000000e+00,  2.91699122e+00,  8.50883776e+00],\n",
       "       [ 1.00000000e+00,  1.58705932e+00,  2.51875729e+00],\n",
       "       [ 1.00000000e+00,  5.38787121e-01,  2.90291562e-01],\n",
       "       [ 1.00000000e+00,  2.22863617e+00,  4.96681918e+00],\n",
       "       [ 1.00000000e+00, -2.08762259e+00,  4.35816809e+00],\n",
       "       [ 1.00000000e+00,  6.44534214e-01,  4.15424353e-01],\n",
       "       [ 1.00000000e+00,  4.81542450e-02,  2.31883131e-03],\n",
       "       [ 1.00000000e+00,  2.45877979e-01,  6.04559808e-02],\n",
       "       [ 1.00000000e+00, -5.46110903e-01,  2.98237119e-01],\n",
       "       [ 1.00000000e+00,  1.10055972e+00,  1.21123170e+00],\n",
       "       [ 1.00000000e+00, -2.95209334e+00,  8.71485507e+00],\n",
       "       [ 1.00000000e+00,  5.30397263e-01,  2.81321257e-01],\n",
       "       [ 1.00000000e+00,  5.71045005e-01,  3.26092397e-01],\n",
       "       [ 1.00000000e+00, -1.56291395e+00,  2.44270001e+00],\n",
       "       [ 1.00000000e+00, -2.54540635e+00,  6.47909349e+00]])"
      ]
     },
     "execution_count": 232,
     "metadata": {},
     "output_type": "execute_result"
    }
   ],
   "source": [
    "X_test_poly"
   ]
  },
  {
   "cell_type": "code",
   "execution_count": null,
   "metadata": {},
   "outputs": [
    {
     "name": "stdout",
     "output_type": "stream",
     "text": [
      "0.8703143210041939\n"
     ]
    }
   ],
   "source": [
    "from sklearn.metrics import r2_score\n",
    "regression = LinearRegression()\n",
    "regression.fit(X_train_poly , y_train)\n",
    "y_pred  = regression.predict(X_test_poly)\n",
    "score = r2_score(y_test , y_pred)\n",
    "print(score)\n"
   ]
  },
  {
   "cell_type": "code",
   "execution_count": null,
   "metadata": {},
   "outputs": [
    {
     "name": "stdout",
     "output_type": "stream",
     "text": [
      "[[0.         1.46819599 0.52994358]]\n"
     ]
    }
   ],
   "source": [
    "print(regression.coef_)"
   ]
  },
  {
   "cell_type": "code",
   "execution_count": null,
   "metadata": {},
   "outputs": [
    {
     "data": {
      "text/plain": [
       "Text(0, 0.5, 'y')"
      ]
     },
     "execution_count": 235,
     "metadata": {},
     "output_type": "execute_result"
    },
    {
     "data": {
      "image/png": "[encoded data removed]",
      "text/plain": [
       "<Figure size 640x480 with 1 Axes>"
      ]
     },
     "metadata": {},
     "output_type": "display_data"
    }
   ],
   "source": [
    "plt.scatter(X_train , regression.predict(X_train_poly))\n",
    "plt.scatter(X_train , y_train)\n",
    "plt.xlabel(\"X Dataset\")\n",
    "plt.ylabel(\"y\")"
   ]
  },
  {
   "cell_type": "markdown",
   "metadata": {},
   "source": [
    "## PipeLine "
   ]
  },
  {
   "cell_type": "code",
   "execution_count": null,
   "metadata": {},
   "outputs": [],
   "source": [
    "from sklearn.pipeline import Pipeline\n"
   ]
  },
  {
   "cell_type": "code",
   "execution_count": null,
   "metadata": {},
   "outputs": [],
   "source": [
    "from sklearn.preprocessing import PolynomialFeatures\n",
    "from sklearn.linear_model import LinearRegression\n",
    "from sklearn.pipeline import Pipeline\n",
    "\n",
    "\n",
    "def poly_regression(X_train, y_train, X_test, y_test, degree):\n",
    "    # Generate a range of values for smooth prediction\n",
    "    X_new = np.linspace(-3, 3, 200).reshape(200, 1)\n",
    "    \n",
    "    # Define polynomial regression pipeline\n",
    "    poly_features = PolynomialFeatures(degree=degree, include_bias=True)\n",
    "    lin_reg = LinearRegression()\n",
    "    poly_regression = Pipeline([\n",
    "        (\"poly_features\", poly_features),\n",
    "        (\"lin_reg\", lin_reg)\n",
    "    ])\n",
    "    \n",
    "    # Fit model on training data\n",
    "    poly_regression.fit(X_train, y_train)\n",
    "    \n",
    "    # Predict using the model for smooth curve\n",
    "    y_pred_new = poly_regression.predict(X_new)\n",
    "    \n",
    "    # Plot prediction curve\n",
    "    plt.plot(X_new, y_pred_new, 'r', label=f\"Degree {degree}\")\n",
    "    \n",
    "    # Plot training and test data as scatter plots\n",
    "    plt.scatter(X_train, y_train, color=\"blue\", label=\"Training data\")\n",
    "    plt.scatter(X_test, y_test, color=\"green\", label=\"Test data\")\n",
    "    \n",
    "    # Final plot details\n",
    "    plt.legend(loc=\"upper left\")\n",
    "    plt.xlabel(\"X\")\n",
    "    plt.ylabel(\"y\")\n",
    "    plt.axis([-4, 4, np.min(y_train)-1, np.max(y_train)+2])\n",
    "    plt.title(f\"Polynomial Regression (Degree {degree})\")\n",
    "    plt.show()"
   ]
  },
  {
   "cell_type": "code",
   "execution_count": null,
   "metadata": {},
   "outputs": [
    {
     "data": {
      "image/png": "[encoded data removed]",
      "text/plain": [
       "<Figure size 640x480 with 1 Axes>"
      ]
     },
     "metadata": {},
     "output_type": "display_data"
    }
   ],
   "source": [
    "poly_regression(X_train, y_train, X_test, y_test, 3)"
   ]
  }
 ],
 "metadata": {
  "kernelspec": {
   "display_name": "ml_env",
   "language": "python",
   "name": "python3"
  },
  "language_info": {
   "codemirror_mode": {
    "name": "ipython",
    "version": 3
   },
   "file_extension": ".py",
   "mimetype": "text/x-python",
   "name": "python",
   "nbconvert_exporter": "python",
   "pygments_lexer": "ipython3",
   "version": "3.12.6"
  }
 },
 "nbformat": 4,
 "nbformat_minor": 2
}
