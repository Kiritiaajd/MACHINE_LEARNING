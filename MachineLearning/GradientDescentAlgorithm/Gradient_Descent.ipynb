{
 "cells": [
  {
   "cell_type": "code",
   "execution_count": 82,
   "metadata": {},
   "outputs": [],
   "source": [
    "import numpy as np          \n",
    "import pandas as pd             \n"
   ]
  },
  {
   "cell_type": "code",
   "execution_count": 83,
   "metadata": {},
   "outputs": [
    {
     "data": {
      "text/html": [
       "<div>\n",
       "<style scoped>\n",
       "    .dataframe tbody tr th:only-of-type {\n",
       "        vertical-align: middle;\n",
       "    }\n",
       "\n",
       "    .dataframe tbody tr th {\n",
       "        vertical-align: top;\n",
       "    }\n",
       "\n",
       "    .dataframe thead th {\n",
       "        text-align: right;\n",
       "    }\n",
       "</style>\n",
       "<table border=\"1\" class=\"dataframe\">\n",
       "  <thead>\n",
       "    <tr style=\"text-align: right;\">\n",
       "      <th></th>\n",
       "      <th>Area of house (sq ft)</th>\n",
       "      <th>Number of rooms</th>\n",
       "      <th>Price(in (INR))</th>\n",
       "    </tr>\n",
       "  </thead>\n",
       "  <tbody>\n",
       "    <tr>\n",
       "      <th>0</th>\n",
       "      <td>1360</td>\n",
       "      <td>3</td>\n",
       "      <td>311599</td>\n",
       "    </tr>\n",
       "    <tr>\n",
       "      <th>1</th>\n",
       "      <td>1794</td>\n",
       "      <td>1</td>\n",
       "      <td>400022</td>\n",
       "    </tr>\n",
       "    <tr>\n",
       "      <th>2</th>\n",
       "      <td>1630</td>\n",
       "      <td>4</td>\n",
       "      <td>358837</td>\n",
       "    </tr>\n",
       "    <tr>\n",
       "      <th>3</th>\n",
       "      <td>1595</td>\n",
       "      <td>2</td>\n",
       "      <td>344039</td>\n",
       "    </tr>\n",
       "    <tr>\n",
       "      <th>4</th>\n",
       "      <td>2138</td>\n",
       "      <td>4</td>\n",
       "      <td>479418</td>\n",
       "    </tr>\n",
       "  </tbody>\n",
       "</table>\n",
       "</div>"
      ],
      "text/plain": [
       "   Area of house (sq ft)  Number of rooms  Price(in (INR))\n",
       "0                   1360                3           311599\n",
       "1                   1794                1           400022\n",
       "2                   1630                4           358837\n",
       "3                   1595                2           344039\n",
       "4                   2138                4           479418"
      ]
     },
     "execution_count": 83,
     "metadata": {},
     "output_type": "execute_result"
    }
   ],
   "source": [
    "df = pd.read_csv('house_price_dataset.csv')\n",
    "df.head()"
   ]
  },
  {
   "cell_type": "code",
   "execution_count": 84,
   "metadata": {},
   "outputs": [],
   "source": [
    "X = df.drop('Price(in (INR))'  , axis=1)"
   ]
  },
  {
   "cell_type": "code",
   "execution_count": 85,
   "metadata": {},
   "outputs": [],
   "source": [
    "y = df['Price(in (INR))']"
   ]
  },
  {
   "cell_type": "code",
   "execution_count": 86,
   "metadata": {},
   "outputs": [],
   "source": [
    "from sklearn.preprocessing import StandardScaler\n",
    "\n",
    "scaler = StandardScaler()\n",
    "X = scaler.fit_transform(X)\n",
    "y = scaler.fit_transform(y.values.reshape(-1, 1))"
   ]
  },
  {
   "cell_type": "markdown",
   "metadata": {},
   "source": [
    "## Batch Gradient Descent \n"
   ]
  },
  {
   "cell_type": "code",
   "execution_count": null,
   "metadata": {},
   "outputs": [
    {
     "ename": "SyntaxError",
     "evalue": "invalid syntax (3032144621.py, line 1)",
     "output_type": "error",
     "traceback": [
      "\u001b[1;36m  Cell \u001b[1;32mIn[89], line 1\u001b[1;36m\u001b[0m\n\u001b[1;33m    for i in range 50  :\u001b[0m\n\u001b[1;37m                   ^\u001b[0m\n\u001b[1;31mSyntaxError\u001b[0m\u001b[1;31m:\u001b[0m invalid syntax\n"
     ]
    }
   ],
   "source": [
    "error = 0\n",
    "for i in range (50)  :\n",
    "    y_pred = y\n",
    "    error = \n",
    "    "
   ]
  },
  {
   "cell_type": "code",
   "execution_count": null,
   "metadata": {},
   "outputs": [],
   "source": []
  },
  {
   "cell_type": "code",
   "execution_count": null,
   "metadata": {},
   "outputs": [
    {
     "data": {
      "text/plain": [
       "array([-0.06304768, -1.28373482])"
      ]
     },
     "execution_count": 88,
     "metadata": {},
     "output_type": "execute_result"
    }
   ],
   "source": []
  },
  {
   "cell_type": "code",
   "execution_count": null,
   "metadata": {},
   "outputs": [],
   "source": [
    "def Batch_stchastic_Gradient_Descent(X , y , learning_rate=0.01 , epochs = 100):\n",
    "    m = len(y)\n",
    "    n = X.shape[1]\n",
    "    \n",
    "    weights = np.random.randn(n)\n",
    "    bias = 1\n",
    "    \n",
    "    \n",
    "    for epoch in epochs:\n",
    "        y_pred  = np.dot(X , weights) + bias\n",
    "        error = y_pred - y \n",
    "        \n",
    "        weight_grad = (2 /m) * np.dot(X.T  , error )\n",
    "        bias_grad  =   (2 / m) * np.sum(error)\n",
    "        \n",
    "        update_weights = weights - learning_rate * weight_grad\n",
    "        update_bias = bias - learning_rate * bias_grad\n",
    "        \n",
    "    "
   ]
  },
  {
   "cell_type": "code",
   "execution_count": 87,
   "metadata": {},
   "outputs": [
    {
     "name": "stdout",
     "output_type": "stream",
     "text": [
      "Epoch 1: Cost = 1.1942\n",
      "Epoch 2: Cost = 1.1470\n",
      "Epoch 3: Cost = 1.1016\n",
      "Epoch 4: Cost = 1.0581\n",
      "Epoch 5: Cost = 1.0162\n",
      "Epoch 6: Cost = 0.9761\n",
      "Epoch 7: Cost = 0.9376\n",
      "Epoch 8: Cost = 0.9006\n",
      "Epoch 9: Cost = 0.8650\n",
      "Epoch 10: Cost = 0.8309\n",
      "Epoch 11: Cost = 0.7982\n",
      "Epoch 12: Cost = 0.7667\n",
      "Epoch 13: Cost = 0.7366\n",
      "Epoch 14: Cost = 0.7076\n",
      "Epoch 15: Cost = 0.6798\n",
      "Epoch 16: Cost = 0.6530\n",
      "Epoch 17: Cost = 0.6274\n",
      "Epoch 18: Cost = 0.6028\n",
      "Epoch 19: Cost = 0.5791\n",
      "Epoch 20: Cost = 0.5564\n",
      "Epoch 21: Cost = 0.5347\n",
      "Epoch 22: Cost = 0.5137\n",
      "Epoch 23: Cost = 0.4936\n",
      "Epoch 24: Cost = 0.4744\n",
      "Epoch 25: Cost = 0.4559\n",
      "Epoch 26: Cost = 0.4381\n",
      "Epoch 27: Cost = 0.4210\n",
      "Epoch 28: Cost = 0.4046\n",
      "Epoch 29: Cost = 0.3889\n",
      "Epoch 30: Cost = 0.3738\n",
      "Epoch 31: Cost = 0.3593\n",
      "Epoch 32: Cost = 0.3454\n",
      "Epoch 33: Cost = 0.3320\n",
      "Epoch 34: Cost = 0.3192\n",
      "Epoch 35: Cost = 0.3069\n",
      "Epoch 36: Cost = 0.2951\n",
      "Epoch 37: Cost = 0.2837\n",
      "Epoch 38: Cost = 0.2728\n",
      "Epoch 39: Cost = 0.2623\n",
      "Epoch 40: Cost = 0.2523\n",
      "Epoch 41: Cost = 0.2426\n",
      "Epoch 42: Cost = 0.2334\n",
      "Epoch 43: Cost = 0.2245\n",
      "Epoch 44: Cost = 0.2160\n",
      "Epoch 45: Cost = 0.2078\n",
      "Epoch 46: Cost = 0.1999\n",
      "Epoch 47: Cost = 0.1923\n",
      "Epoch 48: Cost = 0.1851\n",
      "Epoch 49: Cost = 0.1781\n",
      "Epoch 50: Cost = 0.1714\n",
      "Epoch 51: Cost = 0.1650\n",
      "Epoch 52: Cost = 0.1588\n",
      "Epoch 53: Cost = 0.1529\n",
      "Epoch 54: Cost = 0.1473\n",
      "Epoch 55: Cost = 0.1418\n",
      "Epoch 56: Cost = 0.1366\n",
      "Epoch 57: Cost = 0.1315\n",
      "Epoch 58: Cost = 0.1267\n",
      "Epoch 59: Cost = 0.1221\n",
      "Epoch 60: Cost = 0.1176\n",
      "Epoch 61: Cost = 0.1134\n",
      "Epoch 62: Cost = 0.1093\n",
      "Epoch 63: Cost = 0.1053\n",
      "Epoch 64: Cost = 0.1015\n",
      "Epoch 65: Cost = 0.0979\n",
      "Epoch 66: Cost = 0.0944\n",
      "Epoch 67: Cost = 0.0911\n",
      "Epoch 68: Cost = 0.0879\n",
      "Epoch 69: Cost = 0.0848\n",
      "Epoch 70: Cost = 0.0818\n",
      "Epoch 71: Cost = 0.0790\n",
      "Epoch 72: Cost = 0.0763\n",
      "Epoch 73: Cost = 0.0736\n",
      "Epoch 74: Cost = 0.0711\n",
      "Epoch 75: Cost = 0.0687\n",
      "Epoch 76: Cost = 0.0664\n",
      "Epoch 77: Cost = 0.0642\n",
      "Epoch 78: Cost = 0.0620\n",
      "Epoch 79: Cost = 0.0600\n",
      "Epoch 80: Cost = 0.0580\n",
      "Epoch 81: Cost = 0.0561\n",
      "Epoch 82: Cost = 0.0543\n",
      "Epoch 83: Cost = 0.0526\n",
      "Epoch 84: Cost = 0.0509\n",
      "Epoch 85: Cost = 0.0493\n",
      "Epoch 86: Cost = 0.0477\n",
      "Epoch 87: Cost = 0.0463\n",
      "Epoch 88: Cost = 0.0448\n",
      "Epoch 89: Cost = 0.0435\n",
      "Epoch 90: Cost = 0.0422\n",
      "Epoch 91: Cost = 0.0409\n",
      "Epoch 92: Cost = 0.0397\n",
      "Epoch 93: Cost = 0.0385\n",
      "Epoch 94: Cost = 0.0374\n",
      "Epoch 95: Cost = 0.0364\n",
      "Epoch 96: Cost = 0.0353\n",
      "Epoch 97: Cost = 0.0343\n",
      "Epoch 98: Cost = 0.0334\n",
      "Epoch 99: Cost = 0.0325\n",
      "Epoch 100: Cost = 0.0316\n",
      "Optimized weights: [ 0.90972734 -0.06416618]\n",
      "Optimized bias: -1.1841638780651922e-16\n"
     ]
    }
   ],
   "source": [
    "import numpy as np\n",
    "import pandas as pd\n",
    "from sklearn.preprocessing import StandardScaler\n",
    "\n",
    "def gradient_descent(X, y, learning_rate=0.01, epochs=100):\n",
    "    m = len(y)  # Number of data points\n",
    "    n = X.shape[1]  # Number of features\n",
    "\n",
    "    # Initialize weights and bias\n",
    "    weights = np.random.randn(n)  # Random initialization of weights\n",
    "    bias = 0  # Initial bias\n",
    "\n",
    "    # Perform gradient descent\n",
    "    for epoch in range(epochs):\n",
    "        # Calculate predictions\n",
    "        y_pred = np.dot(X, weights) + bias\n",
    "        \n",
    "        # Calculate the error (difference between predicted and actual prices)\n",
    "        error = y_pred - y.flatten()\n",
    "        \n",
    "        # Compute gradients (partial derivatives)\n",
    "        weight_gradients = (2 / m) * np.dot(X.T, error)  # Gradient for weights\n",
    "        bias_gradient = (2 / m) * np.sum(error)  # Gradient for bias\n",
    "\n",
    "        # Update weights and bias using the gradients\n",
    "        weights -= learning_rate * weight_gradients\n",
    "        bias -= learning_rate * bias_gradient\n",
    "\n",
    "        # Print the cost (mean squared error) at every 10th epoch for monitoring\n",
    "       \n",
    "        cost = np.mean(error**2)  # Mean squared error\n",
    "        print(f\"Epoch {epoch + 1}: Cost = {cost:.4f}\")\n",
    "    \n",
    "    return weights, bias\n",
    "\n",
    "\n",
    "weights, bias = gradient_descent(X, y, learning_rate=0.01, epochs=100)\n",
    "\n",
    "print(f\"Optimized weights: {weights}\")\n",
    "print(f\"Optimized bias: {bias}\")\n"
   ]
  }
 ],
 "metadata": {
  "kernelspec": {
   "display_name": "ml_env",
   "language": "python",
   "name": "python3"
  },
  "language_info": {
   "codemirror_mode": {
    "name": "ipython",
    "version": 3
   },
   "file_extension": ".py",
   "mimetype": "text/x-python",
   "name": "python",
   "nbconvert_exporter": "python",
   "pygments_lexer": "ipython3",
   "version": "3.12.6"
  }
 },
 "nbformat": 4,
 "nbformat_minor": 2
}
