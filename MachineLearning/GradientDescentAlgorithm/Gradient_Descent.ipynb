{
 "cells": [
  {
   "cell_type": "code",
   "execution_count": 45,
   "metadata": {},
   "outputs": [],
   "source": [
    "import numpy as np          \n",
    "import pandas as pd             \n"
   ]
  },
  {
   "cell_type": "code",
   "execution_count": 46,
   "metadata": {},
   "outputs": [
    {
     "data": {
      "text/html": [
       "<div>\n",
       "<style scoped>\n",
       "    .dataframe tbody tr th:only-of-type {\n",
       "        vertical-align: middle;\n",
       "    }\n",
       "\n",
       "    .dataframe tbody tr th {\n",
       "        vertical-align: top;\n",
       "    }\n",
       "\n",
       "    .dataframe thead th {\n",
       "        text-align: right;\n",
       "    }\n",
       "</style>\n",
       "<table border=\"1\" class=\"dataframe\">\n",
       "  <thead>\n",
       "    <tr style=\"text-align: right;\">\n",
       "      <th></th>\n",
       "      <th>Area of house (sq ft)</th>\n",
       "      <th>Number of rooms</th>\n",
       "      <th>Price(in (INR))</th>\n",
       "    </tr>\n",
       "  </thead>\n",
       "  <tbody>\n",
       "    <tr>\n",
       "      <th>0</th>\n",
       "      <td>1360</td>\n",
       "      <td>3</td>\n",
       "      <td>311599</td>\n",
       "    </tr>\n",
       "    <tr>\n",
       "      <th>1</th>\n",
       "      <td>1794</td>\n",
       "      <td>1</td>\n",
       "      <td>400022</td>\n",
       "    </tr>\n",
       "    <tr>\n",
       "      <th>2</th>\n",
       "      <td>1630</td>\n",
       "      <td>4</td>\n",
       "      <td>358837</td>\n",
       "    </tr>\n",
       "    <tr>\n",
       "      <th>3</th>\n",
       "      <td>1595</td>\n",
       "      <td>2</td>\n",
       "      <td>344039</td>\n",
       "    </tr>\n",
       "    <tr>\n",
       "      <th>4</th>\n",
       "      <td>2138</td>\n",
       "      <td>4</td>\n",
       "      <td>479418</td>\n",
       "    </tr>\n",
       "  </tbody>\n",
       "</table>\n",
       "</div>"
      ],
      "text/plain": [
       "   Area of house (sq ft)  Number of rooms  Price(in (INR))\n",
       "0                   1360                3           311599\n",
       "1                   1794                1           400022\n",
       "2                   1630                4           358837\n",
       "3                   1595                2           344039\n",
       "4                   2138                4           479418"
      ]
     },
     "execution_count": 46,
     "metadata": {},
     "output_type": "execute_result"
    }
   ],
   "source": [
    "df = pd.read_csv('house_price_dataset.csv')\n",
    "df.head()"
   ]
  },
  {
   "cell_type": "code",
   "execution_count": 47,
   "metadata": {},
   "outputs": [],
   "source": [
    "X = df.drop('Price(in (INR))'  , axis=1)"
   ]
  },
  {
   "cell_type": "code",
   "execution_count": 48,
   "metadata": {},
   "outputs": [],
   "source": [
    "y = df['Price(in (INR))']"
   ]
  },
  {
   "cell_type": "code",
   "execution_count": 49,
   "metadata": {},
   "outputs": [],
   "source": [
    "from sklearn.preprocessing import StandardScaler\n",
    "\n",
    "scaler = StandardScaler()\n",
    "X = scaler.fit_transform(X)\n",
    "y = scaler.fit_transform(y.values.reshape(-1, 1))"
   ]
  },
  {
   "cell_type": "code",
   "execution_count": null,
   "metadata": {},
   "outputs": [
    {
     "ename": "AttributeError",
     "evalue": "'numpy.ndarray' object has no attribute 'values'",
     "output_type": "error",
     "traceback": [
      "\u001b[1;31m---------------------------------------------------------------------------\u001b[0m",
      "\u001b[1;31mAttributeError\u001b[0m                            Traceback (most recent call last)",
      "Cell \u001b[1;32mIn[50], line 9\u001b[0m\n\u001b[0;32m      7\u001b[0m \u001b[38;5;66;03m# Define the dataset\u001b[39;00m\n\u001b[0;32m      8\u001b[0m X \u001b[38;5;241m=\u001b[39m scaler\u001b[38;5;241m.\u001b[39mfit_transform(X)\n\u001b[1;32m----> 9\u001b[0m y \u001b[38;5;241m=\u001b[39m scaler\u001b[38;5;241m.\u001b[39mfit_transform(\u001b[43my\u001b[49m\u001b[38;5;241;43m.\u001b[39;49m\u001b[43mvalues\u001b[49m\u001b[38;5;241m.\u001b[39mreshape(\u001b[38;5;241m-\u001b[39m\u001b[38;5;241m1\u001b[39m, \u001b[38;5;241m1\u001b[39m))\n\u001b[0;32m     11\u001b[0m \u001b[38;5;66;03m# Initialize weights and bias\u001b[39;00m\n\u001b[0;32m     12\u001b[0m weight_matrix \u001b[38;5;241m=\u001b[39m np\u001b[38;5;241m.\u001b[39mrandom\u001b[38;5;241m.\u001b[39mrandn(X\u001b[38;5;241m.\u001b[39mshape[\u001b[38;5;241m1\u001b[39m])  \u001b[38;5;66;03m# Random initialization\u001b[39;00m\n",
      "\u001b[1;31mAttributeError\u001b[0m: 'numpy.ndarray' object has no attribute 'values'"
     ]
    }
   ],
   "source": [
    "import numpy as np\n",
    "from sklearn.preprocessing import StandardScaler\n",
    "import pandas as pd\n",
    "\n",
    "\n",
    "# Separate features and target\n",
    "X = df.drop('Price(in (INR))', axis=1)\n",
    "y = df['Price(in (INR))']\n",
    "\n",
    "# Normalize the data\n",
    "scaler = StandardScaler()\n",
    "\n",
    "# Normalize the features X\n",
    "X = scaler.fit_transform(X)\n",
    "\n",
    "# Normalize the target y\n",
    "y = scaler.fit_transform(y.values.reshape(-1, 1))  # Reshape y to be 2D (required for StandardScaler)\n",
    "\n",
    "# Initialize weights and bias\n",
    "weight_matrix = np.random.randn(X.shape[1])  # Random initialization\n",
    "bias = 0\n",
    "\n",
    "# Define Batch Stochastic Gradient Descent\n",
    "def batch_stochastic_gradient_descent(X, y_target, epochs, learning_rate=0.01, batch_size=2):\n",
    "    \"\"\"\n",
    "    Implements Batch Stochastic Gradient Descent.\n",
    "    \n",
    "    Parameters:\n",
    "        X: np.ndarray - Input features of shape (m, n)\n",
    "        y_target: np.ndarray - Target values of shape (m, 1)\n",
    "        epochs: int - Number of iterations over the dataset\n",
    "        learning_rate: float - Step size for gradient updates\n",
    "        batch_size: int - Size of mini-batches\n",
    "    \n",
    "    Returns:\n",
    "        weight_matrix: np.ndarray - Optimized weights\n",
    "        bias: float - Optimized bias\n",
    "        cost_history: list - Cost at each epoch\n",
    "    \"\"\"\n",
    "    m, n = X.shape  # Number of samples (m) and features (n)\n",
    "    weight_matrix = np.random.randn(n)  # Initialize weights randomly\n",
    "    bias = 0  # Initialize bias as 0\n",
    "    cost_history = []  # To store cost at each epoch\n",
    "    \n",
    "    for epoch in range(epochs):\n",
    "        # Shuffle the data\n",
    "        indices = np.random.permutation(m)\n",
    "        X_shuffled = X[indices]\n",
    "        y_shuffled = y_target[indices]\n",
    "        \n",
    "        for i in range(0, m, batch_size):\n",
    "            # Create mini-batches\n",
    "            X_batch = X_shuffled[i:i + batch_size]\n",
    "            y_batch = y_shuffled[i:i + batch_size]\n",
    "            batch_size_actual = X_batch.shape[0]  # Account for smaller final batch\n",
    "            \n",
    "            # Predictions\n",
    "            y_pred = np.dot(X_batch, weight_matrix) + bias\n",
    "            \n",
    "            # Compute gradients\n",
    "            gradient_weights = -(2 / batch_size_actual) * np.dot(X_batch.T, (y_batch.flatten() - y_pred))\n",
    "            gradient_bias = -(2 / batch_size_actual) * np.sum(y_batch.flatten() - y_pred)\n",
    "            \n",
    "            # Update weights and bias\n",
    "            weight_matrix -= learning_rate * gradient_weights\n",
    "            bias -= learning_rate * gradient_bias\n",
    "        \n",
    "        # Compute cost (Mean Squared Error)\n",
    "        y_pred_full = np.dot(X, weight_matrix) + bias\n",
    "        cost = (1 / m) * np.sum((y_target.flatten() - y_pred_full) ** 2)\n",
    "        cost_history.append(cost)\n",
    "        \n",
    "        # Print progress every 10 epochs\n",
    "        if (epoch + 1) % 10 == 0:\n",
    "            print(f\"Epoch {epoch + 1}/{epochs}, Cost: {cost:.4f}\")\n",
    "    \n",
    "    return weight_matrix, bias, cost_history\n",
    "\n",
    "# Hyperparameters\n",
    "epochs = 100\n",
    "learning_rate = 0.01\n",
    "batch_size = 2\n",
    "\n",
    "# Train the model\n",
    "final_weights, final_bias, cost_history = batch_stochastic_gradient_descent(X, y, epochs, learning_rate, batch_size)\n",
    "\n",
    "print(\"Optimized Weights:\", final_weights)\n",
    "print(\"Optimized Bias:\", final_bias)\n"
   ]
  }
 ],
 "metadata": {
  "kernelspec": {
   "display_name": "ml_env",
   "language": "python",
   "name": "python3"
  },
  "language_info": {
   "codemirror_mode": {
    "name": "ipython",
    "version": 3
   },
   "file_extension": ".py",
   "mimetype": "text/x-python",
   "name": "python",
   "nbconvert_exporter": "python",
   "pygments_lexer": "ipython3",
   "version": "3.12.6"
  }
 },
 "nbformat": 4,
 "nbformat_minor": 2
}
